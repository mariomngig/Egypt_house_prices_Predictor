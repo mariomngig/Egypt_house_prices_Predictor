{
 "cells": [
  {
   "cell_type": "markdown",
   "metadata": {},
   "source": [
    "# Importing the Libraries and the data"
   ]
  },
  {
   "cell_type": "code",
   "execution_count": 52,
   "metadata": {},
   "outputs": [],
   "source": [
    "import pandas as pd \n",
    "import numpy as np\n",
    "import matplotlib.pyplot as plt\n",
    "import seaborn as sns"
   ]
  },
  {
   "cell_type": "code",
   "execution_count": 53,
   "metadata": {},
   "outputs": [
    {
     "data": {
      "text/html": [
       "<div>\n",
       "<style scoped>\n",
       "    .dataframe tbody tr th:only-of-type {\n",
       "        vertical-align: middle;\n",
       "    }\n",
       "\n",
       "    .dataframe tbody tr th {\n",
       "        vertical-align: top;\n",
       "    }\n",
       "\n",
       "    .dataframe thead th {\n",
       "        text-align: right;\n",
       "    }\n",
       "</style>\n",
       "<table border=\"1\" class=\"dataframe\">\n",
       "  <thead>\n",
       "    <tr style=\"text-align: right;\">\n",
       "      <th></th>\n",
       "      <th>Type</th>\n",
       "      <th>Price</th>\n",
       "      <th>Bedrooms</th>\n",
       "      <th>Bathrooms</th>\n",
       "      <th>Area</th>\n",
       "      <th>Furnished</th>\n",
       "      <th>Level</th>\n",
       "      <th>Compound</th>\n",
       "      <th>Payment_Option</th>\n",
       "      <th>Delivery_Date</th>\n",
       "      <th>Delivery_Term</th>\n",
       "      <th>City</th>\n",
       "    </tr>\n",
       "  </thead>\n",
       "  <tbody>\n",
       "    <tr>\n",
       "      <th>0</th>\n",
       "      <td>Duplex</td>\n",
       "      <td>4000000</td>\n",
       "      <td>3.0</td>\n",
       "      <td>3.0</td>\n",
       "      <td>400.0</td>\n",
       "      <td>No</td>\n",
       "      <td>7</td>\n",
       "      <td>Unknown</td>\n",
       "      <td>Cash</td>\n",
       "      <td>Ready to move</td>\n",
       "      <td>Finished</td>\n",
       "      <td>Nasr City</td>\n",
       "    </tr>\n",
       "    <tr>\n",
       "      <th>1</th>\n",
       "      <td>Apartment</td>\n",
       "      <td>4000000</td>\n",
       "      <td>3.0</td>\n",
       "      <td>3.0</td>\n",
       "      <td>160.0</td>\n",
       "      <td>No</td>\n",
       "      <td>10+</td>\n",
       "      <td>Unknown</td>\n",
       "      <td>Cash</td>\n",
       "      <td>Ready to move</td>\n",
       "      <td>Finished</td>\n",
       "      <td>Camp Caesar</td>\n",
       "    </tr>\n",
       "    <tr>\n",
       "      <th>2</th>\n",
       "      <td>Apartment</td>\n",
       "      <td>2250000</td>\n",
       "      <td>3.0</td>\n",
       "      <td>2.0</td>\n",
       "      <td>165.0</td>\n",
       "      <td>No</td>\n",
       "      <td>1</td>\n",
       "      <td>Unknown</td>\n",
       "      <td>Cash</td>\n",
       "      <td>Ready to move</td>\n",
       "      <td>Finished</td>\n",
       "      <td>Smoha</td>\n",
       "    </tr>\n",
       "    <tr>\n",
       "      <th>3</th>\n",
       "      <td>Apartment</td>\n",
       "      <td>1900000</td>\n",
       "      <td>3.0</td>\n",
       "      <td>2.0</td>\n",
       "      <td>230.0</td>\n",
       "      <td>No</td>\n",
       "      <td>10</td>\n",
       "      <td>Unknown</td>\n",
       "      <td>Cash</td>\n",
       "      <td>Ready to move</td>\n",
       "      <td>Finished</td>\n",
       "      <td>Nasr City</td>\n",
       "    </tr>\n",
       "    <tr>\n",
       "      <th>4</th>\n",
       "      <td>Apartment</td>\n",
       "      <td>5800000</td>\n",
       "      <td>2.0</td>\n",
       "      <td>3.0</td>\n",
       "      <td>160.0</td>\n",
       "      <td>No</td>\n",
       "      <td>Ground</td>\n",
       "      <td>Eastown</td>\n",
       "      <td>Cash</td>\n",
       "      <td>Ready to move</td>\n",
       "      <td>Semi Finished</td>\n",
       "      <td>New Cairo - El Tagamoa</td>\n",
       "    </tr>\n",
       "  </tbody>\n",
       "</table>\n",
       "</div>"
      ],
      "text/plain": [
       "        Type    Price Bedrooms Bathrooms   Area Furnished   Level Compound  \\\n",
       "0     Duplex  4000000      3.0       3.0  400.0        No       7  Unknown   \n",
       "1  Apartment  4000000      3.0       3.0  160.0        No     10+  Unknown   \n",
       "2  Apartment  2250000      3.0       2.0  165.0        No       1  Unknown   \n",
       "3  Apartment  1900000      3.0       2.0  230.0        No      10  Unknown   \n",
       "4  Apartment  5800000      2.0       3.0  160.0        No  Ground  Eastown   \n",
       "\n",
       "  Payment_Option  Delivery_Date  Delivery_Term                    City  \n",
       "0           Cash  Ready to move       Finished               Nasr City  \n",
       "1           Cash  Ready to move       Finished             Camp Caesar  \n",
       "2           Cash  Ready to move       Finished                   Smoha  \n",
       "3           Cash  Ready to move       Finished               Nasr City  \n",
       "4           Cash  Ready to move  Semi Finished  New Cairo - El Tagamoa  "
      ]
     },
     "execution_count": 53,
     "metadata": {},
     "output_type": "execute_result"
    }
   ],
   "source": [
    "df = pd.read_csv(\"Egypt_Houses_Price.csv\")\n",
    "df.head(5)"
   ]
  },
  {
   "cell_type": "markdown",
   "metadata": {},
   "source": [
    "# Exploring the Data"
   ]
  },
  {
   "cell_type": "code",
   "execution_count": 54,
   "metadata": {},
   "outputs": [
    {
     "data": {
      "text/plain": [
       "(27361, 12)"
      ]
     },
     "execution_count": 54,
     "metadata": {},
     "output_type": "execute_result"
    }
   ],
   "source": [
    "df.shape"
   ]
  },
  {
   "cell_type": "code",
   "execution_count": 55,
   "metadata": {},
   "outputs": [
    {
     "data": {
      "text/plain": [
       "Type              object\n",
       "Price             object\n",
       "Bedrooms          object\n",
       "Bathrooms         object\n",
       "Area              object\n",
       "Furnished         object\n",
       "Level             object\n",
       "Compound          object\n",
       "Payment_Option    object\n",
       "Delivery_Date     object\n",
       "Delivery_Term     object\n",
       "City              object\n",
       "dtype: object"
      ]
     },
     "execution_count": 55,
     "metadata": {},
     "output_type": "execute_result"
    }
   ],
   "source": [
    "df.dtypes"
   ]
  },
  {
   "cell_type": "code",
   "execution_count": 56,
   "metadata": {},
   "outputs": [
    {
     "data": {
      "text/plain": [
       "Type                0\n",
       "Price               2\n",
       "Bedrooms          203\n",
       "Bathrooms         171\n",
       "Area              471\n",
       "Furnished           0\n",
       "Level               0\n",
       "Compound            0\n",
       "Payment_Option      0\n",
       "Delivery_Date       0\n",
       "Delivery_Term       0\n",
       "City                0\n",
       "dtype: int64"
      ]
     },
     "execution_count": 56,
     "metadata": {},
     "output_type": "execute_result"
    }
   ],
   "source": [
    "df.isnull().sum()"
   ]
  },
  {
   "cell_type": "markdown",
   "metadata": {},
   "source": [
    "Number of null values is low so we can drop them"
   ]
  },
  {
   "cell_type": "code",
   "execution_count": 57,
   "metadata": {},
   "outputs": [
    {
     "data": {
      "text/plain": [
       "Type              0\n",
       "Price             0\n",
       "Bedrooms          0\n",
       "Bathrooms         0\n",
       "Area              0\n",
       "Furnished         0\n",
       "Level             0\n",
       "Compound          0\n",
       "Payment_Option    0\n",
       "Delivery_Date     0\n",
       "Delivery_Term     0\n",
       "City              0\n",
       "dtype: int64"
      ]
     },
     "execution_count": 57,
     "metadata": {},
     "output_type": "execute_result"
    }
   ],
   "source": [
    "df.dropna(inplace=True)\n",
    "df.isnull().sum()"
   ]
  },
  {
   "cell_type": "code",
   "execution_count": 58,
   "metadata": {},
   "outputs": [
    {
     "data": {
      "text/plain": [
       "(26730, 12)"
      ]
     },
     "execution_count": 58,
     "metadata": {},
     "output_type": "execute_result"
    }
   ],
   "source": [
    "df.shape"
   ]
  },
  {
   "cell_type": "markdown",
   "metadata": {},
   "source": [
    "# Data cleaning"
   ]
  },
  {
   "cell_type": "markdown",
   "metadata": {},
   "source": [
    "As we saw the columns of (price , bedrooms , Bathrooms, Area) are objects so lets see why and try to solve this problem"
   ]
  },
  {
   "cell_type": "code",
   "execution_count": 59,
   "metadata": {},
   "outputs": [
    {
     "name": "stdout",
     "output_type": "stream",
     "text": [
      "Price : ['4000000' '2250000' '1900000' ... '6276000' '11950000' '12284000']\n",
      "Bedrooms : ['3.0' '2.0' '4.0' '5.0' '1.0' 'Unknown' '7.0' '6.0' '10+' '3' '2' '5' '4'\n",
      " '1' '6' '7' '8' '10' '9' '9.0' '8.0' '10.0']\n",
      "Bathrooms : ['3.0' '2.0' '5.0' '1.0' '4.0' 'Unknown' '7.0' '10+' '3' '2' '1' '4' '6'\n",
      " '5' '7' '6.0' '10' '8' '9' '8.0' '10.0' '9.0']\n"
     ]
    }
   ],
   "source": [
    "for col in ['Price','Bedrooms','Bathrooms']:\n",
    "    print(f'{col} : {df[col].unique()}')"
   ]
  },
  {
   "cell_type": "code",
   "execution_count": 60,
   "metadata": {},
   "outputs": [
    {
     "data": {
      "text/html": [
       "<div>\n",
       "<style scoped>\n",
       "    .dataframe tbody tr th:only-of-type {\n",
       "        vertical-align: middle;\n",
       "    }\n",
       "\n",
       "    .dataframe tbody tr th {\n",
       "        vertical-align: top;\n",
       "    }\n",
       "\n",
       "    .dataframe thead th {\n",
       "        text-align: right;\n",
       "    }\n",
       "</style>\n",
       "<table border=\"1\" class=\"dataframe\">\n",
       "  <thead>\n",
       "    <tr style=\"text-align: right;\">\n",
       "      <th></th>\n",
       "      <th>Type</th>\n",
       "      <th>Price</th>\n",
       "      <th>Bedrooms</th>\n",
       "      <th>Bathrooms</th>\n",
       "      <th>Area</th>\n",
       "      <th>Furnished</th>\n",
       "      <th>Level</th>\n",
       "      <th>Compound</th>\n",
       "      <th>Payment_Option</th>\n",
       "      <th>Delivery_Date</th>\n",
       "      <th>Delivery_Term</th>\n",
       "      <th>City</th>\n",
       "    </tr>\n",
       "  </thead>\n",
       "  <tbody>\n",
       "    <tr>\n",
       "      <th>1746</th>\n",
       "      <td>Apartment</td>\n",
       "      <td>2000000</td>\n",
       "      <td>10+</td>\n",
       "      <td>10+</td>\n",
       "      <td>550.0</td>\n",
       "      <td>Unknown</td>\n",
       "      <td>5</td>\n",
       "      <td>Unknown</td>\n",
       "      <td>Cash</td>\n",
       "      <td>Ready to move</td>\n",
       "      <td>Semi Finished</td>\n",
       "      <td>New Cairo - El Tagamoa</td>\n",
       "    </tr>\n",
       "  </tbody>\n",
       "</table>\n",
       "</div>"
      ],
      "text/plain": [
       "           Type    Price Bedrooms Bathrooms   Area Furnished Level Compound  \\\n",
       "1746  Apartment  2000000      10+       10+  550.0   Unknown     5  Unknown   \n",
       "\n",
       "     Payment_Option  Delivery_Date  Delivery_Term                    City  \n",
       "1746           Cash  Ready to move  Semi Finished  New Cairo - El Tagamoa  "
      ]
     },
     "execution_count": 60,
     "metadata": {},
     "output_type": "execute_result"
    }
   ],
   "source": [
    "df[df['Bedrooms'] == '10+']"
   ]
  },
  {
   "cell_type": "markdown",
   "metadata": {},
   "source": [
    "There is only 1 row that have the bedrooms and bathroms 10+ so we can drop it with no problem"
   ]
  },
  {
   "cell_type": "code",
   "execution_count": 61,
   "metadata": {},
   "outputs": [],
   "source": [
    "df.drop(df[df['Bedrooms'] == '10+'].index,inplace=True)"
   ]
  },
  {
   "cell_type": "markdown",
   "metadata": {},
   "source": [
    "now lets try to change them to int and float"
   ]
  },
  {
   "cell_type": "code",
   "execution_count": 62,
   "metadata": {},
   "outputs": [
    {
     "ename": "ValueError",
     "evalue": "could not convert string to float: 'Unknown': Error while type casting for column 'Price'",
     "output_type": "error",
     "traceback": [
      "\u001b[1;31m---------------------------------------------------------------------------\u001b[0m",
      "\u001b[1;31mValueError\u001b[0m                                Traceback (most recent call last)",
      "Cell \u001b[1;32mIn[62], line 1\u001b[0m\n\u001b[1;32m----> 1\u001b[0m df \u001b[38;5;241m=\u001b[39m \u001b[43mdf\u001b[49m\u001b[38;5;241;43m.\u001b[39;49m\u001b[43mastype\u001b[49m\u001b[43m(\u001b[49m\u001b[43m{\u001b[49m\u001b[38;5;124;43m'\u001b[39;49m\u001b[38;5;124;43mPrice\u001b[39;49m\u001b[38;5;124;43m'\u001b[39;49m\u001b[43m \u001b[49m\u001b[43m:\u001b[49m\u001b[43m \u001b[49m\u001b[38;5;124;43m'\u001b[39;49m\u001b[38;5;124;43mfloat\u001b[39;49m\u001b[38;5;124;43m'\u001b[39;49m\u001b[43m,\u001b[49m\u001b[43m \u001b[49m\u001b[38;5;124;43m'\u001b[39;49m\u001b[38;5;124;43mBedrooms\u001b[39;49m\u001b[38;5;124;43m'\u001b[39;49m\u001b[43m \u001b[49m\u001b[43m:\u001b[49m\u001b[43m \u001b[49m\u001b[38;5;124;43m'\u001b[39;49m\u001b[38;5;124;43mint\u001b[39;49m\u001b[38;5;124;43m'\u001b[39;49m\u001b[43m \u001b[49m\u001b[43m,\u001b[49m\u001b[43m \u001b[49m\u001b[38;5;124;43m'\u001b[39;49m\u001b[38;5;124;43mBathrooms\u001b[39;49m\u001b[38;5;124;43m'\u001b[39;49m\u001b[43m \u001b[49m\u001b[43m:\u001b[49m\u001b[43m \u001b[49m\u001b[38;5;124;43m'\u001b[39;49m\u001b[38;5;124;43mint\u001b[39;49m\u001b[38;5;124;43m'\u001b[39;49m\u001b[43m \u001b[49m\u001b[43m,\u001b[49m\u001b[43m \u001b[49m\u001b[38;5;124;43m'\u001b[39;49m\u001b[38;5;124;43mArea\u001b[39;49m\u001b[38;5;124;43m'\u001b[39;49m\u001b[43m \u001b[49m\u001b[43m:\u001b[49m\u001b[43m \u001b[49m\u001b[38;5;124;43m'\u001b[39;49m\u001b[38;5;124;43mfloat\u001b[39;49m\u001b[38;5;124;43m'\u001b[39;49m\u001b[43m}\u001b[49m\u001b[43m)\u001b[49m\n\u001b[0;32m      2\u001b[0m df\u001b[38;5;241m.\u001b[39mdtypes\n",
      "File \u001b[1;32mc:\\Users\\dell\\AppData\\Local\\Programs\\Python\\Python311\\Lib\\site-packages\\pandas\\core\\generic.py:6513\u001b[0m, in \u001b[0;36mNDFrame.astype\u001b[1;34m(self, dtype, copy, errors)\u001b[0m\n\u001b[0;32m   6511\u001b[0m \u001b[38;5;28;01melse\u001b[39;00m:\n\u001b[0;32m   6512\u001b[0m     \u001b[38;5;28;01mtry\u001b[39;00m:\n\u001b[1;32m-> 6513\u001b[0m         res_col \u001b[38;5;241m=\u001b[39m \u001b[43mcol\u001b[49m\u001b[38;5;241;43m.\u001b[39;49m\u001b[43mastype\u001b[49m\u001b[43m(\u001b[49m\u001b[43mdtype\u001b[49m\u001b[38;5;241;43m=\u001b[39;49m\u001b[43mcdt\u001b[49m\u001b[43m,\u001b[49m\u001b[43m \u001b[49m\u001b[43mcopy\u001b[49m\u001b[38;5;241;43m=\u001b[39;49m\u001b[43mcopy\u001b[49m\u001b[43m,\u001b[49m\u001b[43m \u001b[49m\u001b[43merrors\u001b[49m\u001b[38;5;241;43m=\u001b[39;49m\u001b[43merrors\u001b[49m\u001b[43m)\u001b[49m\n\u001b[0;32m   6514\u001b[0m     \u001b[38;5;28;01mexcept\u001b[39;00m \u001b[38;5;167;01mValueError\u001b[39;00m \u001b[38;5;28;01mas\u001b[39;00m ex:\n\u001b[0;32m   6515\u001b[0m         ex\u001b[38;5;241m.\u001b[39margs \u001b[38;5;241m=\u001b[39m (\n\u001b[0;32m   6516\u001b[0m             \u001b[38;5;124mf\u001b[39m\u001b[38;5;124m\"\u001b[39m\u001b[38;5;132;01m{\u001b[39;00mex\u001b[38;5;132;01m}\u001b[39;00m\u001b[38;5;124m: Error while type casting for column \u001b[39m\u001b[38;5;124m'\u001b[39m\u001b[38;5;132;01m{\u001b[39;00mcol_name\u001b[38;5;132;01m}\u001b[39;00m\u001b[38;5;124m'\u001b[39m\u001b[38;5;124m\"\u001b[39m,\n\u001b[0;32m   6517\u001b[0m         )\n",
      "File \u001b[1;32mc:\\Users\\dell\\AppData\\Local\\Programs\\Python\\Python311\\Lib\\site-packages\\pandas\\core\\generic.py:6534\u001b[0m, in \u001b[0;36mNDFrame.astype\u001b[1;34m(self, dtype, copy, errors)\u001b[0m\n\u001b[0;32m   6530\u001b[0m     results \u001b[38;5;241m=\u001b[39m [ser\u001b[38;5;241m.\u001b[39mastype(dtype, copy\u001b[38;5;241m=\u001b[39mcopy) \u001b[38;5;28;01mfor\u001b[39;00m _, ser \u001b[38;5;129;01min\u001b[39;00m \u001b[38;5;28mself\u001b[39m\u001b[38;5;241m.\u001b[39mitems()]\n\u001b[0;32m   6532\u001b[0m \u001b[38;5;28;01melse\u001b[39;00m:\n\u001b[0;32m   6533\u001b[0m     \u001b[38;5;66;03m# else, only a single dtype is given\u001b[39;00m\n\u001b[1;32m-> 6534\u001b[0m     new_data \u001b[38;5;241m=\u001b[39m \u001b[38;5;28;43mself\u001b[39;49m\u001b[38;5;241;43m.\u001b[39;49m\u001b[43m_mgr\u001b[49m\u001b[38;5;241;43m.\u001b[39;49m\u001b[43mastype\u001b[49m\u001b[43m(\u001b[49m\u001b[43mdtype\u001b[49m\u001b[38;5;241;43m=\u001b[39;49m\u001b[43mdtype\u001b[49m\u001b[43m,\u001b[49m\u001b[43m \u001b[49m\u001b[43mcopy\u001b[49m\u001b[38;5;241;43m=\u001b[39;49m\u001b[43mcopy\u001b[49m\u001b[43m,\u001b[49m\u001b[43m \u001b[49m\u001b[43merrors\u001b[49m\u001b[38;5;241;43m=\u001b[39;49m\u001b[43merrors\u001b[49m\u001b[43m)\u001b[49m\n\u001b[0;32m   6535\u001b[0m     res \u001b[38;5;241m=\u001b[39m \u001b[38;5;28mself\u001b[39m\u001b[38;5;241m.\u001b[39m_constructor_from_mgr(new_data, axes\u001b[38;5;241m=\u001b[39mnew_data\u001b[38;5;241m.\u001b[39maxes)\n\u001b[0;32m   6536\u001b[0m     \u001b[38;5;28;01mreturn\u001b[39;00m res\u001b[38;5;241m.\u001b[39m__finalize__(\u001b[38;5;28mself\u001b[39m, method\u001b[38;5;241m=\u001b[39m\u001b[38;5;124m\"\u001b[39m\u001b[38;5;124mastype\u001b[39m\u001b[38;5;124m\"\u001b[39m)\n",
      "File \u001b[1;32mc:\\Users\\dell\\AppData\\Local\\Programs\\Python\\Python311\\Lib\\site-packages\\pandas\\core\\internals\\managers.py:414\u001b[0m, in \u001b[0;36mBaseBlockManager.astype\u001b[1;34m(self, dtype, copy, errors)\u001b[0m\n\u001b[0;32m    411\u001b[0m \u001b[38;5;28;01melif\u001b[39;00m using_copy_on_write():\n\u001b[0;32m    412\u001b[0m     copy \u001b[38;5;241m=\u001b[39m \u001b[38;5;28;01mFalse\u001b[39;00m\n\u001b[1;32m--> 414\u001b[0m \u001b[38;5;28;01mreturn\u001b[39;00m \u001b[38;5;28;43mself\u001b[39;49m\u001b[38;5;241;43m.\u001b[39;49m\u001b[43mapply\u001b[49m\u001b[43m(\u001b[49m\n\u001b[0;32m    415\u001b[0m \u001b[43m    \u001b[49m\u001b[38;5;124;43m\"\u001b[39;49m\u001b[38;5;124;43mastype\u001b[39;49m\u001b[38;5;124;43m\"\u001b[39;49m\u001b[43m,\u001b[49m\n\u001b[0;32m    416\u001b[0m \u001b[43m    \u001b[49m\u001b[43mdtype\u001b[49m\u001b[38;5;241;43m=\u001b[39;49m\u001b[43mdtype\u001b[49m\u001b[43m,\u001b[49m\n\u001b[0;32m    417\u001b[0m \u001b[43m    \u001b[49m\u001b[43mcopy\u001b[49m\u001b[38;5;241;43m=\u001b[39;49m\u001b[43mcopy\u001b[49m\u001b[43m,\u001b[49m\n\u001b[0;32m    418\u001b[0m \u001b[43m    \u001b[49m\u001b[43merrors\u001b[49m\u001b[38;5;241;43m=\u001b[39;49m\u001b[43merrors\u001b[49m\u001b[43m,\u001b[49m\n\u001b[0;32m    419\u001b[0m \u001b[43m    \u001b[49m\u001b[43musing_cow\u001b[49m\u001b[38;5;241;43m=\u001b[39;49m\u001b[43musing_copy_on_write\u001b[49m\u001b[43m(\u001b[49m\u001b[43m)\u001b[49m\u001b[43m,\u001b[49m\n\u001b[0;32m    420\u001b[0m \u001b[43m\u001b[49m\u001b[43m)\u001b[49m\n",
      "File \u001b[1;32mc:\\Users\\dell\\AppData\\Local\\Programs\\Python\\Python311\\Lib\\site-packages\\pandas\\core\\internals\\managers.py:354\u001b[0m, in \u001b[0;36mBaseBlockManager.apply\u001b[1;34m(self, f, align_keys, **kwargs)\u001b[0m\n\u001b[0;32m    352\u001b[0m         applied \u001b[38;5;241m=\u001b[39m b\u001b[38;5;241m.\u001b[39mapply(f, \u001b[38;5;241m*\u001b[39m\u001b[38;5;241m*\u001b[39mkwargs)\n\u001b[0;32m    353\u001b[0m     \u001b[38;5;28;01melse\u001b[39;00m:\n\u001b[1;32m--> 354\u001b[0m         applied \u001b[38;5;241m=\u001b[39m \u001b[38;5;28;43mgetattr\u001b[39;49m\u001b[43m(\u001b[49m\u001b[43mb\u001b[49m\u001b[43m,\u001b[49m\u001b[43m \u001b[49m\u001b[43mf\u001b[49m\u001b[43m)\u001b[49m\u001b[43m(\u001b[49m\u001b[38;5;241;43m*\u001b[39;49m\u001b[38;5;241;43m*\u001b[39;49m\u001b[43mkwargs\u001b[49m\u001b[43m)\u001b[49m\n\u001b[0;32m    355\u001b[0m     result_blocks \u001b[38;5;241m=\u001b[39m extend_blocks(applied, result_blocks)\n\u001b[0;32m    357\u001b[0m out \u001b[38;5;241m=\u001b[39m \u001b[38;5;28mtype\u001b[39m(\u001b[38;5;28mself\u001b[39m)\u001b[38;5;241m.\u001b[39mfrom_blocks(result_blocks, \u001b[38;5;28mself\u001b[39m\u001b[38;5;241m.\u001b[39maxes)\n",
      "File \u001b[1;32mc:\\Users\\dell\\AppData\\Local\\Programs\\Python\\Python311\\Lib\\site-packages\\pandas\\core\\internals\\blocks.py:616\u001b[0m, in \u001b[0;36mBlock.astype\u001b[1;34m(self, dtype, copy, errors, using_cow)\u001b[0m\n\u001b[0;32m    596\u001b[0m \u001b[38;5;250m\u001b[39m\u001b[38;5;124;03m\"\"\"\u001b[39;00m\n\u001b[0;32m    597\u001b[0m \u001b[38;5;124;03mCoerce to the new dtype.\u001b[39;00m\n\u001b[0;32m    598\u001b[0m \n\u001b[1;32m   (...)\u001b[0m\n\u001b[0;32m    612\u001b[0m \u001b[38;5;124;03mBlock\u001b[39;00m\n\u001b[0;32m    613\u001b[0m \u001b[38;5;124;03m\"\"\"\u001b[39;00m\n\u001b[0;32m    614\u001b[0m values \u001b[38;5;241m=\u001b[39m \u001b[38;5;28mself\u001b[39m\u001b[38;5;241m.\u001b[39mvalues\n\u001b[1;32m--> 616\u001b[0m new_values \u001b[38;5;241m=\u001b[39m \u001b[43mastype_array_safe\u001b[49m\u001b[43m(\u001b[49m\u001b[43mvalues\u001b[49m\u001b[43m,\u001b[49m\u001b[43m \u001b[49m\u001b[43mdtype\u001b[49m\u001b[43m,\u001b[49m\u001b[43m \u001b[49m\u001b[43mcopy\u001b[49m\u001b[38;5;241;43m=\u001b[39;49m\u001b[43mcopy\u001b[49m\u001b[43m,\u001b[49m\u001b[43m \u001b[49m\u001b[43merrors\u001b[49m\u001b[38;5;241;43m=\u001b[39;49m\u001b[43merrors\u001b[49m\u001b[43m)\u001b[49m\n\u001b[0;32m    618\u001b[0m new_values \u001b[38;5;241m=\u001b[39m maybe_coerce_values(new_values)\n\u001b[0;32m    620\u001b[0m refs \u001b[38;5;241m=\u001b[39m \u001b[38;5;28;01mNone\u001b[39;00m\n",
      "File \u001b[1;32mc:\\Users\\dell\\AppData\\Local\\Programs\\Python\\Python311\\Lib\\site-packages\\pandas\\core\\dtypes\\astype.py:238\u001b[0m, in \u001b[0;36mastype_array_safe\u001b[1;34m(values, dtype, copy, errors)\u001b[0m\n\u001b[0;32m    235\u001b[0m     dtype \u001b[38;5;241m=\u001b[39m dtype\u001b[38;5;241m.\u001b[39mnumpy_dtype\n\u001b[0;32m    237\u001b[0m \u001b[38;5;28;01mtry\u001b[39;00m:\n\u001b[1;32m--> 238\u001b[0m     new_values \u001b[38;5;241m=\u001b[39m \u001b[43mastype_array\u001b[49m\u001b[43m(\u001b[49m\u001b[43mvalues\u001b[49m\u001b[43m,\u001b[49m\u001b[43m \u001b[49m\u001b[43mdtype\u001b[49m\u001b[43m,\u001b[49m\u001b[43m \u001b[49m\u001b[43mcopy\u001b[49m\u001b[38;5;241;43m=\u001b[39;49m\u001b[43mcopy\u001b[49m\u001b[43m)\u001b[49m\n\u001b[0;32m    239\u001b[0m \u001b[38;5;28;01mexcept\u001b[39;00m (\u001b[38;5;167;01mValueError\u001b[39;00m, \u001b[38;5;167;01mTypeError\u001b[39;00m):\n\u001b[0;32m    240\u001b[0m     \u001b[38;5;66;03m# e.g. _astype_nansafe can fail on object-dtype of strings\u001b[39;00m\n\u001b[0;32m    241\u001b[0m     \u001b[38;5;66;03m#  trying to convert to float\u001b[39;00m\n\u001b[0;32m    242\u001b[0m     \u001b[38;5;28;01mif\u001b[39;00m errors \u001b[38;5;241m==\u001b[39m \u001b[38;5;124m\"\u001b[39m\u001b[38;5;124mignore\u001b[39m\u001b[38;5;124m\"\u001b[39m:\n",
      "File \u001b[1;32mc:\\Users\\dell\\AppData\\Local\\Programs\\Python\\Python311\\Lib\\site-packages\\pandas\\core\\dtypes\\astype.py:183\u001b[0m, in \u001b[0;36mastype_array\u001b[1;34m(values, dtype, copy)\u001b[0m\n\u001b[0;32m    180\u001b[0m     values \u001b[38;5;241m=\u001b[39m values\u001b[38;5;241m.\u001b[39mastype(dtype, copy\u001b[38;5;241m=\u001b[39mcopy)\n\u001b[0;32m    182\u001b[0m \u001b[38;5;28;01melse\u001b[39;00m:\n\u001b[1;32m--> 183\u001b[0m     values \u001b[38;5;241m=\u001b[39m \u001b[43m_astype_nansafe\u001b[49m\u001b[43m(\u001b[49m\u001b[43mvalues\u001b[49m\u001b[43m,\u001b[49m\u001b[43m \u001b[49m\u001b[43mdtype\u001b[49m\u001b[43m,\u001b[49m\u001b[43m \u001b[49m\u001b[43mcopy\u001b[49m\u001b[38;5;241;43m=\u001b[39;49m\u001b[43mcopy\u001b[49m\u001b[43m)\u001b[49m\n\u001b[0;32m    185\u001b[0m \u001b[38;5;66;03m# in pandas we don't store numpy str dtypes, so convert to object\u001b[39;00m\n\u001b[0;32m    186\u001b[0m \u001b[38;5;28;01mif\u001b[39;00m \u001b[38;5;28misinstance\u001b[39m(dtype, np\u001b[38;5;241m.\u001b[39mdtype) \u001b[38;5;129;01mand\u001b[39;00m \u001b[38;5;28missubclass\u001b[39m(values\u001b[38;5;241m.\u001b[39mdtype\u001b[38;5;241m.\u001b[39mtype, \u001b[38;5;28mstr\u001b[39m):\n",
      "File \u001b[1;32mc:\\Users\\dell\\AppData\\Local\\Programs\\Python\\Python311\\Lib\\site-packages\\pandas\\core\\dtypes\\astype.py:134\u001b[0m, in \u001b[0;36m_astype_nansafe\u001b[1;34m(arr, dtype, copy, skipna)\u001b[0m\n\u001b[0;32m    130\u001b[0m     \u001b[38;5;28;01mraise\u001b[39;00m \u001b[38;5;167;01mValueError\u001b[39;00m(msg)\n\u001b[0;32m    132\u001b[0m \u001b[38;5;28;01mif\u001b[39;00m copy \u001b[38;5;129;01mor\u001b[39;00m arr\u001b[38;5;241m.\u001b[39mdtype \u001b[38;5;241m==\u001b[39m \u001b[38;5;28mobject\u001b[39m \u001b[38;5;129;01mor\u001b[39;00m dtype \u001b[38;5;241m==\u001b[39m \u001b[38;5;28mobject\u001b[39m:\n\u001b[0;32m    133\u001b[0m     \u001b[38;5;66;03m# Explicit copy, or required since NumPy can't view from / to object.\u001b[39;00m\n\u001b[1;32m--> 134\u001b[0m     \u001b[38;5;28;01mreturn\u001b[39;00m \u001b[43marr\u001b[49m\u001b[38;5;241;43m.\u001b[39;49m\u001b[43mastype\u001b[49m\u001b[43m(\u001b[49m\u001b[43mdtype\u001b[49m\u001b[43m,\u001b[49m\u001b[43m \u001b[49m\u001b[43mcopy\u001b[49m\u001b[38;5;241;43m=\u001b[39;49m\u001b[38;5;28;43;01mTrue\u001b[39;49;00m\u001b[43m)\u001b[49m\n\u001b[0;32m    136\u001b[0m \u001b[38;5;28;01mreturn\u001b[39;00m arr\u001b[38;5;241m.\u001b[39mastype(dtype, copy\u001b[38;5;241m=\u001b[39mcopy)\n",
      "\u001b[1;31mValueError\u001b[0m: could not convert string to float: 'Unknown': Error while type casting for column 'Price'"
     ]
    }
   ],
   "source": [
    "df = df.astype({'Price' : 'float', 'Bedrooms' : 'int' , 'Bathrooms' : 'int' , 'Area' : 'float'})\n",
    "df.dtypes"
   ]
  },
  {
   "cell_type": "markdown",
   "metadata": {},
   "source": [
    "as we see there is a problem in the price that it have rows with unknown value so we will drop them as the price is our target"
   ]
  },
  {
   "cell_type": "code",
   "execution_count": 63,
   "metadata": {},
   "outputs": [
    {
     "data": {
      "text/plain": [
       "(26692, 12)"
      ]
     },
     "execution_count": 63,
     "metadata": {},
     "output_type": "execute_result"
    }
   ],
   "source": [
    "df = df[df['Price'] != 'Unknown']\n",
    "df.shape"
   ]
  },
  {
   "cell_type": "markdown",
   "metadata": {},
   "source": [
    "now lets try to change the type again"
   ]
  },
  {
   "cell_type": "code",
   "execution_count": 64,
   "metadata": {},
   "outputs": [
    {
     "data": {
      "text/plain": [
       "Type               object\n",
       "Price             float64\n",
       "Bedrooms          float64\n",
       "Bathrooms         float64\n",
       "Area              float64\n",
       "Furnished          object\n",
       "Level              object\n",
       "Compound           object\n",
       "Payment_Option     object\n",
       "Delivery_Date      object\n",
       "Delivery_Term      object\n",
       "City               object\n",
       "dtype: object"
      ]
     },
     "execution_count": 64,
     "metadata": {},
     "output_type": "execute_result"
    }
   ],
   "source": [
    "df = df.astype({'Price' : 'float', 'Bedrooms' : 'float' , 'Bathrooms' : 'float' , 'Area' : 'float'})\n",
    "df.dtypes"
   ]
  },
  {
   "cell_type": "markdown",
   "metadata": {},
   "source": [
    "Amazing!! it worked let's continue"
   ]
  },
  {
   "cell_type": "markdown",
   "metadata": {},
   "source": [
    "I am thinking about removing the compound and delivery_term columns but at first let's check if they are correlated to our target"
   ]
  },
  {
   "cell_type": "code",
   "execution_count": 65,
   "metadata": {},
   "outputs": [
    {
     "data": {
      "text/plain": [
       "-0.11513106540309359"
      ]
     },
     "execution_count": 65,
     "metadata": {},
     "output_type": "execute_result"
    }
   ],
   "source": [
    "df['Compound'].astype('category').cat.codes.corr(df['Price'])"
   ]
  },
  {
   "cell_type": "code",
   "execution_count": 66,
   "metadata": {},
   "outputs": [
    {
     "data": {
      "text/plain": [
       "-0.020522557085531905"
      ]
     },
     "execution_count": 66,
     "metadata": {},
     "output_type": "execute_result"
    }
   ],
   "source": [
    "df['Delivery_Term'].astype('category').cat.codes.corr(df['Price'])"
   ]
  },
  {
   "cell_type": "markdown",
   "metadata": {},
   "source": [
    "Since they are not correlated to our target we can drop them "
   ]
  },
  {
   "cell_type": "code",
   "execution_count": 67,
   "metadata": {},
   "outputs": [],
   "source": [
    "df.drop(['Compound','Delivery_Term'],axis='columns',inplace=True)"
   ]
  },
  {
   "cell_type": "markdown",
   "metadata": {},
   "source": [
    "Now let's see unique values of other columns in our data"
   ]
  },
  {
   "cell_type": "code",
   "execution_count": 68,
   "metadata": {},
   "outputs": [
    {
     "name": "stdout",
     "output_type": "stream",
     "text": [
      "Type : ['Duplex' 'Apartment' 'Penthouse' 'Studio' 'Chalet' 'Standalone Villa'\n",
      " 'Twin house' 'Town House' 'Stand Alone Villa' 'Twin House']\n",
      "Furnished : ['No' 'Unknown' 'Yes']\n",
      "Level : ['7' '10+' '1' '10' 'Ground' 'Highest' '3' '2' '4' '9' '5' '8' '6'\n",
      " 'Unknown']\n",
      "Payment_Option : ['Cash' 'Cash or Installment' 'Unknown Payment' 'Installment']\n",
      "Delivery_Date : ['Ready to move' '2024' 'Unknown' '2023' 'soon' '2025' 'within 6 months'\n",
      " '2022' '2026' '2027']\n",
      "City : ['Nasr City' 'Camp Caesar' 'Smoha' 'New Cairo - El Tagamoa' 'Sheikh Zayed'\n",
      " 'Shorouk City' 'Sidi Beshr' 'Gesr Al Suez' 'Mokattam' 'New Capital City'\n",
      " 'New Damietta' 'Zahraa Al Maadi' '6th of October' 'Mansura'\n",
      " 'New Heliopolis' 'Kafr al-Sheikh City' 'Badr City' 'Sporting' 'Imbaba'\n",
      " 'Gamasa' 'Borg al-Arab' 'Mohandessin' 'Glim' 'Ain Sukhna' 'Abasiya'\n",
      " 'Fleming' 'Maadi' 'Hadayek 6th of October' 'Madinaty' 'Haram'\n",
      " 'Damietta City' 'Ismailia City' '10th of Ramadan' 'Heliopolis'\n",
      " 'Rehab City' 'Dar al-Salaam' 'Hadayek al-Ahram' 'North Coast' 'Nakheel'\n",
      " 'Bacchus' 'Obour City' 'Hurghada' 'Agouza' 'Tanta' 'Tura'\n",
      " 'Faisal District' 'Mandara' 'Helmeyat El Zaytoun' 'Katameya' 'Alamein'\n",
      " 'Qasr al-Nil' 'Miami' 'Hadayek al-Kobba' 'Tersa' 'Mostakbal City' 'Agami'\n",
      " 'Ras al-Bar' 'Port Fouad' 'Salam City' 'Aswan City' 'Helwan' 'Bolkly'\n",
      " '15 May City' 'Maamoura' 'Seyouf' 'Sharq District' 'Ain Shams'\n",
      " 'Sidi Gaber' 'Shubra al-Khaimah' 'Laurent' 'Manakh District'\n",
      " 'Al Ibrahimiyyah' 'Cleopatra' 'Talkha' 'New Nozha' 'New Mansoura'\n",
      " 'Manshiyya' 'Dokki' 'Suez District' 'Sheraton' 'Matareya' 'Faisal'\n",
      " 'Roushdy' 'Al Hadrah' 'Zagazig' 'Moharam Bik' 'San Stefano'\n",
      " 'Bahray - Anfoshy' 'Al Manial' 'Sahl Hasheesh' 'West Somid' 'Gianaclis'\n",
      " 'Asafra' 'Garden City' 'Gouna' 'Zamalek' 'Minya City' 'Shubra'\n",
      " 'Marsa Matrouh' 'Giza District' 'Almazah' 'Saba Pasha' 'Kafr Abdo'\n",
      " 'Asyut City' 'Rod al-Farag' 'Azarita' 'Boulaq' 'Sayeda Zeinab' 'Montazah'\n",
      " 'Zezenia' 'Shatby' 'Markaz Sohag' 'El Fostat' 'Ezbet El Nakhl'\n",
      " 'Downtown Cairo' 'Mahalla al-Kobra' 'Warraq' 'Kit Kat' 'Boulaq Dakrour'\n",
      " 'Mit Ghamr' 'Beni Suef City' 'Maryotaya' 'Schutz' 'Khanka' 'Stanley'\n",
      " 'Zohour District' 'Al Amiriyyah' 'Dhahria' 'Hadayek Helwan' 'Damanhour'\n",
      " 'Amreya' 'Masr al-Kadema' 'Dawahy District' 'Shebin al-Koum' 'Qena City'\n",
      " 'Sharabeya' 'Minya al-Qamh' 'Abu Talat' 'Sharm al-Sheikh' 'Banha'\n",
      " 'Hammam' 'Awayed' 'Gomrok' 'Arab District' 'Manzala' 'New Beni Suef'\n",
      " 'Kafr al-Dawwar' 'Qalyub' 'Raml Station' 'Arbaeen' 'Darb al-Ahmar'\n",
      " 'Abu Qir' 'Quesna' 'Ard El Lewa' 'Safaga' 'Victoria' 'Attarin'\n",
      " 'Saft El Laban' 'El Max' 'Zawya al-Hamra' 'Attaka'\n",
      " 'Ramses + Ramses Extension' 'Khosous' 'Markaz al-Giza' 'Ras Sedr' 'Fayed'\n",
      " 'Dabaa' 'Ganoub District' 'Sadat' 'Aga' '(View phone number)' 'Ataba'\n",
      " 'New Minya' 'Kabbary' 'Qanater al-Khairia' 'Bella' 'Kafr Shukr'\n",
      " 'Abu Rawash']\n"
     ]
    }
   ],
   "source": [
    "for col in df.drop(['Area','Price','Bedrooms','Bathrooms'],axis='columns').columns:\n",
    "    print(f'{col} : {df[col].unique()}')"
   ]
  },
  {
   "cell_type": "markdown",
   "metadata": {},
   "source": [
    "## 'Type' column cleaning"
   ]
  },
  {
   "cell_type": "markdown",
   "metadata": {},
   "source": [
    "as we saw not all the data in the same case so lets convert them to lower"
   ]
  },
  {
   "cell_type": "code",
   "execution_count": 69,
   "metadata": {},
   "outputs": [
    {
     "data": {
      "text/plain": [
       "array(['duplex', 'apartment', 'penthouse', 'studio', 'chalet',\n",
       "       'standalone villa', 'twin house', 'town house',\n",
       "       'stand alone villa'], dtype=object)"
      ]
     },
     "execution_count": 69,
     "metadata": {},
     "output_type": "execute_result"
    }
   ],
   "source": [
    "df['Type'] = df['Type'].apply(lambda x : x.lower())\n",
    "df['Type'].unique()"
   ]
  },
  {
   "cell_type": "markdown",
   "metadata": {},
   "source": [
    "we have 'standalone villa' and 'stand alone villa' which are the same type so lets make them in the shape of 'standalone villa'"
   ]
  },
  {
   "cell_type": "code",
   "execution_count": 70,
   "metadata": {},
   "outputs": [
    {
     "data": {
      "text/plain": [
       "array(['duplex', 'apartment', 'penthouse', 'studio', 'chalet',\n",
       "       'standalone villa', 'twin house', 'town house'], dtype=object)"
      ]
     },
     "execution_count": 70,
     "metadata": {},
     "output_type": "execute_result"
    }
   ],
   "source": [
    "df['Type'] = df['Type'].str.replace('stand alone villa','standalone villa')\n",
    "df['Type'].unique()"
   ]
  },
  {
   "cell_type": "markdown",
   "metadata": {},
   "source": [
    "Now let's see the value counts of this columns"
   ]
  },
  {
   "cell_type": "code",
   "execution_count": 71,
   "metadata": {},
   "outputs": [
    {
     "data": {
      "text/plain": [
       "Type\n",
       "apartment           8498\n",
       "chalet              6589\n",
       "standalone villa    4633\n",
       "town house          3067\n",
       "twin house          2270\n",
       "duplex               860\n",
       "penthouse            526\n",
       "studio               249\n",
       "Name: count, dtype: int64"
      ]
     },
     "execution_count": 71,
     "metadata": {},
     "output_type": "execute_result"
    }
   ],
   "source": [
    "df['Type'].value_counts()"
   ]
  },
  {
   "cell_type": "markdown",
   "metadata": {},
   "source": [
    "Penthouse and studio are small compared to other types and also in egypt we don't have much of these houses types so lets drop them"
   ]
  },
  {
   "cell_type": "code",
   "execution_count": 72,
   "metadata": {},
   "outputs": [],
   "source": [
    "df.drop(df[(df['Type'] == 'penthouse')|(df['Type'] == 'studio')].index,inplace=True)"
   ]
  },
  {
   "cell_type": "code",
   "execution_count": 73,
   "metadata": {},
   "outputs": [
    {
     "data": {
      "text/plain": [
       "Type\n",
       "apartment           8498\n",
       "chalet              6589\n",
       "standalone villa    4633\n",
       "town house          3067\n",
       "twin house          2270\n",
       "duplex               860\n",
       "Name: count, dtype: int64"
      ]
     },
     "execution_count": 73,
     "metadata": {},
     "output_type": "execute_result"
    }
   ],
   "source": [
    "df['Type'].value_counts()"
   ]
  },
  {
   "cell_type": "markdown",
   "metadata": {},
   "source": [
    "## 'Level' column cleaning"
   ]
  },
  {
   "cell_type": "code",
   "execution_count": 74,
   "metadata": {},
   "outputs": [
    {
     "data": {
      "text/plain": [
       "array(['7', '10+', '1', '10', 'Ground', 'Highest', '3', '2', '9', '4',\n",
       "       '5', '8', '6', 'Unknown'], dtype=object)"
      ]
     },
     "execution_count": 74,
     "metadata": {},
     "output_type": "execute_result"
    }
   ],
   "source": [
    "df.Level.unique()"
   ]
  },
  {
   "cell_type": "markdown",
   "metadata": {},
   "source": [
    "At first lets see the unknown levels"
   ]
  },
  {
   "cell_type": "code",
   "execution_count": 75,
   "metadata": {},
   "outputs": [
    {
     "data": {
      "text/html": [
       "<div>\n",
       "<style scoped>\n",
       "    .dataframe tbody tr th:only-of-type {\n",
       "        vertical-align: middle;\n",
       "    }\n",
       "\n",
       "    .dataframe tbody tr th {\n",
       "        vertical-align: top;\n",
       "    }\n",
       "\n",
       "    .dataframe thead th {\n",
       "        text-align: right;\n",
       "    }\n",
       "</style>\n",
       "<table border=\"1\" class=\"dataframe\">\n",
       "  <thead>\n",
       "    <tr style=\"text-align: right;\">\n",
       "      <th></th>\n",
       "      <th>Type</th>\n",
       "      <th>Price</th>\n",
       "      <th>Bedrooms</th>\n",
       "      <th>Bathrooms</th>\n",
       "      <th>Area</th>\n",
       "      <th>Furnished</th>\n",
       "      <th>Level</th>\n",
       "      <th>Payment_Option</th>\n",
       "      <th>Delivery_Date</th>\n",
       "      <th>City</th>\n",
       "    </tr>\n",
       "  </thead>\n",
       "  <tbody>\n",
       "    <tr>\n",
       "      <th>9585</th>\n",
       "      <td>chalet</td>\n",
       "      <td>110000.0</td>\n",
       "      <td>2.0</td>\n",
       "      <td>1.0</td>\n",
       "      <td>58.0</td>\n",
       "      <td>Unknown</td>\n",
       "      <td>Unknown</td>\n",
       "      <td>Cash or Installment</td>\n",
       "      <td>Unknown</td>\n",
       "      <td>Alamein</td>\n",
       "    </tr>\n",
       "    <tr>\n",
       "      <th>9587</th>\n",
       "      <td>chalet</td>\n",
       "      <td>2800000.0</td>\n",
       "      <td>2.0</td>\n",
       "      <td>2.0</td>\n",
       "      <td>115.0</td>\n",
       "      <td>Unknown</td>\n",
       "      <td>Unknown</td>\n",
       "      <td>Cash or Installment</td>\n",
       "      <td>Unknown</td>\n",
       "      <td>North Coast</td>\n",
       "    </tr>\n",
       "    <tr>\n",
       "      <th>9589</th>\n",
       "      <td>chalet</td>\n",
       "      <td>1552000.0</td>\n",
       "      <td>3.0</td>\n",
       "      <td>3.0</td>\n",
       "      <td>115.0</td>\n",
       "      <td>No</td>\n",
       "      <td>Unknown</td>\n",
       "      <td>Cash or Installment</td>\n",
       "      <td>Unknown</td>\n",
       "      <td>North Coast</td>\n",
       "    </tr>\n",
       "    <tr>\n",
       "      <th>9594</th>\n",
       "      <td>chalet</td>\n",
       "      <td>14000000.0</td>\n",
       "      <td>3.0</td>\n",
       "      <td>3.0</td>\n",
       "      <td>145.0</td>\n",
       "      <td>Unknown</td>\n",
       "      <td>Unknown</td>\n",
       "      <td>Cash</td>\n",
       "      <td>Unknown</td>\n",
       "      <td>North Coast</td>\n",
       "    </tr>\n",
       "    <tr>\n",
       "      <th>9596</th>\n",
       "      <td>standalone villa</td>\n",
       "      <td>30750000.0</td>\n",
       "      <td>4.0</td>\n",
       "      <td>4.0</td>\n",
       "      <td>462.0</td>\n",
       "      <td>Unknown</td>\n",
       "      <td>Unknown</td>\n",
       "      <td>Unknown Payment</td>\n",
       "      <td>Ready to move</td>\n",
       "      <td>Marsa Matrouh</td>\n",
       "    </tr>\n",
       "    <tr>\n",
       "      <th>...</th>\n",
       "      <td>...</td>\n",
       "      <td>...</td>\n",
       "      <td>...</td>\n",
       "      <td>...</td>\n",
       "      <td>...</td>\n",
       "      <td>...</td>\n",
       "      <td>...</td>\n",
       "      <td>...</td>\n",
       "      <td>...</td>\n",
       "      <td>...</td>\n",
       "    </tr>\n",
       "    <tr>\n",
       "      <th>27355</th>\n",
       "      <td>standalone villa</td>\n",
       "      <td>4800000.0</td>\n",
       "      <td>4.0</td>\n",
       "      <td>3.0</td>\n",
       "      <td>165.0</td>\n",
       "      <td>Unknown</td>\n",
       "      <td>Unknown</td>\n",
       "      <td>Cash or Installment</td>\n",
       "      <td>Unknown</td>\n",
       "      <td>New Cairo - El Tagamoa</td>\n",
       "    </tr>\n",
       "    <tr>\n",
       "      <th>27356</th>\n",
       "      <td>town house</td>\n",
       "      <td>890000.0</td>\n",
       "      <td>3.0</td>\n",
       "      <td>2.0</td>\n",
       "      <td>240.0</td>\n",
       "      <td>Unknown</td>\n",
       "      <td>Unknown</td>\n",
       "      <td>Unknown Payment</td>\n",
       "      <td>Unknown</td>\n",
       "      <td>North Coast</td>\n",
       "    </tr>\n",
       "    <tr>\n",
       "      <th>27357</th>\n",
       "      <td>town house</td>\n",
       "      <td>4000000.0</td>\n",
       "      <td>4.0</td>\n",
       "      <td>3.0</td>\n",
       "      <td>218.0</td>\n",
       "      <td>Unknown</td>\n",
       "      <td>Unknown</td>\n",
       "      <td>Cash or Installment</td>\n",
       "      <td>Unknown</td>\n",
       "      <td>New Cairo - El Tagamoa</td>\n",
       "    </tr>\n",
       "    <tr>\n",
       "      <th>27358</th>\n",
       "      <td>twin house</td>\n",
       "      <td>13800000.0</td>\n",
       "      <td>3.0</td>\n",
       "      <td>4.0</td>\n",
       "      <td>308.0</td>\n",
       "      <td>No</td>\n",
       "      <td>Unknown</td>\n",
       "      <td>Cash</td>\n",
       "      <td>Ready to move</td>\n",
       "      <td>New Cairo - El Tagamoa</td>\n",
       "    </tr>\n",
       "    <tr>\n",
       "      <th>27359</th>\n",
       "      <td>standalone villa</td>\n",
       "      <td>35000000.0</td>\n",
       "      <td>4.0</td>\n",
       "      <td>4.0</td>\n",
       "      <td>478.0</td>\n",
       "      <td>Unknown</td>\n",
       "      <td>Unknown</td>\n",
       "      <td>Unknown Payment</td>\n",
       "      <td>Unknown</td>\n",
       "      <td>Mokattam</td>\n",
       "    </tr>\n",
       "  </tbody>\n",
       "</table>\n",
       "<p>9758 rows × 10 columns</p>\n",
       "</div>"
      ],
      "text/plain": [
       "                   Type       Price  Bedrooms  Bathrooms   Area Furnished  \\\n",
       "9585             chalet    110000.0       2.0        1.0   58.0   Unknown   \n",
       "9587             chalet   2800000.0       2.0        2.0  115.0   Unknown   \n",
       "9589             chalet   1552000.0       3.0        3.0  115.0        No   \n",
       "9594             chalet  14000000.0       3.0        3.0  145.0   Unknown   \n",
       "9596   standalone villa  30750000.0       4.0        4.0  462.0   Unknown   \n",
       "...                 ...         ...       ...        ...    ...       ...   \n",
       "27355  standalone villa   4800000.0       4.0        3.0  165.0   Unknown   \n",
       "27356        town house    890000.0       3.0        2.0  240.0   Unknown   \n",
       "27357        town house   4000000.0       4.0        3.0  218.0   Unknown   \n",
       "27358        twin house  13800000.0       3.0        4.0  308.0        No   \n",
       "27359  standalone villa  35000000.0       4.0        4.0  478.0   Unknown   \n",
       "\n",
       "         Level       Payment_Option  Delivery_Date                    City  \n",
       "9585   Unknown  Cash or Installment        Unknown                 Alamein  \n",
       "9587   Unknown  Cash or Installment        Unknown             North Coast  \n",
       "9589   Unknown  Cash or Installment        Unknown             North Coast  \n",
       "9594   Unknown                 Cash        Unknown             North Coast  \n",
       "9596   Unknown      Unknown Payment  Ready to move           Marsa Matrouh  \n",
       "...        ...                  ...            ...                     ...  \n",
       "27355  Unknown  Cash or Installment        Unknown  New Cairo - El Tagamoa  \n",
       "27356  Unknown      Unknown Payment        Unknown             North Coast  \n",
       "27357  Unknown  Cash or Installment        Unknown  New Cairo - El Tagamoa  \n",
       "27358  Unknown                 Cash  Ready to move  New Cairo - El Tagamoa  \n",
       "27359  Unknown      Unknown Payment        Unknown                Mokattam  \n",
       "\n",
       "[9758 rows x 10 columns]"
      ]
     },
     "execution_count": 75,
     "metadata": {},
     "output_type": "execute_result"
    }
   ],
   "source": [
    "df[df['Level'] == 'Unknown']"
   ]
  },
  {
   "cell_type": "code",
   "execution_count": 76,
   "metadata": {},
   "outputs": [
    {
     "data": {
      "text/html": [
       "<div>\n",
       "<style scoped>\n",
       "    .dataframe tbody tr th:only-of-type {\n",
       "        vertical-align: middle;\n",
       "    }\n",
       "\n",
       "    .dataframe tbody tr th {\n",
       "        vertical-align: top;\n",
       "    }\n",
       "\n",
       "    .dataframe thead th {\n",
       "        text-align: right;\n",
       "    }\n",
       "</style>\n",
       "<table border=\"1\" class=\"dataframe\">\n",
       "  <thead>\n",
       "    <tr style=\"text-align: right;\">\n",
       "      <th></th>\n",
       "      <th>Type</th>\n",
       "      <th>Price</th>\n",
       "      <th>Bedrooms</th>\n",
       "      <th>Bathrooms</th>\n",
       "      <th>Area</th>\n",
       "      <th>Furnished</th>\n",
       "      <th>Level</th>\n",
       "      <th>Payment_Option</th>\n",
       "      <th>Delivery_Date</th>\n",
       "      <th>City</th>\n",
       "    </tr>\n",
       "  </thead>\n",
       "  <tbody>\n",
       "  </tbody>\n",
       "</table>\n",
       "</div>"
      ],
      "text/plain": [
       "Empty DataFrame\n",
       "Columns: [Type, Price, Bedrooms, Bathrooms, Area, Furnished, Level, Payment_Option, Delivery_Date, City]\n",
       "Index: []"
      ]
     },
     "execution_count": 76,
     "metadata": {},
     "output_type": "execute_result"
    }
   ],
   "source": [
    "df[(df['Level'] == 'Unknown') & (df['Type'] == 'apartment')]"
   ]
  },
  {
   "cell_type": "markdown",
   "metadata": {},
   "source": [
    "we don't have apartments with unknow level and it is pretty good but we have chalets with unknown levels so lets drop them"
   ]
  },
  {
   "cell_type": "code",
   "execution_count": 77,
   "metadata": {},
   "outputs": [],
   "source": [
    "df.drop(df[(df['Level'] == 'Unknown') & (df['Type'] == 'chalet')].index,inplace=True)"
   ]
  },
  {
   "cell_type": "markdown",
   "metadata": {},
   "source": [
    "For villas and houses that actually don't have level lets assign special value to them like -1"
   ]
  },
  {
   "cell_type": "code",
   "execution_count": 78,
   "metadata": {},
   "outputs": [],
   "source": [
    "for type in df.Type.unique():\n",
    "    if type not in ['duplex','apartment','chalet']:\n",
    "        df.loc[df['Type'] == type, 'Level'] = '-1'"
   ]
  },
  {
   "cell_type": "code",
   "execution_count": 79,
   "metadata": {},
   "outputs": [
    {
     "data": {
      "text/html": [
       "<div>\n",
       "<style scoped>\n",
       "    .dataframe tbody tr th:only-of-type {\n",
       "        vertical-align: middle;\n",
       "    }\n",
       "\n",
       "    .dataframe tbody tr th {\n",
       "        vertical-align: top;\n",
       "    }\n",
       "\n",
       "    .dataframe thead th {\n",
       "        text-align: right;\n",
       "    }\n",
       "</style>\n",
       "<table border=\"1\" class=\"dataframe\">\n",
       "  <thead>\n",
       "    <tr style=\"text-align: right;\">\n",
       "      <th></th>\n",
       "      <th>Type</th>\n",
       "      <th>Price</th>\n",
       "      <th>Bedrooms</th>\n",
       "      <th>Bathrooms</th>\n",
       "      <th>Area</th>\n",
       "      <th>Furnished</th>\n",
       "      <th>Level</th>\n",
       "      <th>Payment_Option</th>\n",
       "      <th>Delivery_Date</th>\n",
       "      <th>City</th>\n",
       "    </tr>\n",
       "  </thead>\n",
       "  <tbody>\n",
       "    <tr>\n",
       "      <th>21338</th>\n",
       "      <td>town house</td>\n",
       "      <td>5150000.0</td>\n",
       "      <td>5.0</td>\n",
       "      <td>4.0</td>\n",
       "      <td>270.0</td>\n",
       "      <td>No</td>\n",
       "      <td>-1</td>\n",
       "      <td>Cash</td>\n",
       "      <td>Ready to move</td>\n",
       "      <td>New Cairo - El Tagamoa</td>\n",
       "    </tr>\n",
       "    <tr>\n",
       "      <th>7877</th>\n",
       "      <td>apartment</td>\n",
       "      <td>850000.0</td>\n",
       "      <td>2.0</td>\n",
       "      <td>1.0</td>\n",
       "      <td>90.0</td>\n",
       "      <td>Unknown</td>\n",
       "      <td>4</td>\n",
       "      <td>Cash</td>\n",
       "      <td>Unknown</td>\n",
       "      <td>Nasr City</td>\n",
       "    </tr>\n",
       "    <tr>\n",
       "      <th>21440</th>\n",
       "      <td>standalone villa</td>\n",
       "      <td>15000000.0</td>\n",
       "      <td>10.0</td>\n",
       "      <td>10.0</td>\n",
       "      <td>600.0</td>\n",
       "      <td>Unknown</td>\n",
       "      <td>-1</td>\n",
       "      <td>Cash</td>\n",
       "      <td>Ready to move</td>\n",
       "      <td>New Cairo - El Tagamoa</td>\n",
       "    </tr>\n",
       "    <tr>\n",
       "      <th>19112</th>\n",
       "      <td>standalone villa</td>\n",
       "      <td>14000000.0</td>\n",
       "      <td>6.0</td>\n",
       "      <td>6.0</td>\n",
       "      <td>700.0</td>\n",
       "      <td>Yes</td>\n",
       "      <td>-1</td>\n",
       "      <td>Unknown Payment</td>\n",
       "      <td>Ready to move</td>\n",
       "      <td>Ain Sukhna</td>\n",
       "    </tr>\n",
       "    <tr>\n",
       "      <th>19523</th>\n",
       "      <td>twin house</td>\n",
       "      <td>2100000.0</td>\n",
       "      <td>2.0</td>\n",
       "      <td>2.0</td>\n",
       "      <td>185.0</td>\n",
       "      <td>No</td>\n",
       "      <td>-1</td>\n",
       "      <td>Installment</td>\n",
       "      <td>2023</td>\n",
       "      <td>6th of October</td>\n",
       "    </tr>\n",
       "  </tbody>\n",
       "</table>\n",
       "</div>"
      ],
      "text/plain": [
       "                   Type       Price  Bedrooms  Bathrooms   Area Furnished  \\\n",
       "21338        town house   5150000.0       5.0        4.0  270.0        No   \n",
       "7877          apartment    850000.0       2.0        1.0   90.0   Unknown   \n",
       "21440  standalone villa  15000000.0      10.0       10.0  600.0   Unknown   \n",
       "19112  standalone villa  14000000.0       6.0        6.0  700.0       Yes   \n",
       "19523        twin house   2100000.0       2.0        2.0  185.0        No   \n",
       "\n",
       "      Level   Payment_Option  Delivery_Date                    City  \n",
       "21338    -1             Cash  Ready to move  New Cairo - El Tagamoa  \n",
       "7877      4             Cash        Unknown               Nasr City  \n",
       "21440    -1             Cash  Ready to move  New Cairo - El Tagamoa  \n",
       "19112    -1  Unknown Payment  Ready to move              Ain Sukhna  \n",
       "19523    -1      Installment           2023          6th of October  "
      ]
     },
     "execution_count": 79,
     "metadata": {},
     "output_type": "execute_result"
    }
   ],
   "source": [
    "df.sample(5)"
   ]
  },
  {
   "cell_type": "code",
   "execution_count": 80,
   "metadata": {},
   "outputs": [
    {
     "data": {
      "text/html": [
       "<div>\n",
       "<style scoped>\n",
       "    .dataframe tbody tr th:only-of-type {\n",
       "        vertical-align: middle;\n",
       "    }\n",
       "\n",
       "    .dataframe tbody tr th {\n",
       "        vertical-align: top;\n",
       "    }\n",
       "\n",
       "    .dataframe thead th {\n",
       "        text-align: right;\n",
       "    }\n",
       "</style>\n",
       "<table border=\"1\" class=\"dataframe\">\n",
       "  <thead>\n",
       "    <tr style=\"text-align: right;\">\n",
       "      <th></th>\n",
       "      <th>Type</th>\n",
       "      <th>Price</th>\n",
       "      <th>Bedrooms</th>\n",
       "      <th>Bathrooms</th>\n",
       "      <th>Area</th>\n",
       "      <th>Furnished</th>\n",
       "      <th>Level</th>\n",
       "      <th>Payment_Option</th>\n",
       "      <th>Delivery_Date</th>\n",
       "      <th>City</th>\n",
       "    </tr>\n",
       "  </thead>\n",
       "  <tbody>\n",
       "    <tr>\n",
       "      <th>9884</th>\n",
       "      <td>duplex</td>\n",
       "      <td>2800000.0</td>\n",
       "      <td>3.0</td>\n",
       "      <td>3.0</td>\n",
       "      <td>137.0</td>\n",
       "      <td>No</td>\n",
       "      <td>Unknown</td>\n",
       "      <td>Installment</td>\n",
       "      <td>Unknown</td>\n",
       "      <td>North Coast</td>\n",
       "    </tr>\n",
       "    <tr>\n",
       "      <th>12082</th>\n",
       "      <td>duplex</td>\n",
       "      <td>1100000.0</td>\n",
       "      <td>3.0</td>\n",
       "      <td>2.0</td>\n",
       "      <td>120.0</td>\n",
       "      <td>Yes</td>\n",
       "      <td>Unknown</td>\n",
       "      <td>Cash or Installment</td>\n",
       "      <td>Unknown</td>\n",
       "      <td>Ain Sukhna</td>\n",
       "    </tr>\n",
       "    <tr>\n",
       "      <th>12291</th>\n",
       "      <td>duplex</td>\n",
       "      <td>2800000.0</td>\n",
       "      <td>3.0</td>\n",
       "      <td>3.0</td>\n",
       "      <td>137.0</td>\n",
       "      <td>No</td>\n",
       "      <td>Unknown</td>\n",
       "      <td>Installment</td>\n",
       "      <td>Unknown</td>\n",
       "      <td>North Coast</td>\n",
       "    </tr>\n",
       "    <tr>\n",
       "      <th>12356</th>\n",
       "      <td>duplex</td>\n",
       "      <td>4800000.0</td>\n",
       "      <td>3.0</td>\n",
       "      <td>3.0</td>\n",
       "      <td>192.0</td>\n",
       "      <td>No</td>\n",
       "      <td>Unknown</td>\n",
       "      <td>Installment</td>\n",
       "      <td>Unknown</td>\n",
       "      <td>North Coast</td>\n",
       "    </tr>\n",
       "    <tr>\n",
       "      <th>12357</th>\n",
       "      <td>duplex</td>\n",
       "      <td>5100000.0</td>\n",
       "      <td>3.0</td>\n",
       "      <td>3.0</td>\n",
       "      <td>194.0</td>\n",
       "      <td>No</td>\n",
       "      <td>Unknown</td>\n",
       "      <td>Installment</td>\n",
       "      <td>Unknown</td>\n",
       "      <td>North Coast</td>\n",
       "    </tr>\n",
       "    <tr>\n",
       "      <th>12501</th>\n",
       "      <td>duplex</td>\n",
       "      <td>5200000.0</td>\n",
       "      <td>3.0</td>\n",
       "      <td>3.0</td>\n",
       "      <td>180.0</td>\n",
       "      <td>Yes</td>\n",
       "      <td>Unknown</td>\n",
       "      <td>Unknown Payment</td>\n",
       "      <td>Unknown</td>\n",
       "      <td>North Coast</td>\n",
       "    </tr>\n",
       "    <tr>\n",
       "      <th>12775</th>\n",
       "      <td>duplex</td>\n",
       "      <td>1700000.0</td>\n",
       "      <td>2.0</td>\n",
       "      <td>2.0</td>\n",
       "      <td>100.0</td>\n",
       "      <td>Unknown</td>\n",
       "      <td>Unknown</td>\n",
       "      <td>Unknown Payment</td>\n",
       "      <td>Unknown</td>\n",
       "      <td>North Coast</td>\n",
       "    </tr>\n",
       "    <tr>\n",
       "      <th>12902</th>\n",
       "      <td>duplex</td>\n",
       "      <td>255000.0</td>\n",
       "      <td>4.0</td>\n",
       "      <td>3.0</td>\n",
       "      <td>187.0</td>\n",
       "      <td>Unknown</td>\n",
       "      <td>Unknown</td>\n",
       "      <td>Unknown Payment</td>\n",
       "      <td>Unknown</td>\n",
       "      <td>North Coast</td>\n",
       "    </tr>\n",
       "    <tr>\n",
       "      <th>13209</th>\n",
       "      <td>duplex</td>\n",
       "      <td>2636000.0</td>\n",
       "      <td>3.0</td>\n",
       "      <td>2.0</td>\n",
       "      <td>140.0</td>\n",
       "      <td>Unknown</td>\n",
       "      <td>Unknown</td>\n",
       "      <td>Cash or Installment</td>\n",
       "      <td>Unknown</td>\n",
       "      <td>North Coast</td>\n",
       "    </tr>\n",
       "    <tr>\n",
       "      <th>14498</th>\n",
       "      <td>duplex</td>\n",
       "      <td>4800000.0</td>\n",
       "      <td>3.0</td>\n",
       "      <td>3.0</td>\n",
       "      <td>192.0</td>\n",
       "      <td>No</td>\n",
       "      <td>Unknown</td>\n",
       "      <td>Installment</td>\n",
       "      <td>2026</td>\n",
       "      <td>North Coast</td>\n",
       "    </tr>\n",
       "    <tr>\n",
       "      <th>15126</th>\n",
       "      <td>duplex</td>\n",
       "      <td>4600000.0</td>\n",
       "      <td>4.0</td>\n",
       "      <td>3.0</td>\n",
       "      <td>146.0</td>\n",
       "      <td>Unknown</td>\n",
       "      <td>Unknown</td>\n",
       "      <td>Cash or Installment</td>\n",
       "      <td>Unknown</td>\n",
       "      <td>North Coast</td>\n",
       "    </tr>\n",
       "    <tr>\n",
       "      <th>15249</th>\n",
       "      <td>duplex</td>\n",
       "      <td>2800000.0</td>\n",
       "      <td>3.0</td>\n",
       "      <td>2.0</td>\n",
       "      <td>137.0</td>\n",
       "      <td>No</td>\n",
       "      <td>Unknown</td>\n",
       "      <td>Installment</td>\n",
       "      <td>Unknown</td>\n",
       "      <td>North Coast</td>\n",
       "    </tr>\n",
       "    <tr>\n",
       "      <th>16174</th>\n",
       "      <td>duplex</td>\n",
       "      <td>4800000.0</td>\n",
       "      <td>4.0</td>\n",
       "      <td>3.0</td>\n",
       "      <td>270.0</td>\n",
       "      <td>Yes</td>\n",
       "      <td>Unknown</td>\n",
       "      <td>Cash</td>\n",
       "      <td>Ready to move</td>\n",
       "      <td>North Coast</td>\n",
       "    </tr>\n",
       "    <tr>\n",
       "      <th>16220</th>\n",
       "      <td>duplex</td>\n",
       "      <td>481000.0</td>\n",
       "      <td>4.0</td>\n",
       "      <td>3.0</td>\n",
       "      <td>155.0</td>\n",
       "      <td>Unknown</td>\n",
       "      <td>Unknown</td>\n",
       "      <td>Cash or Installment</td>\n",
       "      <td>Unknown</td>\n",
       "      <td>Ain Sukhna</td>\n",
       "    </tr>\n",
       "    <tr>\n",
       "      <th>16262</th>\n",
       "      <td>duplex</td>\n",
       "      <td>590000.0</td>\n",
       "      <td>3.0</td>\n",
       "      <td>2.0</td>\n",
       "      <td>155.0</td>\n",
       "      <td>Unknown</td>\n",
       "      <td>Unknown</td>\n",
       "      <td>Unknown Payment</td>\n",
       "      <td>Unknown</td>\n",
       "      <td>Ain Sukhna</td>\n",
       "    </tr>\n",
       "    <tr>\n",
       "      <th>16536</th>\n",
       "      <td>duplex</td>\n",
       "      <td>7500000.0</td>\n",
       "      <td>4.0</td>\n",
       "      <td>3.0</td>\n",
       "      <td>300.0</td>\n",
       "      <td>Yes</td>\n",
       "      <td>Unknown</td>\n",
       "      <td>Cash</td>\n",
       "      <td>Ready to move</td>\n",
       "      <td>North Coast</td>\n",
       "    </tr>\n",
       "    <tr>\n",
       "      <th>16554</th>\n",
       "      <td>duplex</td>\n",
       "      <td>725200.0</td>\n",
       "      <td>4.0</td>\n",
       "      <td>3.0</td>\n",
       "      <td>185.0</td>\n",
       "      <td>Yes</td>\n",
       "      <td>Unknown</td>\n",
       "      <td>Cash or Installment</td>\n",
       "      <td>Unknown</td>\n",
       "      <td>North Coast</td>\n",
       "    </tr>\n",
       "    <tr>\n",
       "      <th>16817</th>\n",
       "      <td>duplex</td>\n",
       "      <td>295000.0</td>\n",
       "      <td>2.0</td>\n",
       "      <td>2.0</td>\n",
       "      <td>127.0</td>\n",
       "      <td>Unknown</td>\n",
       "      <td>Unknown</td>\n",
       "      <td>Unknown Payment</td>\n",
       "      <td>Unknown</td>\n",
       "      <td>North Coast</td>\n",
       "    </tr>\n",
       "    <tr>\n",
       "      <th>16886</th>\n",
       "      <td>duplex</td>\n",
       "      <td>370000.0</td>\n",
       "      <td>3.0</td>\n",
       "      <td>2.0</td>\n",
       "      <td>158.0</td>\n",
       "      <td>Unknown</td>\n",
       "      <td>Unknown</td>\n",
       "      <td>Unknown Payment</td>\n",
       "      <td>Unknown</td>\n",
       "      <td>North Coast</td>\n",
       "    </tr>\n",
       "    <tr>\n",
       "      <th>17683</th>\n",
       "      <td>duplex</td>\n",
       "      <td>1059870.0</td>\n",
       "      <td>4.0</td>\n",
       "      <td>4.0</td>\n",
       "      <td>256.0</td>\n",
       "      <td>Unknown</td>\n",
       "      <td>Unknown</td>\n",
       "      <td>Unknown Payment</td>\n",
       "      <td>soon</td>\n",
       "      <td>North Coast</td>\n",
       "    </tr>\n",
       "    <tr>\n",
       "      <th>18039</th>\n",
       "      <td>duplex</td>\n",
       "      <td>560000.0</td>\n",
       "      <td>3.0</td>\n",
       "      <td>3.0</td>\n",
       "      <td>185.0</td>\n",
       "      <td>Unknown</td>\n",
       "      <td>Unknown</td>\n",
       "      <td>Unknown Payment</td>\n",
       "      <td>Unknown</td>\n",
       "      <td>North Coast</td>\n",
       "    </tr>\n",
       "    <tr>\n",
       "      <th>18384</th>\n",
       "      <td>duplex</td>\n",
       "      <td>440000.0</td>\n",
       "      <td>2.0</td>\n",
       "      <td>2.0</td>\n",
       "      <td>100.0</td>\n",
       "      <td>Yes</td>\n",
       "      <td>Unknown</td>\n",
       "      <td>Cash</td>\n",
       "      <td>Unknown</td>\n",
       "      <td>Ras Sedr</td>\n",
       "    </tr>\n",
       "  </tbody>\n",
       "</table>\n",
       "</div>"
      ],
      "text/plain": [
       "         Type      Price  Bedrooms  Bathrooms   Area Furnished    Level  \\\n",
       "9884   duplex  2800000.0       3.0        3.0  137.0        No  Unknown   \n",
       "12082  duplex  1100000.0       3.0        2.0  120.0       Yes  Unknown   \n",
       "12291  duplex  2800000.0       3.0        3.0  137.0        No  Unknown   \n",
       "12356  duplex  4800000.0       3.0        3.0  192.0        No  Unknown   \n",
       "12357  duplex  5100000.0       3.0        3.0  194.0        No  Unknown   \n",
       "12501  duplex  5200000.0       3.0        3.0  180.0       Yes  Unknown   \n",
       "12775  duplex  1700000.0       2.0        2.0  100.0   Unknown  Unknown   \n",
       "12902  duplex   255000.0       4.0        3.0  187.0   Unknown  Unknown   \n",
       "13209  duplex  2636000.0       3.0        2.0  140.0   Unknown  Unknown   \n",
       "14498  duplex  4800000.0       3.0        3.0  192.0        No  Unknown   \n",
       "15126  duplex  4600000.0       4.0        3.0  146.0   Unknown  Unknown   \n",
       "15249  duplex  2800000.0       3.0        2.0  137.0        No  Unknown   \n",
       "16174  duplex  4800000.0       4.0        3.0  270.0       Yes  Unknown   \n",
       "16220  duplex   481000.0       4.0        3.0  155.0   Unknown  Unknown   \n",
       "16262  duplex   590000.0       3.0        2.0  155.0   Unknown  Unknown   \n",
       "16536  duplex  7500000.0       4.0        3.0  300.0       Yes  Unknown   \n",
       "16554  duplex   725200.0       4.0        3.0  185.0       Yes  Unknown   \n",
       "16817  duplex   295000.0       2.0        2.0  127.0   Unknown  Unknown   \n",
       "16886  duplex   370000.0       3.0        2.0  158.0   Unknown  Unknown   \n",
       "17683  duplex  1059870.0       4.0        4.0  256.0   Unknown  Unknown   \n",
       "18039  duplex   560000.0       3.0        3.0  185.0   Unknown  Unknown   \n",
       "18384  duplex   440000.0       2.0        2.0  100.0       Yes  Unknown   \n",
       "\n",
       "            Payment_Option  Delivery_Date         City  \n",
       "9884           Installment        Unknown  North Coast  \n",
       "12082  Cash or Installment        Unknown   Ain Sukhna  \n",
       "12291          Installment        Unknown  North Coast  \n",
       "12356          Installment        Unknown  North Coast  \n",
       "12357          Installment        Unknown  North Coast  \n",
       "12501      Unknown Payment        Unknown  North Coast  \n",
       "12775      Unknown Payment        Unknown  North Coast  \n",
       "12902      Unknown Payment        Unknown  North Coast  \n",
       "13209  Cash or Installment        Unknown  North Coast  \n",
       "14498          Installment           2026  North Coast  \n",
       "15126  Cash or Installment        Unknown  North Coast  \n",
       "15249          Installment        Unknown  North Coast  \n",
       "16174                 Cash  Ready to move  North Coast  \n",
       "16220  Cash or Installment        Unknown   Ain Sukhna  \n",
       "16262      Unknown Payment        Unknown   Ain Sukhna  \n",
       "16536                 Cash  Ready to move  North Coast  \n",
       "16554  Cash or Installment        Unknown  North Coast  \n",
       "16817      Unknown Payment        Unknown  North Coast  \n",
       "16886      Unknown Payment        Unknown  North Coast  \n",
       "17683      Unknown Payment           soon  North Coast  \n",
       "18039      Unknown Payment        Unknown  North Coast  \n",
       "18384                 Cash        Unknown     Ras Sedr  "
      ]
     },
     "execution_count": 80,
     "metadata": {},
     "output_type": "execute_result"
    }
   ],
   "source": [
    "df[df['Level'] == 'Unknown']"
   ]
  },
  {
   "cell_type": "markdown",
   "metadata": {},
   "source": [
    "we still have some data with unknown level and they are duplexes so lets drop them as they are not helpful"
   ]
  },
  {
   "cell_type": "code",
   "execution_count": 81,
   "metadata": {},
   "outputs": [],
   "source": [
    "df.drop(df[(df['Level'] == 'Unknown') & (df['Type'] == 'duplex')].index,inplace=True)"
   ]
  },
  {
   "cell_type": "markdown",
   "metadata": {},
   "source": [
    "Now let's check how many rows have 10+ or highest in level columns"
   ]
  },
  {
   "cell_type": "code",
   "execution_count": 82,
   "metadata": {},
   "outputs": [
    {
     "data": {
      "text/plain": [
       "(361, 10)"
      ]
     },
     "execution_count": 82,
     "metadata": {},
     "output_type": "execute_result"
    }
   ],
   "source": [
    "df[(df['Level'] == '10+') | (df['Level'] == 'Highest')].shape"
   ]
  },
  {
   "cell_type": "markdown",
   "metadata": {},
   "source": [
    "okay they are small so we can drop them with no problem as they are also unknown for us"
   ]
  },
  {
   "cell_type": "code",
   "execution_count": 83,
   "metadata": {},
   "outputs": [],
   "source": [
    "df.drop(df[(df['Level'] == '10+') | (df['Level'] == 'Highest')].index,inplace=True)"
   ]
  },
  {
   "cell_type": "markdown",
   "metadata": {},
   "source": [
    "now lets replace Ground level with zero so all of the data be numerical"
   ]
  },
  {
   "cell_type": "code",
   "execution_count": 84,
   "metadata": {},
   "outputs": [],
   "source": [
    "df['Level'] = df['Level'].str.replace(\"Ground\",'0')"
   ]
  },
  {
   "cell_type": "code",
   "execution_count": 85,
   "metadata": {},
   "outputs": [
    {
     "data": {
      "text/plain": [
       "array(['7', '1', '10', '0', '3', '2', '9', '4', '5', '8', '6', '-1'],\n",
       "      dtype=object)"
      ]
     },
     "execution_count": 85,
     "metadata": {},
     "output_type": "execute_result"
    }
   ],
   "source": [
    "df['Level'].unique()"
   ]
  },
  {
   "cell_type": "markdown",
   "metadata": {},
   "source": [
    "alright now lets change its type to integer"
   ]
  },
  {
   "cell_type": "code",
   "execution_count": 86,
   "metadata": {},
   "outputs": [],
   "source": [
    "df['Level'] = df['Level'].astype(int)"
   ]
  },
  {
   "cell_type": "markdown",
   "metadata": {},
   "source": [
    "## 'City' Column Cleaning"
   ]
  },
  {
   "cell_type": "code",
   "execution_count": 87,
   "metadata": {},
   "outputs": [
    {
     "data": {
      "text/plain": [
       "City\n",
       "New Cairo - El Tagamoa    6247\n",
       "North Coast               5362\n",
       "Sheikh Zayed              2240\n",
       "6th of October            1666\n",
       "Madinaty                  1539\n",
       "                          ... \n",
       "New Beni Suef                1\n",
       "Kafr al-Dawwar               1\n",
       "Darb al-Ahmar                1\n",
       "Quesna                       1\n",
       "Abu Rawash                   1\n",
       "Name: count, Length: 176, dtype: int64"
      ]
     },
     "execution_count": 87,
     "metadata": {},
     "output_type": "execute_result"
    }
   ],
   "source": [
    "city_counts = df['City'].value_counts()\n",
    "city_counts"
   ]
  },
  {
   "cell_type": "markdown",
   "metadata": {},
   "source": [
    "we have cities with 1 house in our data so lets make the cities with less than 10 houses as others"
   ]
  },
  {
   "cell_type": "code",
   "execution_count": 88,
   "metadata": {},
   "outputs": [],
   "source": [
    "city_counts_less_than_10 = city_counts[city_counts<=10]"
   ]
  },
  {
   "cell_type": "code",
   "execution_count": 89,
   "metadata": {},
   "outputs": [
    {
     "data": {
      "text/html": [
       "<div>\n",
       "<style scoped>\n",
       "    .dataframe tbody tr th:only-of-type {\n",
       "        vertical-align: middle;\n",
       "    }\n",
       "\n",
       "    .dataframe tbody tr th {\n",
       "        vertical-align: top;\n",
       "    }\n",
       "\n",
       "    .dataframe thead th {\n",
       "        text-align: right;\n",
       "    }\n",
       "</style>\n",
       "<table border=\"1\" class=\"dataframe\">\n",
       "  <thead>\n",
       "    <tr style=\"text-align: right;\">\n",
       "      <th></th>\n",
       "      <th>Type</th>\n",
       "      <th>Price</th>\n",
       "      <th>Bedrooms</th>\n",
       "      <th>Bathrooms</th>\n",
       "      <th>Area</th>\n",
       "      <th>Furnished</th>\n",
       "      <th>Level</th>\n",
       "      <th>Payment_Option</th>\n",
       "      <th>Delivery_Date</th>\n",
       "      <th>City</th>\n",
       "    </tr>\n",
       "  </thead>\n",
       "  <tbody>\n",
       "    <tr>\n",
       "      <th>0</th>\n",
       "      <td>duplex</td>\n",
       "      <td>4000000.0</td>\n",
       "      <td>3.0</td>\n",
       "      <td>3.0</td>\n",
       "      <td>400.0</td>\n",
       "      <td>No</td>\n",
       "      <td>7</td>\n",
       "      <td>Cash</td>\n",
       "      <td>Ready to move</td>\n",
       "      <td>Nasr City</td>\n",
       "    </tr>\n",
       "    <tr>\n",
       "      <th>2</th>\n",
       "      <td>apartment</td>\n",
       "      <td>2250000.0</td>\n",
       "      <td>3.0</td>\n",
       "      <td>2.0</td>\n",
       "      <td>165.0</td>\n",
       "      <td>No</td>\n",
       "      <td>1</td>\n",
       "      <td>Cash</td>\n",
       "      <td>Ready to move</td>\n",
       "      <td>Smoha</td>\n",
       "    </tr>\n",
       "    <tr>\n",
       "      <th>3</th>\n",
       "      <td>apartment</td>\n",
       "      <td>1900000.0</td>\n",
       "      <td>3.0</td>\n",
       "      <td>2.0</td>\n",
       "      <td>230.0</td>\n",
       "      <td>No</td>\n",
       "      <td>10</td>\n",
       "      <td>Cash</td>\n",
       "      <td>Ready to move</td>\n",
       "      <td>Nasr City</td>\n",
       "    </tr>\n",
       "  </tbody>\n",
       "</table>\n",
       "</div>"
      ],
      "text/plain": [
       "        Type      Price  Bedrooms  Bathrooms   Area Furnished  Level  \\\n",
       "0     duplex  4000000.0       3.0        3.0  400.0        No      7   \n",
       "2  apartment  2250000.0       3.0        2.0  165.0        No      1   \n",
       "3  apartment  1900000.0       3.0        2.0  230.0        No     10   \n",
       "\n",
       "  Payment_Option  Delivery_Date       City  \n",
       "0           Cash  Ready to move  Nasr City  \n",
       "2           Cash  Ready to move      Smoha  \n",
       "3           Cash  Ready to move  Nasr City  "
      ]
     },
     "execution_count": 89,
     "metadata": {},
     "output_type": "execute_result"
    }
   ],
   "source": [
    "df['City'] = df['City'].apply(lambda x : 'other' if x in city_counts_less_than_10 else x)\n",
    "df.head(3)"
   ]
  },
  {
   "cell_type": "markdown",
   "metadata": {},
   "source": [
    "Now lets check our unique values of the data columns and see if everything is right"
   ]
  },
  {
   "cell_type": "code",
   "execution_count": 90,
   "metadata": {},
   "outputs": [
    {
     "name": "stdout",
     "output_type": "stream",
     "text": [
      "Type : ['duplex' 'apartment' 'chalet' 'standalone villa' 'twin house'\n",
      " 'town house']\n",
      "Furnished : ['No' 'Unknown' 'Yes']\n",
      "Level : [ 7  1 10  0  3  2  9  4  5  8  6 -1]\n",
      "Payment_Option : ['Cash' 'Cash or Installment' 'Unknown Payment' 'Installment']\n",
      "Delivery_Date : ['Ready to move' '2024' 'Unknown' '2023' 'soon' '2025' 'within 6 months'\n",
      " '2022' '2026' '2027']\n",
      "City : ['Nasr City' 'Smoha' 'New Cairo - El Tagamoa' 'Sheikh Zayed'\n",
      " 'Shorouk City' 'Gesr Al Suez' 'New Capital City' 'New Damietta'\n",
      " 'Zahraa Al Maadi' '6th of October' 'Mansura' 'New Heliopolis' 'other'\n",
      " 'Badr City' 'Borg al-Arab' 'Mohandessin' 'Glim' 'Ain Sukhna' 'Maadi'\n",
      " 'Hadayek 6th of October' 'Madinaty' 'Haram' 'Ismailia City'\n",
      " '10th of Ramadan' 'Heliopolis' 'Rehab City' 'Hadayek al-Ahram'\n",
      " 'North Coast' 'Sidi Beshr' 'Nakheel' 'Obour City' 'Hurghada' 'Tanta'\n",
      " 'Helmeyat El Zaytoun' 'Mokattam' 'Katameya' 'Alamein' 'Miami'\n",
      " 'Hadayek al-Kobba' 'Mostakbal City' 'Agami' 'Ras al-Bar' 'Mandara'\n",
      " '15 May City' 'Seyouf' 'Sharq District' 'Laurent' 'New Mansoura' 'Dokki'\n",
      " 'Sheraton' 'Faisal' 'Roushdy' 'Zagazig' 'Moharam Bik' 'West Somid'\n",
      " 'Asafra' 'Gouna' 'Zamalek' 'Shubra' 'Marsa Matrouh' 'Giza District'\n",
      " 'Saba Pasha' 'Kafr Abdo' 'Zezenia' 'New Nozha' 'Asyut City' 'Amreya'\n",
      " 'Ain Shams' 'Sharm al-Sheikh' 'Ras Sedr' 'Dabaa' '(View phone number)']\n"
     ]
    }
   ],
   "source": [
    "for col in df.drop(['Area','Price','Bedrooms','Bathrooms'],axis='columns').columns:\n",
    "    print(f'{col} : {df[col].unique()}')"
   ]
  },
  {
   "cell_type": "code",
   "execution_count": 91,
   "metadata": {},
   "outputs": [
    {
     "data": {
      "text/plain": [
       "(48, 10)"
      ]
     },
     "execution_count": 91,
     "metadata": {},
     "output_type": "execute_result"
    }
   ],
   "source": [
    "df[df['City']==\"(View phone number)\"].shape"
   ]
  },
  {
   "cell_type": "markdown",
   "metadata": {},
   "source": [
    "we have 48 rows that have '(View phone number)' in the city which is an error so lets drop them as they are small"
   ]
  },
  {
   "cell_type": "code",
   "execution_count": 92,
   "metadata": {},
   "outputs": [],
   "source": [
    "df.drop(df[df['City']==\"(View phone number)\"].index,inplace=True)"
   ]
  },
  {
   "cell_type": "code",
   "execution_count": 93,
   "metadata": {},
   "outputs": [
    {
     "data": {
      "text/plain": [
       "array(['Nasr City', 'Smoha', 'New Cairo - El Tagamoa', 'Sheikh Zayed',\n",
       "       'Shorouk City', 'Gesr Al Suez', 'New Capital City', 'New Damietta',\n",
       "       'Zahraa Al Maadi', '6th of October', 'Mansura', 'New Heliopolis',\n",
       "       'other', 'Badr City', 'Borg al-Arab', 'Mohandessin', 'Glim',\n",
       "       'Ain Sukhna', 'Maadi', 'Hadayek 6th of October', 'Madinaty',\n",
       "       'Haram', 'Ismailia City', '10th of Ramadan', 'Heliopolis',\n",
       "       'Rehab City', 'Hadayek al-Ahram', 'North Coast', 'Sidi Beshr',\n",
       "       'Nakheel', 'Obour City', 'Hurghada', 'Tanta',\n",
       "       'Helmeyat El Zaytoun', 'Mokattam', 'Katameya', 'Alamein', 'Miami',\n",
       "       'Hadayek al-Kobba', 'Mostakbal City', 'Agami', 'Ras al-Bar',\n",
       "       'Mandara', '15 May City', 'Seyouf', 'Sharq District', 'Laurent',\n",
       "       'New Mansoura', 'Dokki', 'Sheraton', 'Faisal', 'Roushdy',\n",
       "       'Zagazig', 'Moharam Bik', 'West Somid', 'Asafra', 'Gouna',\n",
       "       'Zamalek', 'Shubra', 'Marsa Matrouh', 'Giza District',\n",
       "       'Saba Pasha', 'Kafr Abdo', 'Zezenia', 'New Nozha', 'Asyut City',\n",
       "       'Amreya', 'Ain Shams', 'Sharm al-Sheikh', 'Ras Sedr', 'Dabaa'],\n",
       "      dtype=object)"
      ]
     },
     "execution_count": 93,
     "metadata": {},
     "output_type": "execute_result"
    }
   ],
   "source": [
    "df['City'].unique()"
   ]
  },
  {
   "cell_type": "markdown",
   "metadata": {},
   "source": [
    "alright city column is done"
   ]
  },
  {
   "cell_type": "markdown",
   "metadata": {},
   "source": [
    "## 'Furnished' column cleaning"
   ]
  },
  {
   "cell_type": "markdown",
   "metadata": {},
   "source": [
    "as we saw in furnished column unique values no,unknown,yes so lets replace the unknown one with no"
   ]
  },
  {
   "cell_type": "code",
   "execution_count": 94,
   "metadata": {},
   "outputs": [],
   "source": [
    "df['Furnished'] = df['Furnished'].str.replace('Unknown','No')"
   ]
  },
  {
   "cell_type": "markdown",
   "metadata": {},
   "source": [
    "## 'Payment_Option' Column cleaning"
   ]
  },
  {
   "cell_type": "markdown",
   "metadata": {},
   "source": [
    "aswe saw we had unknown payment in the payment option lets see if they are small we can drop them or not"
   ]
  },
  {
   "cell_type": "code",
   "execution_count": 95,
   "metadata": {},
   "outputs": [
    {
     "data": {
      "text/html": [
       "<div>\n",
       "<style scoped>\n",
       "    .dataframe tbody tr th:only-of-type {\n",
       "        vertical-align: middle;\n",
       "    }\n",
       "\n",
       "    .dataframe tbody tr th {\n",
       "        vertical-align: top;\n",
       "    }\n",
       "\n",
       "    .dataframe thead th {\n",
       "        text-align: right;\n",
       "    }\n",
       "</style>\n",
       "<table border=\"1\" class=\"dataframe\">\n",
       "  <thead>\n",
       "    <tr style=\"text-align: right;\">\n",
       "      <th></th>\n",
       "      <th>Type</th>\n",
       "      <th>Price</th>\n",
       "      <th>Bedrooms</th>\n",
       "      <th>Bathrooms</th>\n",
       "      <th>Area</th>\n",
       "      <th>Furnished</th>\n",
       "      <th>Level</th>\n",
       "      <th>Payment_Option</th>\n",
       "      <th>Delivery_Date</th>\n",
       "      <th>City</th>\n",
       "    </tr>\n",
       "  </thead>\n",
       "  <tbody>\n",
       "    <tr>\n",
       "      <th>7</th>\n",
       "      <td>apartment</td>\n",
       "      <td>1650000.0</td>\n",
       "      <td>2.0</td>\n",
       "      <td>2.0</td>\n",
       "      <td>144.0</td>\n",
       "      <td>No</td>\n",
       "      <td>1</td>\n",
       "      <td>Unknown Payment</td>\n",
       "      <td>Ready to move</td>\n",
       "      <td>Sheikh Zayed</td>\n",
       "    </tr>\n",
       "    <tr>\n",
       "      <th>8</th>\n",
       "      <td>apartment</td>\n",
       "      <td>1560000.0</td>\n",
       "      <td>3.0</td>\n",
       "      <td>3.0</td>\n",
       "      <td>200.0</td>\n",
       "      <td>No</td>\n",
       "      <td>0</td>\n",
       "      <td>Unknown Payment</td>\n",
       "      <td>Unknown</td>\n",
       "      <td>New Cairo - El Tagamoa</td>\n",
       "    </tr>\n",
       "    <tr>\n",
       "      <th>25</th>\n",
       "      <td>apartment</td>\n",
       "      <td>1730000.0</td>\n",
       "      <td>3.0</td>\n",
       "      <td>2.0</td>\n",
       "      <td>160.0</td>\n",
       "      <td>No</td>\n",
       "      <td>7</td>\n",
       "      <td>Unknown Payment</td>\n",
       "      <td>Unknown</td>\n",
       "      <td>Smoha</td>\n",
       "    </tr>\n",
       "    <tr>\n",
       "      <th>33</th>\n",
       "      <td>duplex</td>\n",
       "      <td>6095000.0</td>\n",
       "      <td>4.0</td>\n",
       "      <td>5.0</td>\n",
       "      <td>246.0</td>\n",
       "      <td>No</td>\n",
       "      <td>0</td>\n",
       "      <td>Unknown Payment</td>\n",
       "      <td>2024</td>\n",
       "      <td>Sheikh Zayed</td>\n",
       "    </tr>\n",
       "    <tr>\n",
       "      <th>47</th>\n",
       "      <td>apartment</td>\n",
       "      <td>1446394.0</td>\n",
       "      <td>3.0</td>\n",
       "      <td>2.0</td>\n",
       "      <td>158.0</td>\n",
       "      <td>No</td>\n",
       "      <td>4</td>\n",
       "      <td>Unknown Payment</td>\n",
       "      <td>Ready to move</td>\n",
       "      <td>New Cairo - El Tagamoa</td>\n",
       "    </tr>\n",
       "    <tr>\n",
       "      <th>...</th>\n",
       "      <td>...</td>\n",
       "      <td>...</td>\n",
       "      <td>...</td>\n",
       "      <td>...</td>\n",
       "      <td>...</td>\n",
       "      <td>...</td>\n",
       "      <td>...</td>\n",
       "      <td>...</td>\n",
       "      <td>...</td>\n",
       "      <td>...</td>\n",
       "    </tr>\n",
       "    <tr>\n",
       "      <th>27342</th>\n",
       "      <td>standalone villa</td>\n",
       "      <td>11800000.0</td>\n",
       "      <td>4.0</td>\n",
       "      <td>5.0</td>\n",
       "      <td>315.0</td>\n",
       "      <td>No</td>\n",
       "      <td>-1</td>\n",
       "      <td>Unknown Payment</td>\n",
       "      <td>2025</td>\n",
       "      <td>Sheikh Zayed</td>\n",
       "    </tr>\n",
       "    <tr>\n",
       "      <th>27345</th>\n",
       "      <td>standalone villa</td>\n",
       "      <td>480000.0</td>\n",
       "      <td>3.0</td>\n",
       "      <td>2.0</td>\n",
       "      <td>165.0</td>\n",
       "      <td>No</td>\n",
       "      <td>-1</td>\n",
       "      <td>Unknown Payment</td>\n",
       "      <td>Unknown</td>\n",
       "      <td>New Cairo - El Tagamoa</td>\n",
       "    </tr>\n",
       "    <tr>\n",
       "      <th>27349</th>\n",
       "      <td>town house</td>\n",
       "      <td>500000.0</td>\n",
       "      <td>4.0</td>\n",
       "      <td>3.0</td>\n",
       "      <td>387.0</td>\n",
       "      <td>No</td>\n",
       "      <td>-1</td>\n",
       "      <td>Unknown Payment</td>\n",
       "      <td>Unknown</td>\n",
       "      <td>New Capital City</td>\n",
       "    </tr>\n",
       "    <tr>\n",
       "      <th>27356</th>\n",
       "      <td>town house</td>\n",
       "      <td>890000.0</td>\n",
       "      <td>3.0</td>\n",
       "      <td>2.0</td>\n",
       "      <td>240.0</td>\n",
       "      <td>No</td>\n",
       "      <td>-1</td>\n",
       "      <td>Unknown Payment</td>\n",
       "      <td>Unknown</td>\n",
       "      <td>North Coast</td>\n",
       "    </tr>\n",
       "    <tr>\n",
       "      <th>27359</th>\n",
       "      <td>standalone villa</td>\n",
       "      <td>35000000.0</td>\n",
       "      <td>4.0</td>\n",
       "      <td>4.0</td>\n",
       "      <td>478.0</td>\n",
       "      <td>No</td>\n",
       "      <td>-1</td>\n",
       "      <td>Unknown Payment</td>\n",
       "      <td>Unknown</td>\n",
       "      <td>Mokattam</td>\n",
       "    </tr>\n",
       "  </tbody>\n",
       "</table>\n",
       "<p>2586 rows × 10 columns</p>\n",
       "</div>"
      ],
      "text/plain": [
       "                   Type       Price  Bedrooms  Bathrooms   Area Furnished  \\\n",
       "7             apartment   1650000.0       2.0        2.0  144.0        No   \n",
       "8             apartment   1560000.0       3.0        3.0  200.0        No   \n",
       "25            apartment   1730000.0       3.0        2.0  160.0        No   \n",
       "33               duplex   6095000.0       4.0        5.0  246.0        No   \n",
       "47            apartment   1446394.0       3.0        2.0  158.0        No   \n",
       "...                 ...         ...       ...        ...    ...       ...   \n",
       "27342  standalone villa  11800000.0       4.0        5.0  315.0        No   \n",
       "27345  standalone villa    480000.0       3.0        2.0  165.0        No   \n",
       "27349        town house    500000.0       4.0        3.0  387.0        No   \n",
       "27356        town house    890000.0       3.0        2.0  240.0        No   \n",
       "27359  standalone villa  35000000.0       4.0        4.0  478.0        No   \n",
       "\n",
       "       Level   Payment_Option  Delivery_Date                    City  \n",
       "7          1  Unknown Payment  Ready to move            Sheikh Zayed  \n",
       "8          0  Unknown Payment        Unknown  New Cairo - El Tagamoa  \n",
       "25         7  Unknown Payment        Unknown                   Smoha  \n",
       "33         0  Unknown Payment           2024            Sheikh Zayed  \n",
       "47         4  Unknown Payment  Ready to move  New Cairo - El Tagamoa  \n",
       "...      ...              ...            ...                     ...  \n",
       "27342     -1  Unknown Payment           2025            Sheikh Zayed  \n",
       "27345     -1  Unknown Payment        Unknown  New Cairo - El Tagamoa  \n",
       "27349     -1  Unknown Payment        Unknown        New Capital City  \n",
       "27356     -1  Unknown Payment        Unknown             North Coast  \n",
       "27359     -1  Unknown Payment        Unknown                Mokattam  \n",
       "\n",
       "[2586 rows x 10 columns]"
      ]
     },
     "execution_count": 95,
     "metadata": {},
     "output_type": "execute_result"
    }
   ],
   "source": [
    "df[df['Payment_Option'] == 'Unknown Payment']"
   ]
  },
  {
   "cell_type": "markdown",
   "metadata": {},
   "source": [
    "they are 2586 which is not small so i will assume that the unknown payment is Cash or Installment"
   ]
  },
  {
   "cell_type": "code",
   "execution_count": 96,
   "metadata": {},
   "outputs": [],
   "source": [
    "df['Payment_Option'] = df['Payment_Option'].str.replace('Unknown Payment','Cash or Installment')"
   ]
  },
  {
   "cell_type": "markdown",
   "metadata": {},
   "source": [
    "now lets check our unique values "
   ]
  },
  {
   "cell_type": "code",
   "execution_count": 97,
   "metadata": {},
   "outputs": [
    {
     "name": "stdout",
     "output_type": "stream",
     "text": [
      "Type : ['duplex' 'apartment' 'chalet' 'standalone villa' 'twin house'\n",
      " 'town house']\n",
      "Furnished : ['No' 'Yes']\n",
      "Level : [ 7  1 10  0  3  2  9  4  5  8  6 -1]\n",
      "Payment_Option : ['Cash' 'Cash or Installment' 'Installment']\n",
      "Delivery_Date : ['Ready to move' '2024' 'Unknown' '2023' 'soon' '2025' 'within 6 months'\n",
      " '2022' '2026' '2027']\n",
      "City : ['Nasr City' 'Smoha' 'New Cairo - El Tagamoa' 'Sheikh Zayed'\n",
      " 'Shorouk City' 'Gesr Al Suez' 'New Capital City' 'New Damietta'\n",
      " 'Zahraa Al Maadi' '6th of October' 'Mansura' 'New Heliopolis' 'other'\n",
      " 'Badr City' 'Borg al-Arab' 'Mohandessin' 'Glim' 'Ain Sukhna' 'Maadi'\n",
      " 'Hadayek 6th of October' 'Madinaty' 'Haram' 'Ismailia City'\n",
      " '10th of Ramadan' 'Heliopolis' 'Rehab City' 'Hadayek al-Ahram'\n",
      " 'North Coast' 'Sidi Beshr' 'Nakheel' 'Obour City' 'Hurghada' 'Tanta'\n",
      " 'Helmeyat El Zaytoun' 'Mokattam' 'Katameya' 'Alamein' 'Miami'\n",
      " 'Hadayek al-Kobba' 'Mostakbal City' 'Agami' 'Ras al-Bar' 'Mandara'\n",
      " '15 May City' 'Seyouf' 'Sharq District' 'Laurent' 'New Mansoura' 'Dokki'\n",
      " 'Sheraton' 'Faisal' 'Roushdy' 'Zagazig' 'Moharam Bik' 'West Somid'\n",
      " 'Asafra' 'Gouna' 'Zamalek' 'Shubra' 'Marsa Matrouh' 'Giza District'\n",
      " 'Saba Pasha' 'Kafr Abdo' 'Zezenia' 'New Nozha' 'Asyut City' 'Amreya'\n",
      " 'Ain Shams' 'Sharm al-Sheikh' 'Ras Sedr' 'Dabaa']\n"
     ]
    }
   ],
   "source": [
    "for col in df.drop(['Area','Price','Bedrooms','Bathrooms'],axis='columns').columns:\n",
    "    print(f'{col} : {df[col].unique()}')"
   ]
  },
  {
   "cell_type": "markdown",
   "metadata": {},
   "source": [
    "They are looking good so lets see the delivery date column"
   ]
  },
  {
   "cell_type": "markdown",
   "metadata": {},
   "source": [
    "## 'Delivery_Date' column"
   ]
  },
  {
   "cell_type": "code",
   "execution_count": 98,
   "metadata": {},
   "outputs": [
    {
     "data": {
      "text/plain": [
       "Delivery_Date\n",
       "Ready to move      11056\n",
       "Unknown             8714\n",
       "soon                1549\n",
       "2024                1012\n",
       "2025                1008\n",
       "2023                 641\n",
       "2026                 358\n",
       "within 6 months      160\n",
       "2022                 117\n",
       "2027                   4\n",
       "Name: count, dtype: int64"
      ]
     },
     "execution_count": 98,
     "metadata": {},
     "output_type": "execute_result"
    }
   ],
   "source": [
    "df['Delivery_Date'].value_counts()"
   ]
  },
  {
   "cell_type": "markdown",
   "metadata": {},
   "source": [
    "it have majority of unknown values so lets see if it is correlated to our price or not"
   ]
  },
  {
   "cell_type": "code",
   "execution_count": 99,
   "metadata": {},
   "outputs": [
    {
     "data": {
      "text/plain": [
       "-0.004198657718476838"
      ]
     },
     "execution_count": 99,
     "metadata": {},
     "output_type": "execute_result"
    }
   ],
   "source": [
    "df['Delivery_Date'].astype('category').cat.codes.corr(df['Price'])"
   ]
  },
  {
   "cell_type": "markdown",
   "metadata": {},
   "source": [
    "it is not correlated to our price so we can drop it"
   ]
  },
  {
   "cell_type": "code",
   "execution_count": 100,
   "metadata": {},
   "outputs": [],
   "source": [
    "df.drop(['Delivery_Date'],axis='columns',inplace=True)"
   ]
  },
  {
   "cell_type": "markdown",
   "metadata": {},
   "source": [
    "Lets checkout unique values for one last time"
   ]
  },
  {
   "cell_type": "code",
   "execution_count": 101,
   "metadata": {},
   "outputs": [
    {
     "name": "stdout",
     "output_type": "stream",
     "text": [
      "Type : ['duplex' 'apartment' 'chalet' 'standalone villa' 'twin house'\n",
      " 'town house']\n",
      "Furnished : ['No' 'Yes']\n",
      "Level : [ 7  1 10  0  3  2  9  4  5  8  6 -1]\n",
      "Payment_Option : ['Cash' 'Cash or Installment' 'Installment']\n",
      "City : ['Nasr City' 'Smoha' 'New Cairo - El Tagamoa' 'Sheikh Zayed'\n",
      " 'Shorouk City' 'Gesr Al Suez' 'New Capital City' 'New Damietta'\n",
      " 'Zahraa Al Maadi' '6th of October' 'Mansura' 'New Heliopolis' 'other'\n",
      " 'Badr City' 'Borg al-Arab' 'Mohandessin' 'Glim' 'Ain Sukhna' 'Maadi'\n",
      " 'Hadayek 6th of October' 'Madinaty' 'Haram' 'Ismailia City'\n",
      " '10th of Ramadan' 'Heliopolis' 'Rehab City' 'Hadayek al-Ahram'\n",
      " 'North Coast' 'Sidi Beshr' 'Nakheel' 'Obour City' 'Hurghada' 'Tanta'\n",
      " 'Helmeyat El Zaytoun' 'Mokattam' 'Katameya' 'Alamein' 'Miami'\n",
      " 'Hadayek al-Kobba' 'Mostakbal City' 'Agami' 'Ras al-Bar' 'Mandara'\n",
      " '15 May City' 'Seyouf' 'Sharq District' 'Laurent' 'New Mansoura' 'Dokki'\n",
      " 'Sheraton' 'Faisal' 'Roushdy' 'Zagazig' 'Moharam Bik' 'West Somid'\n",
      " 'Asafra' 'Gouna' 'Zamalek' 'Shubra' 'Marsa Matrouh' 'Giza District'\n",
      " 'Saba Pasha' 'Kafr Abdo' 'Zezenia' 'New Nozha' 'Asyut City' 'Amreya'\n",
      " 'Ain Shams' 'Sharm al-Sheikh' 'Ras Sedr' 'Dabaa']\n"
     ]
    }
   ],
   "source": [
    "for col in df.drop(['Area','Price','Bedrooms','Bathrooms'],axis='columns').columns:\n",
    "    print(f'{col} : {df[col].unique()}')"
   ]
  },
  {
   "cell_type": "code",
   "execution_count": 102,
   "metadata": {},
   "outputs": [
    {
     "data": {
      "text/html": [
       "<div>\n",
       "<style scoped>\n",
       "    .dataframe tbody tr th:only-of-type {\n",
       "        vertical-align: middle;\n",
       "    }\n",
       "\n",
       "    .dataframe tbody tr th {\n",
       "        vertical-align: top;\n",
       "    }\n",
       "\n",
       "    .dataframe thead th {\n",
       "        text-align: right;\n",
       "    }\n",
       "</style>\n",
       "<table border=\"1\" class=\"dataframe\">\n",
       "  <thead>\n",
       "    <tr style=\"text-align: right;\">\n",
       "      <th></th>\n",
       "      <th>Type</th>\n",
       "      <th>Price</th>\n",
       "      <th>Bedrooms</th>\n",
       "      <th>Bathrooms</th>\n",
       "      <th>Area</th>\n",
       "      <th>Furnished</th>\n",
       "      <th>Level</th>\n",
       "      <th>Payment_Option</th>\n",
       "      <th>City</th>\n",
       "    </tr>\n",
       "  </thead>\n",
       "  <tbody>\n",
       "    <tr>\n",
       "      <th>979</th>\n",
       "      <td>duplex</td>\n",
       "      <td>3000000.0</td>\n",
       "      <td>3.0</td>\n",
       "      <td>3.0</td>\n",
       "      <td>320.0</td>\n",
       "      <td>No</td>\n",
       "      <td>0</td>\n",
       "      <td>Installment</td>\n",
       "      <td>New Cairo - El Tagamoa</td>\n",
       "    </tr>\n",
       "    <tr>\n",
       "      <th>8623</th>\n",
       "      <td>apartment</td>\n",
       "      <td>5087000.0</td>\n",
       "      <td>4.0</td>\n",
       "      <td>3.0</td>\n",
       "      <td>213.0</td>\n",
       "      <td>No</td>\n",
       "      <td>3</td>\n",
       "      <td>Installment</td>\n",
       "      <td>New Cairo - El Tagamoa</td>\n",
       "    </tr>\n",
       "    <tr>\n",
       "      <th>17238</th>\n",
       "      <td>chalet</td>\n",
       "      <td>700000.0</td>\n",
       "      <td>2.0</td>\n",
       "      <td>2.0</td>\n",
       "      <td>100.0</td>\n",
       "      <td>No</td>\n",
       "      <td>1</td>\n",
       "      <td>Cash or Installment</td>\n",
       "      <td>Ain Sukhna</td>\n",
       "    </tr>\n",
       "  </tbody>\n",
       "</table>\n",
       "</div>"
      ],
      "text/plain": [
       "            Type      Price  Bedrooms  Bathrooms   Area Furnished  Level  \\\n",
       "979       duplex  3000000.0       3.0        3.0  320.0        No      0   \n",
       "8623   apartment  5087000.0       4.0        3.0  213.0        No      3   \n",
       "17238     chalet   700000.0       2.0        2.0  100.0        No      1   \n",
       "\n",
       "            Payment_Option                    City  \n",
       "979            Installment  New Cairo - El Tagamoa  \n",
       "8623           Installment  New Cairo - El Tagamoa  \n",
       "17238  Cash or Installment              Ain Sukhna  "
      ]
     },
     "execution_count": 102,
     "metadata": {},
     "output_type": "execute_result"
    }
   ],
   "source": [
    "df.sample(3)"
   ]
  },
  {
   "cell_type": "markdown",
   "metadata": {},
   "source": [
    "Alright everything looks good lets continue"
   ]
  },
  {
   "cell_type": "markdown",
   "metadata": {},
   "source": [
    "# Outlier Detection and removal"
   ]
  },
  {
   "cell_type": "markdown",
   "metadata": {},
   "source": [
    "## check if there houses with rooms smaller than 8m2 (minimum room size) "
   ]
  },
  {
   "cell_type": "code",
   "execution_count": 103,
   "metadata": {},
   "outputs": [
    {
     "data": {
      "text/html": [
       "<div>\n",
       "<style scoped>\n",
       "    .dataframe tbody tr th:only-of-type {\n",
       "        vertical-align: middle;\n",
       "    }\n",
       "\n",
       "    .dataframe tbody tr th {\n",
       "        vertical-align: top;\n",
       "    }\n",
       "\n",
       "    .dataframe thead th {\n",
       "        text-align: right;\n",
       "    }\n",
       "</style>\n",
       "<table border=\"1\" class=\"dataframe\">\n",
       "  <thead>\n",
       "    <tr style=\"text-align: right;\">\n",
       "      <th></th>\n",
       "      <th>Type</th>\n",
       "      <th>Price</th>\n",
       "      <th>Bedrooms</th>\n",
       "      <th>Bathrooms</th>\n",
       "      <th>Area</th>\n",
       "      <th>Furnished</th>\n",
       "      <th>Level</th>\n",
       "      <th>Payment_Option</th>\n",
       "      <th>City</th>\n",
       "    </tr>\n",
       "  </thead>\n",
       "  <tbody>\n",
       "    <tr>\n",
       "      <th>2280</th>\n",
       "      <td>apartment</td>\n",
       "      <td>3200000.0</td>\n",
       "      <td>4.0</td>\n",
       "      <td>1.0</td>\n",
       "      <td>20.0</td>\n",
       "      <td>No</td>\n",
       "      <td>4</td>\n",
       "      <td>Cash or Installment</td>\n",
       "      <td>New Capital City</td>\n",
       "    </tr>\n",
       "    <tr>\n",
       "      <th>6990</th>\n",
       "      <td>apartment</td>\n",
       "      <td>1128000.0</td>\n",
       "      <td>3.0</td>\n",
       "      <td>2.0</td>\n",
       "      <td>14.0</td>\n",
       "      <td>No</td>\n",
       "      <td>3</td>\n",
       "      <td>Installment</td>\n",
       "      <td>New Cairo - El Tagamoa</td>\n",
       "    </tr>\n",
       "    <tr>\n",
       "      <th>7345</th>\n",
       "      <td>apartment</td>\n",
       "      <td>1500000.0</td>\n",
       "      <td>3.0</td>\n",
       "      <td>3.0</td>\n",
       "      <td>10.0</td>\n",
       "      <td>No</td>\n",
       "      <td>4</td>\n",
       "      <td>Cash or Installment</td>\n",
       "      <td>New Cairo - El Tagamoa</td>\n",
       "    </tr>\n",
       "    <tr>\n",
       "      <th>15977</th>\n",
       "      <td>chalet</td>\n",
       "      <td>3000000.0</td>\n",
       "      <td>2.0</td>\n",
       "      <td>2.0</td>\n",
       "      <td>12.0</td>\n",
       "      <td>No</td>\n",
       "      <td>0</td>\n",
       "      <td>Cash</td>\n",
       "      <td>North Coast</td>\n",
       "    </tr>\n",
       "    <tr>\n",
       "      <th>24905</th>\n",
       "      <td>standalone villa</td>\n",
       "      <td>29000000.0</td>\n",
       "      <td>5.0</td>\n",
       "      <td>6.0</td>\n",
       "      <td>11.0</td>\n",
       "      <td>No</td>\n",
       "      <td>-1</td>\n",
       "      <td>Cash</td>\n",
       "      <td>New Cairo - El Tagamoa</td>\n",
       "    </tr>\n",
       "  </tbody>\n",
       "</table>\n",
       "</div>"
      ],
      "text/plain": [
       "                   Type       Price  Bedrooms  Bathrooms  Area Furnished  \\\n",
       "2280          apartment   3200000.0       4.0        1.0  20.0        No   \n",
       "6990          apartment   1128000.0       3.0        2.0  14.0        No   \n",
       "7345          apartment   1500000.0       3.0        3.0  10.0        No   \n",
       "15977            chalet   3000000.0       2.0        2.0  12.0        No   \n",
       "24905  standalone villa  29000000.0       5.0        6.0  11.0        No   \n",
       "\n",
       "       Level       Payment_Option                    City  \n",
       "2280       4  Cash or Installment        New Capital City  \n",
       "6990       3          Installment  New Cairo - El Tagamoa  \n",
       "7345       4  Cash or Installment  New Cairo - El Tagamoa  \n",
       "15977      0                 Cash             North Coast  \n",
       "24905     -1                 Cash  New Cairo - El Tagamoa  "
      ]
     },
     "execution_count": 103,
     "metadata": {},
     "output_type": "execute_result"
    }
   ],
   "source": [
    "df[df.Area/df.Bedrooms<8].head()"
   ]
  },
  {
   "cell_type": "markdown",
   "metadata": {},
   "source": [
    "yeah we some houses with rooms smaller than 8m2 so we will remove them"
   ]
  },
  {
   "cell_type": "code",
   "execution_count": 104,
   "metadata": {},
   "outputs": [],
   "source": [
    "df.drop(df[df.Area/df.Bedrooms<8].index,inplace=True)"
   ]
  },
  {
   "cell_type": "markdown",
   "metadata": {},
   "source": [
    "## check if there houses with 2 bathrooms more than rooms and remove them"
   ]
  },
  {
   "cell_type": "code",
   "execution_count": 105,
   "metadata": {},
   "outputs": [
    {
     "data": {
      "text/html": [
       "<div>\n",
       "<style scoped>\n",
       "    .dataframe tbody tr th:only-of-type {\n",
       "        vertical-align: middle;\n",
       "    }\n",
       "\n",
       "    .dataframe tbody tr th {\n",
       "        vertical-align: top;\n",
       "    }\n",
       "\n",
       "    .dataframe thead th {\n",
       "        text-align: right;\n",
       "    }\n",
       "</style>\n",
       "<table border=\"1\" class=\"dataframe\">\n",
       "  <thead>\n",
       "    <tr style=\"text-align: right;\">\n",
       "      <th></th>\n",
       "      <th>Type</th>\n",
       "      <th>Price</th>\n",
       "      <th>Bedrooms</th>\n",
       "      <th>Bathrooms</th>\n",
       "      <th>Area</th>\n",
       "      <th>Furnished</th>\n",
       "      <th>Level</th>\n",
       "      <th>Payment_Option</th>\n",
       "      <th>City</th>\n",
       "    </tr>\n",
       "  </thead>\n",
       "  <tbody>\n",
       "    <tr>\n",
       "      <th>11020</th>\n",
       "      <td>town house</td>\n",
       "      <td>16500000.0</td>\n",
       "      <td>6.0</td>\n",
       "      <td>10.0</td>\n",
       "      <td>420.0</td>\n",
       "      <td>No</td>\n",
       "      <td>-1</td>\n",
       "      <td>Cash</td>\n",
       "      <td>Heliopolis</td>\n",
       "    </tr>\n",
       "    <tr>\n",
       "      <th>13515</th>\n",
       "      <td>standalone villa</td>\n",
       "      <td>33000000.0</td>\n",
       "      <td>4.0</td>\n",
       "      <td>7.0</td>\n",
       "      <td>450.0</td>\n",
       "      <td>Yes</td>\n",
       "      <td>-1</td>\n",
       "      <td>Cash</td>\n",
       "      <td>North Coast</td>\n",
       "    </tr>\n",
       "    <tr>\n",
       "      <th>13519</th>\n",
       "      <td>standalone villa</td>\n",
       "      <td>36000000.0</td>\n",
       "      <td>4.0</td>\n",
       "      <td>7.0</td>\n",
       "      <td>350.0</td>\n",
       "      <td>Yes</td>\n",
       "      <td>-1</td>\n",
       "      <td>Cash</td>\n",
       "      <td>North Coast</td>\n",
       "    </tr>\n",
       "    <tr>\n",
       "      <th>13792</th>\n",
       "      <td>standalone villa</td>\n",
       "      <td>16000000.0</td>\n",
       "      <td>4.0</td>\n",
       "      <td>7.0</td>\n",
       "      <td>400.0</td>\n",
       "      <td>Yes</td>\n",
       "      <td>-1</td>\n",
       "      <td>Cash</td>\n",
       "      <td>Alamein</td>\n",
       "    </tr>\n",
       "    <tr>\n",
       "      <th>13870</th>\n",
       "      <td>standalone villa</td>\n",
       "      <td>26000000.0</td>\n",
       "      <td>6.0</td>\n",
       "      <td>9.0</td>\n",
       "      <td>339.0</td>\n",
       "      <td>No</td>\n",
       "      <td>-1</td>\n",
       "      <td>Cash or Installment</td>\n",
       "      <td>North Coast</td>\n",
       "    </tr>\n",
       "    <tr>\n",
       "      <th>14798</th>\n",
       "      <td>standalone villa</td>\n",
       "      <td>20000000.0</td>\n",
       "      <td>5.0</td>\n",
       "      <td>8.0</td>\n",
       "      <td>580.0</td>\n",
       "      <td>No</td>\n",
       "      <td>-1</td>\n",
       "      <td>Cash</td>\n",
       "      <td>North Coast</td>\n",
       "    </tr>\n",
       "    <tr>\n",
       "      <th>17150</th>\n",
       "      <td>standalone villa</td>\n",
       "      <td>75000000.0</td>\n",
       "      <td>5.0</td>\n",
       "      <td>8.0</td>\n",
       "      <td>464.0</td>\n",
       "      <td>No</td>\n",
       "      <td>-1</td>\n",
       "      <td>Cash or Installment</td>\n",
       "      <td>North Coast</td>\n",
       "    </tr>\n",
       "    <tr>\n",
       "      <th>17515</th>\n",
       "      <td>standalone villa</td>\n",
       "      <td>450000.0</td>\n",
       "      <td>4.0</td>\n",
       "      <td>7.0</td>\n",
       "      <td>374.0</td>\n",
       "      <td>No</td>\n",
       "      <td>-1</td>\n",
       "      <td>Cash or Installment</td>\n",
       "      <td>North Coast</td>\n",
       "    </tr>\n",
       "    <tr>\n",
       "      <th>18791</th>\n",
       "      <td>standalone villa</td>\n",
       "      <td>18000000.0</td>\n",
       "      <td>6.0</td>\n",
       "      <td>10.0</td>\n",
       "      <td>350.0</td>\n",
       "      <td>Yes</td>\n",
       "      <td>-1</td>\n",
       "      <td>Cash or Installment</td>\n",
       "      <td>Sheikh Zayed</td>\n",
       "    </tr>\n",
       "    <tr>\n",
       "      <th>19947</th>\n",
       "      <td>standalone villa</td>\n",
       "      <td>12500000.0</td>\n",
       "      <td>6.0</td>\n",
       "      <td>10.0</td>\n",
       "      <td>586.0</td>\n",
       "      <td>No</td>\n",
       "      <td>-1</td>\n",
       "      <td>Cash</td>\n",
       "      <td>New Cairo - El Tagamoa</td>\n",
       "    </tr>\n",
       "    <tr>\n",
       "      <th>21020</th>\n",
       "      <td>twin house</td>\n",
       "      <td>6900000.0</td>\n",
       "      <td>4.0</td>\n",
       "      <td>8.0</td>\n",
       "      <td>384.0</td>\n",
       "      <td>No</td>\n",
       "      <td>-1</td>\n",
       "      <td>Cash or Installment</td>\n",
       "      <td>Sheikh Zayed</td>\n",
       "    </tr>\n",
       "    <tr>\n",
       "      <th>21039</th>\n",
       "      <td>standalone villa</td>\n",
       "      <td>20000000.0</td>\n",
       "      <td>4.0</td>\n",
       "      <td>7.0</td>\n",
       "      <td>570.0</td>\n",
       "      <td>Yes</td>\n",
       "      <td>-1</td>\n",
       "      <td>Cash</td>\n",
       "      <td>New Cairo - El Tagamoa</td>\n",
       "    </tr>\n",
       "    <tr>\n",
       "      <th>21466</th>\n",
       "      <td>town house</td>\n",
       "      <td>4094668.0</td>\n",
       "      <td>4.0</td>\n",
       "      <td>7.0</td>\n",
       "      <td>253.0</td>\n",
       "      <td>No</td>\n",
       "      <td>-1</td>\n",
       "      <td>Cash or Installment</td>\n",
       "      <td>Sheikh Zayed</td>\n",
       "    </tr>\n",
       "    <tr>\n",
       "      <th>23195</th>\n",
       "      <td>standalone villa</td>\n",
       "      <td>170000.0</td>\n",
       "      <td>1.0</td>\n",
       "      <td>4.0</td>\n",
       "      <td>680.0</td>\n",
       "      <td>No</td>\n",
       "      <td>-1</td>\n",
       "      <td>Cash</td>\n",
       "      <td>New Cairo - El Tagamoa</td>\n",
       "    </tr>\n",
       "    <tr>\n",
       "      <th>23352</th>\n",
       "      <td>standalone villa</td>\n",
       "      <td>8000000.0</td>\n",
       "      <td>3.0</td>\n",
       "      <td>6.0</td>\n",
       "      <td>770.0</td>\n",
       "      <td>No</td>\n",
       "      <td>-1</td>\n",
       "      <td>Installment</td>\n",
       "      <td>Sheikh Zayed</td>\n",
       "    </tr>\n",
       "    <tr>\n",
       "      <th>23603</th>\n",
       "      <td>standalone villa</td>\n",
       "      <td>48000000.0</td>\n",
       "      <td>7.0</td>\n",
       "      <td>10.0</td>\n",
       "      <td>710.0</td>\n",
       "      <td>No</td>\n",
       "      <td>-1</td>\n",
       "      <td>Cash</td>\n",
       "      <td>New Cairo - El Tagamoa</td>\n",
       "    </tr>\n",
       "    <tr>\n",
       "      <th>23632</th>\n",
       "      <td>standalone villa</td>\n",
       "      <td>16000000.0</td>\n",
       "      <td>4.0</td>\n",
       "      <td>7.0</td>\n",
       "      <td>500.0</td>\n",
       "      <td>No</td>\n",
       "      <td>-1</td>\n",
       "      <td>Cash</td>\n",
       "      <td>New Cairo - El Tagamoa</td>\n",
       "    </tr>\n",
       "    <tr>\n",
       "      <th>23980</th>\n",
       "      <td>standalone villa</td>\n",
       "      <td>15000000.0</td>\n",
       "      <td>5.0</td>\n",
       "      <td>9.0</td>\n",
       "      <td>890.0</td>\n",
       "      <td>Yes</td>\n",
       "      <td>-1</td>\n",
       "      <td>Cash</td>\n",
       "      <td>New Cairo - El Tagamoa</td>\n",
       "    </tr>\n",
       "    <tr>\n",
       "      <th>24311</th>\n",
       "      <td>standalone villa</td>\n",
       "      <td>3849999.0</td>\n",
       "      <td>3.0</td>\n",
       "      <td>6.0</td>\n",
       "      <td>304.0</td>\n",
       "      <td>No</td>\n",
       "      <td>-1</td>\n",
       "      <td>Cash or Installment</td>\n",
       "      <td>Sheikh Zayed</td>\n",
       "    </tr>\n",
       "    <tr>\n",
       "      <th>25491</th>\n",
       "      <td>twin house</td>\n",
       "      <td>8500000.0</td>\n",
       "      <td>5.0</td>\n",
       "      <td>8.0</td>\n",
       "      <td>460.0</td>\n",
       "      <td>No</td>\n",
       "      <td>-1</td>\n",
       "      <td>Cash</td>\n",
       "      <td>Zahraa Al Maadi</td>\n",
       "    </tr>\n",
       "    <tr>\n",
       "      <th>25911</th>\n",
       "      <td>standalone villa</td>\n",
       "      <td>11500000.0</td>\n",
       "      <td>4.0</td>\n",
       "      <td>8.0</td>\n",
       "      <td>400.0</td>\n",
       "      <td>No</td>\n",
       "      <td>-1</td>\n",
       "      <td>Cash</td>\n",
       "      <td>New Cairo - El Tagamoa</td>\n",
       "    </tr>\n",
       "    <tr>\n",
       "      <th>25991</th>\n",
       "      <td>standalone villa</td>\n",
       "      <td>19000000.0</td>\n",
       "      <td>4.0</td>\n",
       "      <td>7.0</td>\n",
       "      <td>380.0</td>\n",
       "      <td>No</td>\n",
       "      <td>-1</td>\n",
       "      <td>Cash</td>\n",
       "      <td>Sheikh Zayed</td>\n",
       "    </tr>\n",
       "  </tbody>\n",
       "</table>\n",
       "</div>"
      ],
      "text/plain": [
       "                   Type       Price  Bedrooms  Bathrooms   Area Furnished  \\\n",
       "11020        town house  16500000.0       6.0       10.0  420.0        No   \n",
       "13515  standalone villa  33000000.0       4.0        7.0  450.0       Yes   \n",
       "13519  standalone villa  36000000.0       4.0        7.0  350.0       Yes   \n",
       "13792  standalone villa  16000000.0       4.0        7.0  400.0       Yes   \n",
       "13870  standalone villa  26000000.0       6.0        9.0  339.0        No   \n",
       "14798  standalone villa  20000000.0       5.0        8.0  580.0        No   \n",
       "17150  standalone villa  75000000.0       5.0        8.0  464.0        No   \n",
       "17515  standalone villa    450000.0       4.0        7.0  374.0        No   \n",
       "18791  standalone villa  18000000.0       6.0       10.0  350.0       Yes   \n",
       "19947  standalone villa  12500000.0       6.0       10.0  586.0        No   \n",
       "21020        twin house   6900000.0       4.0        8.0  384.0        No   \n",
       "21039  standalone villa  20000000.0       4.0        7.0  570.0       Yes   \n",
       "21466        town house   4094668.0       4.0        7.0  253.0        No   \n",
       "23195  standalone villa    170000.0       1.0        4.0  680.0        No   \n",
       "23352  standalone villa   8000000.0       3.0        6.0  770.0        No   \n",
       "23603  standalone villa  48000000.0       7.0       10.0  710.0        No   \n",
       "23632  standalone villa  16000000.0       4.0        7.0  500.0        No   \n",
       "23980  standalone villa  15000000.0       5.0        9.0  890.0       Yes   \n",
       "24311  standalone villa   3849999.0       3.0        6.0  304.0        No   \n",
       "25491        twin house   8500000.0       5.0        8.0  460.0        No   \n",
       "25911  standalone villa  11500000.0       4.0        8.0  400.0        No   \n",
       "25991  standalone villa  19000000.0       4.0        7.0  380.0        No   \n",
       "\n",
       "       Level       Payment_Option                    City  \n",
       "11020     -1                 Cash              Heliopolis  \n",
       "13515     -1                 Cash             North Coast  \n",
       "13519     -1                 Cash             North Coast  \n",
       "13792     -1                 Cash                 Alamein  \n",
       "13870     -1  Cash or Installment             North Coast  \n",
       "14798     -1                 Cash             North Coast  \n",
       "17150     -1  Cash or Installment             North Coast  \n",
       "17515     -1  Cash or Installment             North Coast  \n",
       "18791     -1  Cash or Installment            Sheikh Zayed  \n",
       "19947     -1                 Cash  New Cairo - El Tagamoa  \n",
       "21020     -1  Cash or Installment            Sheikh Zayed  \n",
       "21039     -1                 Cash  New Cairo - El Tagamoa  \n",
       "21466     -1  Cash or Installment            Sheikh Zayed  \n",
       "23195     -1                 Cash  New Cairo - El Tagamoa  \n",
       "23352     -1          Installment            Sheikh Zayed  \n",
       "23603     -1                 Cash  New Cairo - El Tagamoa  \n",
       "23632     -1                 Cash  New Cairo - El Tagamoa  \n",
       "23980     -1                 Cash  New Cairo - El Tagamoa  \n",
       "24311     -1  Cash or Installment            Sheikh Zayed  \n",
       "25491     -1                 Cash         Zahraa Al Maadi  \n",
       "25911     -1                 Cash  New Cairo - El Tagamoa  \n",
       "25991     -1                 Cash            Sheikh Zayed  "
      ]
     },
     "execution_count": 105,
     "metadata": {},
     "output_type": "execute_result"
    }
   ],
   "source": [
    "df[df.Bathrooms > df.Bedrooms+2]"
   ]
  },
  {
   "cell_type": "code",
   "execution_count": 106,
   "metadata": {},
   "outputs": [],
   "source": [
    "df.drop(df[df.Bathrooms > df.Bedrooms+2].index,inplace=True)"
   ]
  },
  {
   "cell_type": "markdown",
   "metadata": {},
   "source": [
    "## price outliers detection and removal"
   ]
  },
  {
   "cell_type": "code",
   "execution_count": 107,
   "metadata": {},
   "outputs": [
    {
     "data": {
      "text/plain": [
       "count        24592.0\n",
       "mean       4521694.1\n",
       "std        5660292.3\n",
       "min          30000.0\n",
       "25%        1200000.0\n",
       "50%        2729000.0\n",
       "75%        5825974.0\n",
       "max      205000000.0\n",
       "Name: Price, dtype: float64"
      ]
     },
     "execution_count": 107,
     "metadata": {},
     "output_type": "execute_result"
    }
   ],
   "source": [
    "df.Price.describe().round(1)"
   ]
  },
  {
   "cell_type": "markdown",
   "metadata": {},
   "source": [
    "we have minimum of 30k and maximum of 205m where the actual minimum price for house is around 800k and maximum of 65m"
   ]
  },
  {
   "cell_type": "code",
   "execution_count": 108,
   "metadata": {},
   "outputs": [],
   "source": [
    "df = df[~((df['Price'] < 800000) | (df['Price'] >= 65000000))]"
   ]
  },
  {
   "cell_type": "code",
   "execution_count": 109,
   "metadata": {},
   "outputs": [
    {
     "data": {
      "text/html": [
       "<div>\n",
       "<style scoped>\n",
       "    .dataframe tbody tr th:only-of-type {\n",
       "        vertical-align: middle;\n",
       "    }\n",
       "\n",
       "    .dataframe tbody tr th {\n",
       "        vertical-align: top;\n",
       "    }\n",
       "\n",
       "    .dataframe thead th {\n",
       "        text-align: right;\n",
       "    }\n",
       "</style>\n",
       "<table border=\"1\" class=\"dataframe\">\n",
       "  <thead>\n",
       "    <tr style=\"text-align: right;\">\n",
       "      <th></th>\n",
       "      <th>Type</th>\n",
       "      <th>Price</th>\n",
       "      <th>Bedrooms</th>\n",
       "      <th>Bathrooms</th>\n",
       "      <th>Area</th>\n",
       "      <th>Furnished</th>\n",
       "      <th>Level</th>\n",
       "      <th>Payment_Option</th>\n",
       "      <th>City</th>\n",
       "      <th>price_per_m2</th>\n",
       "    </tr>\n",
       "  </thead>\n",
       "  <tbody>\n",
       "    <tr>\n",
       "      <th>14262</th>\n",
       "      <td>chalet</td>\n",
       "      <td>3360000.0</td>\n",
       "      <td>2.0</td>\n",
       "      <td>1.0</td>\n",
       "      <td>92.0</td>\n",
       "      <td>No</td>\n",
       "      <td>0</td>\n",
       "      <td>Installment</td>\n",
       "      <td>North Coast</td>\n",
       "      <td>36521.74</td>\n",
       "    </tr>\n",
       "    <tr>\n",
       "      <th>16324</th>\n",
       "      <td>standalone villa</td>\n",
       "      <td>11500000.0</td>\n",
       "      <td>4.0</td>\n",
       "      <td>3.0</td>\n",
       "      <td>340.0</td>\n",
       "      <td>No</td>\n",
       "      <td>-1</td>\n",
       "      <td>Installment</td>\n",
       "      <td>North Coast</td>\n",
       "      <td>33823.53</td>\n",
       "    </tr>\n",
       "    <tr>\n",
       "      <th>21128</th>\n",
       "      <td>standalone villa</td>\n",
       "      <td>3990000.0</td>\n",
       "      <td>6.0</td>\n",
       "      <td>5.0</td>\n",
       "      <td>378.0</td>\n",
       "      <td>No</td>\n",
       "      <td>-1</td>\n",
       "      <td>Cash or Installment</td>\n",
       "      <td>6th of October</td>\n",
       "      <td>10555.56</td>\n",
       "    </tr>\n",
       "  </tbody>\n",
       "</table>\n",
       "</div>"
      ],
      "text/plain": [
       "                   Type       Price  Bedrooms  Bathrooms   Area Furnished  \\\n",
       "14262            chalet   3360000.0       2.0        1.0   92.0        No   \n",
       "16324  standalone villa  11500000.0       4.0        3.0  340.0        No   \n",
       "21128  standalone villa   3990000.0       6.0        5.0  378.0        No   \n",
       "\n",
       "       Level       Payment_Option            City  price_per_m2  \n",
       "14262      0          Installment     North Coast      36521.74  \n",
       "16324     -1          Installment     North Coast      33823.53  \n",
       "21128     -1  Cash or Installment  6th of October      10555.56  "
      ]
     },
     "execution_count": 109,
     "metadata": {},
     "output_type": "execute_result"
    }
   ],
   "source": [
    "#lets get the price per m2 of each house\n",
    "df['price_per_m2'] = (df['Price']/df['Area']).round(2)\n",
    "df.sample(3)"
   ]
  },
  {
   "cell_type": "markdown",
   "metadata": {},
   "source": [
    "Now lets remove the outliers from each type of houses"
   ]
  },
  {
   "cell_type": "code",
   "execution_count": 110,
   "metadata": {},
   "outputs": [
    {
     "data": {
      "text/plain": [
       "(16309, 10)"
      ]
     },
     "execution_count": 110,
     "metadata": {},
     "output_type": "execute_result"
    }
   ],
   "source": [
    "def remove_pps_outliers(df):\n",
    "    df_out = pd.DataFrame()\n",
    "    for key, subdf in df.groupby('Type'):\n",
    "        m = np.mean(subdf.price_per_m2)\n",
    "        st = np.std(subdf.price_per_m2)\n",
    "        reduced_df = subdf[(subdf.price_per_m2>=(m-st)) & (subdf.price_per_m2<=(m+st))]\n",
    "        df_out = pd.concat([df_out,reduced_df],ignore_index=True)\n",
    "    return df_out\n",
    "df = remove_pps_outliers(df)\n",
    "df.shape"
   ]
  },
  {
   "cell_type": "code",
   "execution_count": 111,
   "metadata": {},
   "outputs": [
    {
     "data": {
      "text/plain": [
       "(16309, 10)"
      ]
     },
     "execution_count": 111,
     "metadata": {},
     "output_type": "execute_result"
    }
   ],
   "source": [
    "df.shape"
   ]
  },
  {
   "cell_type": "code",
   "execution_count": 112,
   "metadata": {},
   "outputs": [
    {
     "data": {
      "text/plain": [
       "count       16309.0\n",
       "mean      4937336.3\n",
       "std       4244634.4\n",
       "min        800000.0\n",
       "25%       2100000.0\n",
       "50%       3500000.0\n",
       "75%       6450000.0\n",
       "max      34000000.0\n",
       "Name: Price, dtype: float64"
      ]
     },
     "execution_count": 112,
     "metadata": {},
     "output_type": "execute_result"
    }
   ],
   "source": [
    "df.Price.describe().round(1)"
   ]
  },
  {
   "cell_type": "code",
   "execution_count": 113,
   "metadata": {},
   "outputs": [
    {
     "data": {
      "text/html": [
       "<div>\n",
       "<style scoped>\n",
       "    .dataframe tbody tr th:only-of-type {\n",
       "        vertical-align: middle;\n",
       "    }\n",
       "\n",
       "    .dataframe tbody tr th {\n",
       "        vertical-align: top;\n",
       "    }\n",
       "\n",
       "    .dataframe thead th {\n",
       "        text-align: right;\n",
       "    }\n",
       "</style>\n",
       "<table border=\"1\" class=\"dataframe\">\n",
       "  <thead>\n",
       "    <tr style=\"text-align: right;\">\n",
       "      <th></th>\n",
       "      <th>Type</th>\n",
       "      <th>Price</th>\n",
       "      <th>Bedrooms</th>\n",
       "      <th>Bathrooms</th>\n",
       "      <th>Area</th>\n",
       "      <th>Furnished</th>\n",
       "      <th>Level</th>\n",
       "      <th>Payment_Option</th>\n",
       "      <th>City</th>\n",
       "      <th>price_per_m2</th>\n",
       "    </tr>\n",
       "  </thead>\n",
       "  <tbody>\n",
       "    <tr>\n",
       "      <th>14465</th>\n",
       "      <td>town house</td>\n",
       "      <td>5000000.0</td>\n",
       "      <td>3.0</td>\n",
       "      <td>3.0</td>\n",
       "      <td>365.0</td>\n",
       "      <td>No</td>\n",
       "      <td>-1</td>\n",
       "      <td>Cash or Installment</td>\n",
       "      <td>Madinaty</td>\n",
       "      <td>13698.63</td>\n",
       "    </tr>\n",
       "    <tr>\n",
       "      <th>6555</th>\n",
       "      <td>chalet</td>\n",
       "      <td>2300000.0</td>\n",
       "      <td>1.0</td>\n",
       "      <td>1.0</td>\n",
       "      <td>65.0</td>\n",
       "      <td>No</td>\n",
       "      <td>3</td>\n",
       "      <td>Cash or Installment</td>\n",
       "      <td>Roushdy</td>\n",
       "      <td>35384.62</td>\n",
       "    </tr>\n",
       "    <tr>\n",
       "      <th>9298</th>\n",
       "      <td>duplex</td>\n",
       "      <td>6500000.0</td>\n",
       "      <td>4.0</td>\n",
       "      <td>5.0</td>\n",
       "      <td>440.0</td>\n",
       "      <td>No</td>\n",
       "      <td>1</td>\n",
       "      <td>Cash</td>\n",
       "      <td>North Coast</td>\n",
       "      <td>14772.73</td>\n",
       "    </tr>\n",
       "    <tr>\n",
       "      <th>6243</th>\n",
       "      <td>chalet</td>\n",
       "      <td>3143000.0</td>\n",
       "      <td>2.0</td>\n",
       "      <td>2.0</td>\n",
       "      <td>94.0</td>\n",
       "      <td>No</td>\n",
       "      <td>2</td>\n",
       "      <td>Installment</td>\n",
       "      <td>North Coast</td>\n",
       "      <td>33436.17</td>\n",
       "    </tr>\n",
       "    <tr>\n",
       "      <th>2689</th>\n",
       "      <td>apartment</td>\n",
       "      <td>1800000.0</td>\n",
       "      <td>2.0</td>\n",
       "      <td>2.0</td>\n",
       "      <td>131.0</td>\n",
       "      <td>No</td>\n",
       "      <td>1</td>\n",
       "      <td>Cash or Installment</td>\n",
       "      <td>New Cairo - El Tagamoa</td>\n",
       "      <td>13740.46</td>\n",
       "    </tr>\n",
       "  </tbody>\n",
       "</table>\n",
       "</div>"
      ],
      "text/plain": [
       "             Type      Price  Bedrooms  Bathrooms   Area Furnished  Level  \\\n",
       "14465  town house  5000000.0       3.0        3.0  365.0        No     -1   \n",
       "6555       chalet  2300000.0       1.0        1.0   65.0        No      3   \n",
       "9298       duplex  6500000.0       4.0        5.0  440.0        No      1   \n",
       "6243       chalet  3143000.0       2.0        2.0   94.0        No      2   \n",
       "2689    apartment  1800000.0       2.0        2.0  131.0        No      1   \n",
       "\n",
       "            Payment_Option                    City  price_per_m2  \n",
       "14465  Cash or Installment                Madinaty      13698.63  \n",
       "6555   Cash or Installment                 Roushdy      35384.62  \n",
       "9298                  Cash             North Coast      14772.73  \n",
       "6243           Installment             North Coast      33436.17  \n",
       "2689   Cash or Installment  New Cairo - El Tagamoa      13740.46  "
      ]
     },
     "execution_count": 113,
     "metadata": {},
     "output_type": "execute_result"
    }
   ],
   "source": [
    "df.sample(5)"
   ]
  },
  {
   "cell_type": "markdown",
   "metadata": {},
   "source": [
    "# data visualization"
   ]
  },
  {
   "cell_type": "code",
   "execution_count": 114,
   "metadata": {},
   "outputs": [
    {
     "data": {
      "image/png": "[encoded data removed]",
      "text/plain": [
       "<Figure size 1200x500 with 1 Axes>"
      ]
     },
     "metadata": {},
     "output_type": "display_data"
    }
   ],
   "source": [
    "plt.figure(figsize=(12,5))\n",
    "sns.barplot(data=df, x='Type', y='Price')\n",
    "plt.tight_layout()\n",
    "plt.show()"
   ]
  },
  {
   "cell_type": "code",
   "execution_count": 115,
   "metadata": {},
   "outputs": [
    {
     "data": {
      "image/png": "[encoded data removed]",
      "text/plain": [
       "<Figure size 2500x1000 with 6 Axes>"
      ]
     },
     "metadata": {},
     "output_type": "display_data"
    }
   ],
   "source": [
    "fig,axs = plt.subplots(2,3,figsize=(25,10))\n",
    "sns.barplot(data=df, x='Price', y='Payment_Option',ax=axs[0,0])\n",
    "sns.barplot(data=df, x='Price', y='Furnished',ax=axs[0,1])\n",
    "sns.scatterplot(data=df,x='Level',y='Price',ax=axs[0,2])\n",
    "sns.scatterplot(data=df,x='Bedrooms',y='Price',ax=axs[1,0])\n",
    "sns.scatterplot(data=df,x='Bathrooms',y='Price',ax=axs[1,1])\n",
    "axs[1,2].axis('off')\n",
    "plt.tight_layout()\n",
    "plt.show()"
   ]
  },
  {
   "cell_type": "markdown",
   "metadata": {},
   "source": [
    "# Data Preprocessing"
   ]
  },
  {
   "cell_type": "code",
   "execution_count": 116,
   "metadata": {},
   "outputs": [
    {
     "data": {
      "text/plain": [
       "array(['apartment', 'chalet', 'duplex', 'standalone villa', 'town house',\n",
       "       'twin house'], dtype=object)"
      ]
     },
     "execution_count": 116,
     "metadata": {},
     "output_type": "execute_result"
    }
   ],
   "source": [
    "df['Type'].unique()"
   ]
  },
  {
   "cell_type": "code",
   "execution_count": 117,
   "metadata": {},
   "outputs": [
    {
     "data": {
      "text/plain": [
       "array([0, 2, 1, 5, 4, 3], dtype=int64)"
      ]
     },
     "execution_count": 117,
     "metadata": {},
     "output_type": "execute_result"
    }
   ],
   "source": [
    "df['Type'] = df['Type'].map({'apartment' : 0 , 'duplex' : 1 , 'chalet' : 2 , 'twin house' : 3 , 'town house' : 4 , 'standalone villa' : 5 })\n",
    "df[\"Type\"].unique()"
   ]
  },
  {
   "cell_type": "code",
   "execution_count": 118,
   "metadata": {},
   "outputs": [
    {
     "data": {
      "text/plain": [
       "array([0, 1], dtype=int64)"
      ]
     },
     "execution_count": 118,
     "metadata": {},
     "output_type": "execute_result"
    }
   ],
   "source": [
    "df['Furnished'] = df['Furnished'].map({'No' : 0 , 'Yes' : 1})\n",
    "df['Furnished'].unique()"
   ]
  },
  {
   "cell_type": "code",
   "execution_count": 119,
   "metadata": {},
   "outputs": [
    {
     "data": {
      "text/plain": [
       "array(['Cash', 'Cash or Installment', 'Installment'], dtype=object)"
      ]
     },
     "execution_count": 119,
     "metadata": {},
     "output_type": "execute_result"
    }
   ],
   "source": [
    "df['Payment_Option'].unique()"
   ]
  },
  {
   "cell_type": "code",
   "execution_count": 120,
   "metadata": {},
   "outputs": [
    {
     "data": {
      "text/plain": [
       "array([0, 2, 1], dtype=int64)"
      ]
     },
     "execution_count": 120,
     "metadata": {},
     "output_type": "execute_result"
    }
   ],
   "source": [
    "df['Payment_Option'] = df['Payment_Option'].map({'Cash' : 0 , 'Installment' : 1,'Cash or Installment' : 2})\n",
    "df['Payment_Option'].unique()"
   ]
  },
  {
   "cell_type": "code",
   "execution_count": 121,
   "metadata": {},
   "outputs": [
    {
     "data": {
      "text/html": [
       "<div>\n",
       "<style scoped>\n",
       "    .dataframe tbody tr th:only-of-type {\n",
       "        vertical-align: middle;\n",
       "    }\n",
       "\n",
       "    .dataframe tbody tr th {\n",
       "        vertical-align: top;\n",
       "    }\n",
       "\n",
       "    .dataframe thead th {\n",
       "        text-align: right;\n",
       "    }\n",
       "</style>\n",
       "<table border=\"1\" class=\"dataframe\">\n",
       "  <thead>\n",
       "    <tr style=\"text-align: right;\">\n",
       "      <th></th>\n",
       "      <th>Type</th>\n",
       "      <th>Price</th>\n",
       "      <th>Bedrooms</th>\n",
       "      <th>Bathrooms</th>\n",
       "      <th>Area</th>\n",
       "      <th>Furnished</th>\n",
       "      <th>Level</th>\n",
       "      <th>Payment_Option</th>\n",
       "      <th>City</th>\n",
       "      <th>price_per_m2</th>\n",
       "    </tr>\n",
       "  </thead>\n",
       "  <tbody>\n",
       "    <tr>\n",
       "      <th>8650</th>\n",
       "      <td>2</td>\n",
       "      <td>3100000.0</td>\n",
       "      <td>3.0</td>\n",
       "      <td>2.0</td>\n",
       "      <td>132.0</td>\n",
       "      <td>0</td>\n",
       "      <td>0</td>\n",
       "      <td>2</td>\n",
       "      <td>North Coast</td>\n",
       "      <td>23484.85</td>\n",
       "    </tr>\n",
       "    <tr>\n",
       "      <th>15909</th>\n",
       "      <td>3</td>\n",
       "      <td>7226000.0</td>\n",
       "      <td>3.0</td>\n",
       "      <td>3.0</td>\n",
       "      <td>251.0</td>\n",
       "      <td>0</td>\n",
       "      <td>-1</td>\n",
       "      <td>1</td>\n",
       "      <td>New Cairo - El Tagamoa</td>\n",
       "      <td>28788.84</td>\n",
       "    </tr>\n",
       "    <tr>\n",
       "      <th>888</th>\n",
       "      <td>0</td>\n",
       "      <td>1616599.0</td>\n",
       "      <td>3.0</td>\n",
       "      <td>2.0</td>\n",
       "      <td>173.7</td>\n",
       "      <td>0</td>\n",
       "      <td>4</td>\n",
       "      <td>2</td>\n",
       "      <td>Mokattam</td>\n",
       "      <td>9306.85</td>\n",
       "    </tr>\n",
       "  </tbody>\n",
       "</table>\n",
       "</div>"
      ],
      "text/plain": [
       "       Type      Price  Bedrooms  Bathrooms   Area  Furnished  Level  \\\n",
       "8650      2  3100000.0       3.0        2.0  132.0          0      0   \n",
       "15909     3  7226000.0       3.0        3.0  251.0          0     -1   \n",
       "888       0  1616599.0       3.0        2.0  173.7          0      4   \n",
       "\n",
       "       Payment_Option                    City  price_per_m2  \n",
       "8650                2             North Coast      23484.85  \n",
       "15909               1  New Cairo - El Tagamoa      28788.84  \n",
       "888                 2                Mokattam       9306.85  "
      ]
     },
     "execution_count": 121,
     "metadata": {},
     "output_type": "execute_result"
    }
   ],
   "source": [
    "df.sample(3)"
   ]
  },
  {
   "cell_type": "markdown",
   "metadata": {},
   "source": [
    "Before we preprocess the price column lets see its visualization with the are"
   ]
  },
  {
   "cell_type": "code",
   "execution_count": 122,
   "metadata": {},
   "outputs": [
    {
     "data": {
      "image/png": "[encoded data removed]",
      "text/plain": [
       "<Figure size 1500x500 with 3 Axes>"
      ]
     },
     "metadata": {},
     "output_type": "display_data"
    }
   ],
   "source": [
    "fig, axs = plt.subplots(1, 3, figsize=(15, 5))\n",
    "sns.scatterplot(data=df, x='Area', y='Price',ax=axs[0])\n",
    "sns.histplot(df['Area'], kde=True, color='skyblue', bins=10,ax=axs[1])\n",
    "sns.histplot(df['Price'], kde=True, color='skyblue',ax=axs[2]) \n",
    "plt.tight_layout()\n",
    "plt.show()"
   ]
  },
  {
   "cell_type": "markdown",
   "metadata": {},
   "source": [
    "as we have very prices lets scale it with the log scaling technique that wil also make normal distrubited"
   ]
  },
  {
   "cell_type": "code",
   "execution_count": 123,
   "metadata": {},
   "outputs": [],
   "source": [
    "df['Log_Price'] = np.log(df['Price'])"
   ]
  },
  {
   "cell_type": "code",
   "execution_count": 124,
   "metadata": {},
   "outputs": [
    {
     "data": {
      "text/html": [
       "<div>\n",
       "<style scoped>\n",
       "    .dataframe tbody tr th:only-of-type {\n",
       "        vertical-align: middle;\n",
       "    }\n",
       "\n",
       "    .dataframe tbody tr th {\n",
       "        vertical-align: top;\n",
       "    }\n",
       "\n",
       "    .dataframe thead th {\n",
       "        text-align: right;\n",
       "    }\n",
       "</style>\n",
       "<table border=\"1\" class=\"dataframe\">\n",
       "  <thead>\n",
       "    <tr style=\"text-align: right;\">\n",
       "      <th></th>\n",
       "      <th>Type</th>\n",
       "      <th>Price</th>\n",
       "      <th>Bedrooms</th>\n",
       "      <th>Bathrooms</th>\n",
       "      <th>Area</th>\n",
       "      <th>Furnished</th>\n",
       "      <th>Level</th>\n",
       "      <th>Payment_Option</th>\n",
       "      <th>City</th>\n",
       "      <th>price_per_m2</th>\n",
       "      <th>Log_Price</th>\n",
       "    </tr>\n",
       "  </thead>\n",
       "  <tbody>\n",
       "    <tr>\n",
       "      <th>9305</th>\n",
       "      <td>1</td>\n",
       "      <td>4725000.0</td>\n",
       "      <td>4.0</td>\n",
       "      <td>3.0</td>\n",
       "      <td>270.0</td>\n",
       "      <td>0</td>\n",
       "      <td>1</td>\n",
       "      <td>1</td>\n",
       "      <td>North Coast</td>\n",
       "      <td>17500.00</td>\n",
       "      <td>15.368378</td>\n",
       "    </tr>\n",
       "    <tr>\n",
       "      <th>6709</th>\n",
       "      <td>2</td>\n",
       "      <td>1292000.0</td>\n",
       "      <td>2.0</td>\n",
       "      <td>1.0</td>\n",
       "      <td>75.0</td>\n",
       "      <td>0</td>\n",
       "      <td>0</td>\n",
       "      <td>2</td>\n",
       "      <td>North Coast</td>\n",
       "      <td>17226.67</td>\n",
       "      <td>14.071702</td>\n",
       "    </tr>\n",
       "    <tr>\n",
       "      <th>2533</th>\n",
       "      <td>0</td>\n",
       "      <td>1375000.0</td>\n",
       "      <td>3.0</td>\n",
       "      <td>3.0</td>\n",
       "      <td>170.0</td>\n",
       "      <td>0</td>\n",
       "      <td>7</td>\n",
       "      <td>2</td>\n",
       "      <td>Maadi</td>\n",
       "      <td>8088.24</td>\n",
       "      <td>14.133964</td>\n",
       "    </tr>\n",
       "  </tbody>\n",
       "</table>\n",
       "</div>"
      ],
      "text/plain": [
       "      Type      Price  Bedrooms  Bathrooms   Area  Furnished  Level  \\\n",
       "9305     1  4725000.0       4.0        3.0  270.0          0      1   \n",
       "6709     2  1292000.0       2.0        1.0   75.0          0      0   \n",
       "2533     0  1375000.0       3.0        3.0  170.0          0      7   \n",
       "\n",
       "      Payment_Option         City  price_per_m2  Log_Price  \n",
       "9305               1  North Coast      17500.00  15.368378  \n",
       "6709               2  North Coast      17226.67  14.071702  \n",
       "2533               2        Maadi       8088.24  14.133964  "
      ]
     },
     "execution_count": 124,
     "metadata": {},
     "output_type": "execute_result"
    }
   ],
   "source": [
    "df.sample(3)"
   ]
  },
  {
   "cell_type": "markdown",
   "metadata": {},
   "source": [
    "lets visualize log price distrubition and it versus the area"
   ]
  },
  {
   "cell_type": "code",
   "execution_count": 125,
   "metadata": {},
   "outputs": [
    {
     "data": {
      "image/png": "[encoded data removed]",
      "text/plain": [
       "<Figure size 1000x500 with 2 Axes>"
      ]
     },
     "metadata": {},
     "output_type": "display_data"
    }
   ],
   "source": [
    "fig, axs = plt.subplots(1, 2, figsize=(10, 5))\n",
    "sns.scatterplot(data=df, x='Area', y='Log_Price',ax=axs[0])\n",
    "sns.histplot(df['Log_Price'], kde=True, color='skyblue',ax=axs[1])\n",
    "plt.tight_layout()\n",
    "plt.show()"
   ]
  },
  {
   "cell_type": "markdown",
   "metadata": {},
   "source": [
    "it looks pretty good so now lets drop the price_per_m2 and price columns as we dont need them any more"
   ]
  },
  {
   "cell_type": "code",
   "execution_count": 126,
   "metadata": {},
   "outputs": [
    {
     "data": {
      "text/html": [
       "<div>\n",
       "<style scoped>\n",
       "    .dataframe tbody tr th:only-of-type {\n",
       "        vertical-align: middle;\n",
       "    }\n",
       "\n",
       "    .dataframe tbody tr th {\n",
       "        vertical-align: top;\n",
       "    }\n",
       "\n",
       "    .dataframe thead th {\n",
       "        text-align: right;\n",
       "    }\n",
       "</style>\n",
       "<table border=\"1\" class=\"dataframe\">\n",
       "  <thead>\n",
       "    <tr style=\"text-align: right;\">\n",
       "      <th></th>\n",
       "      <th>Type</th>\n",
       "      <th>Bedrooms</th>\n",
       "      <th>Bathrooms</th>\n",
       "      <th>Area</th>\n",
       "      <th>Furnished</th>\n",
       "      <th>Level</th>\n",
       "      <th>Payment_Option</th>\n",
       "      <th>City</th>\n",
       "      <th>Log_Price</th>\n",
       "    </tr>\n",
       "  </thead>\n",
       "  <tbody>\n",
       "    <tr>\n",
       "      <th>3917</th>\n",
       "      <td>0</td>\n",
       "      <td>3.0</td>\n",
       "      <td>2.0</td>\n",
       "      <td>116.0</td>\n",
       "      <td>0</td>\n",
       "      <td>1</td>\n",
       "      <td>0</td>\n",
       "      <td>Madinaty</td>\n",
       "      <td>14.334304</td>\n",
       "    </tr>\n",
       "    <tr>\n",
       "      <th>13813</th>\n",
       "      <td>4</td>\n",
       "      <td>3.0</td>\n",
       "      <td>3.0</td>\n",
       "      <td>230.0</td>\n",
       "      <td>0</td>\n",
       "      <td>-1</td>\n",
       "      <td>1</td>\n",
       "      <td>Madinaty</td>\n",
       "      <td>15.250595</td>\n",
       "    </tr>\n",
       "    <tr>\n",
       "      <th>13987</th>\n",
       "      <td>4</td>\n",
       "      <td>4.0</td>\n",
       "      <td>4.0</td>\n",
       "      <td>353.0</td>\n",
       "      <td>0</td>\n",
       "      <td>-1</td>\n",
       "      <td>2</td>\n",
       "      <td>Sheikh Zayed</td>\n",
       "      <td>16.166886</td>\n",
       "    </tr>\n",
       "  </tbody>\n",
       "</table>\n",
       "</div>"
      ],
      "text/plain": [
       "       Type  Bedrooms  Bathrooms   Area  Furnished  Level  Payment_Option  \\\n",
       "3917      0       3.0        2.0  116.0          0      1               0   \n",
       "13813     4       3.0        3.0  230.0          0     -1               1   \n",
       "13987     4       4.0        4.0  353.0          0     -1               2   \n",
       "\n",
       "               City  Log_Price  \n",
       "3917       Madinaty  14.334304  \n",
       "13813      Madinaty  15.250595  \n",
       "13987  Sheikh Zayed  16.166886  "
      ]
     },
     "execution_count": 126,
     "metadata": {},
     "output_type": "execute_result"
    }
   ],
   "source": [
    "df.drop(['price_per_m2','Price'],axis='columns',inplace=True)\n",
    "df.sample(3)"
   ]
  },
  {
   "cell_type": "markdown",
   "metadata": {},
   "source": [
    "## One Hot Encoding for city column"
   ]
  },
  {
   "cell_type": "code",
   "execution_count": 127,
   "metadata": {},
   "outputs": [
    {
     "data": {
      "text/html": [
       "<div>\n",
       "<style scoped>\n",
       "    .dataframe tbody tr th:only-of-type {\n",
       "        vertical-align: middle;\n",
       "    }\n",
       "\n",
       "    .dataframe tbody tr th {\n",
       "        vertical-align: top;\n",
       "    }\n",
       "\n",
       "    .dataframe thead th {\n",
       "        text-align: right;\n",
       "    }\n",
       "</style>\n",
       "<table border=\"1\" class=\"dataframe\">\n",
       "  <thead>\n",
       "    <tr style=\"text-align: right;\">\n",
       "      <th></th>\n",
       "      <th>10th of Ramadan</th>\n",
       "      <th>15 May City</th>\n",
       "      <th>6th of October</th>\n",
       "      <th>Agami</th>\n",
       "      <th>Ain Sukhna</th>\n",
       "      <th>Alamein</th>\n",
       "      <th>Amreya</th>\n",
       "      <th>Asafra</th>\n",
       "      <th>Asyut City</th>\n",
       "      <th>Badr City</th>\n",
       "      <th>...</th>\n",
       "      <th>Shubra</th>\n",
       "      <th>Sidi Beshr</th>\n",
       "      <th>Smoha</th>\n",
       "      <th>Tanta</th>\n",
       "      <th>West Somid</th>\n",
       "      <th>Zagazig</th>\n",
       "      <th>Zahraa Al Maadi</th>\n",
       "      <th>Zamalek</th>\n",
       "      <th>Zezenia</th>\n",
       "      <th>other</th>\n",
       "    </tr>\n",
       "  </thead>\n",
       "  <tbody>\n",
       "    <tr>\n",
       "      <th>0</th>\n",
       "      <td>0</td>\n",
       "      <td>0</td>\n",
       "      <td>0</td>\n",
       "      <td>0</td>\n",
       "      <td>0</td>\n",
       "      <td>0</td>\n",
       "      <td>0</td>\n",
       "      <td>0</td>\n",
       "      <td>0</td>\n",
       "      <td>0</td>\n",
       "      <td>...</td>\n",
       "      <td>0</td>\n",
       "      <td>0</td>\n",
       "      <td>1</td>\n",
       "      <td>0</td>\n",
       "      <td>0</td>\n",
       "      <td>0</td>\n",
       "      <td>0</td>\n",
       "      <td>0</td>\n",
       "      <td>0</td>\n",
       "      <td>0</td>\n",
       "    </tr>\n",
       "    <tr>\n",
       "      <th>1</th>\n",
       "      <td>0</td>\n",
       "      <td>0</td>\n",
       "      <td>0</td>\n",
       "      <td>0</td>\n",
       "      <td>0</td>\n",
       "      <td>0</td>\n",
       "      <td>0</td>\n",
       "      <td>0</td>\n",
       "      <td>0</td>\n",
       "      <td>0</td>\n",
       "      <td>...</td>\n",
       "      <td>0</td>\n",
       "      <td>0</td>\n",
       "      <td>0</td>\n",
       "      <td>0</td>\n",
       "      <td>0</td>\n",
       "      <td>0</td>\n",
       "      <td>0</td>\n",
       "      <td>0</td>\n",
       "      <td>0</td>\n",
       "      <td>0</td>\n",
       "    </tr>\n",
       "    <tr>\n",
       "      <th>2</th>\n",
       "      <td>0</td>\n",
       "      <td>0</td>\n",
       "      <td>0</td>\n",
       "      <td>0</td>\n",
       "      <td>0</td>\n",
       "      <td>0</td>\n",
       "      <td>0</td>\n",
       "      <td>0</td>\n",
       "      <td>0</td>\n",
       "      <td>0</td>\n",
       "      <td>...</td>\n",
       "      <td>0</td>\n",
       "      <td>0</td>\n",
       "      <td>0</td>\n",
       "      <td>0</td>\n",
       "      <td>0</td>\n",
       "      <td>0</td>\n",
       "      <td>0</td>\n",
       "      <td>0</td>\n",
       "      <td>0</td>\n",
       "      <td>0</td>\n",
       "    </tr>\n",
       "  </tbody>\n",
       "</table>\n",
       "<p>3 rows × 69 columns</p>\n",
       "</div>"
      ],
      "text/plain": [
       "   10th of Ramadan  15 May City  6th of October  Agami  Ain Sukhna  Alamein  \\\n",
       "0                0            0               0      0           0        0   \n",
       "1                0            0               0      0           0        0   \n",
       "2                0            0               0      0           0        0   \n",
       "\n",
       "   Amreya  Asafra  Asyut City  Badr City  ...  Shubra  Sidi Beshr  Smoha  \\\n",
       "0       0       0           0          0  ...       0           0      1   \n",
       "1       0       0           0          0  ...       0           0      0   \n",
       "2       0       0           0          0  ...       0           0      0   \n",
       "\n",
       "   Tanta  West Somid  Zagazig  Zahraa Al Maadi  Zamalek  Zezenia  other  \n",
       "0      0           0        0                0        0        0      0  \n",
       "1      0           0        0                0        0        0      0  \n",
       "2      0           0        0                0        0        0      0  \n",
       "\n",
       "[3 rows x 69 columns]"
      ]
     },
     "execution_count": 127,
     "metadata": {},
     "output_type": "execute_result"
    }
   ],
   "source": [
    "dummies = pd.get_dummies(df['City'])\n",
    "dummies = dummies.astype(int)\n",
    "dummies.head(3)"
   ]
  },
  {
   "cell_type": "code",
   "execution_count": 128,
   "metadata": {},
   "outputs": [
    {
     "data": {
      "text/html": [
       "<div>\n",
       "<style scoped>\n",
       "    .dataframe tbody tr th:only-of-type {\n",
       "        vertical-align: middle;\n",
       "    }\n",
       "\n",
       "    .dataframe tbody tr th {\n",
       "        vertical-align: top;\n",
       "    }\n",
       "\n",
       "    .dataframe thead th {\n",
       "        text-align: right;\n",
       "    }\n",
       "</style>\n",
       "<table border=\"1\" class=\"dataframe\">\n",
       "  <thead>\n",
       "    <tr style=\"text-align: right;\">\n",
       "      <th></th>\n",
       "      <th>Type</th>\n",
       "      <th>Bedrooms</th>\n",
       "      <th>Bathrooms</th>\n",
       "      <th>Area</th>\n",
       "      <th>Furnished</th>\n",
       "      <th>Level</th>\n",
       "      <th>Payment_Option</th>\n",
       "      <th>City</th>\n",
       "      <th>Log_Price</th>\n",
       "      <th>10th of Ramadan</th>\n",
       "      <th>...</th>\n",
       "      <th>Shorouk City</th>\n",
       "      <th>Shubra</th>\n",
       "      <th>Sidi Beshr</th>\n",
       "      <th>Smoha</th>\n",
       "      <th>Tanta</th>\n",
       "      <th>West Somid</th>\n",
       "      <th>Zagazig</th>\n",
       "      <th>Zahraa Al Maadi</th>\n",
       "      <th>Zamalek</th>\n",
       "      <th>Zezenia</th>\n",
       "    </tr>\n",
       "  </thead>\n",
       "  <tbody>\n",
       "    <tr>\n",
       "      <th>0</th>\n",
       "      <td>0</td>\n",
       "      <td>3.0</td>\n",
       "      <td>2.0</td>\n",
       "      <td>165.0</td>\n",
       "      <td>0</td>\n",
       "      <td>1</td>\n",
       "      <td>0</td>\n",
       "      <td>Smoha</td>\n",
       "      <td>14.626441</td>\n",
       "      <td>0</td>\n",
       "      <td>...</td>\n",
       "      <td>0</td>\n",
       "      <td>0</td>\n",
       "      <td>0</td>\n",
       "      <td>1</td>\n",
       "      <td>0</td>\n",
       "      <td>0</td>\n",
       "      <td>0</td>\n",
       "      <td>0</td>\n",
       "      <td>0</td>\n",
       "      <td>0</td>\n",
       "    </tr>\n",
       "    <tr>\n",
       "      <th>1</th>\n",
       "      <td>0</td>\n",
       "      <td>3.0</td>\n",
       "      <td>2.0</td>\n",
       "      <td>230.0</td>\n",
       "      <td>0</td>\n",
       "      <td>10</td>\n",
       "      <td>0</td>\n",
       "      <td>Nasr City</td>\n",
       "      <td>14.457364</td>\n",
       "      <td>0</td>\n",
       "      <td>...</td>\n",
       "      <td>0</td>\n",
       "      <td>0</td>\n",
       "      <td>0</td>\n",
       "      <td>0</td>\n",
       "      <td>0</td>\n",
       "      <td>0</td>\n",
       "      <td>0</td>\n",
       "      <td>0</td>\n",
       "      <td>0</td>\n",
       "      <td>0</td>\n",
       "    </tr>\n",
       "    <tr>\n",
       "      <th>2</th>\n",
       "      <td>0</td>\n",
       "      <td>4.0</td>\n",
       "      <td>3.0</td>\n",
       "      <td>222.0</td>\n",
       "      <td>0</td>\n",
       "      <td>1</td>\n",
       "      <td>2</td>\n",
       "      <td>New Cairo - El Tagamoa</td>\n",
       "      <td>14.427936</td>\n",
       "      <td>0</td>\n",
       "      <td>...</td>\n",
       "      <td>0</td>\n",
       "      <td>0</td>\n",
       "      <td>0</td>\n",
       "      <td>0</td>\n",
       "      <td>0</td>\n",
       "      <td>0</td>\n",
       "      <td>0</td>\n",
       "      <td>0</td>\n",
       "      <td>0</td>\n",
       "      <td>0</td>\n",
       "    </tr>\n",
       "    <tr>\n",
       "      <th>3</th>\n",
       "      <td>0</td>\n",
       "      <td>2.0</td>\n",
       "      <td>2.0</td>\n",
       "      <td>144.0</td>\n",
       "      <td>0</td>\n",
       "      <td>1</td>\n",
       "      <td>2</td>\n",
       "      <td>Sheikh Zayed</td>\n",
       "      <td>14.316286</td>\n",
       "      <td>0</td>\n",
       "      <td>...</td>\n",
       "      <td>0</td>\n",
       "      <td>0</td>\n",
       "      <td>0</td>\n",
       "      <td>0</td>\n",
       "      <td>0</td>\n",
       "      <td>0</td>\n",
       "      <td>0</td>\n",
       "      <td>0</td>\n",
       "      <td>0</td>\n",
       "      <td>0</td>\n",
       "    </tr>\n",
       "    <tr>\n",
       "      <th>4</th>\n",
       "      <td>0</td>\n",
       "      <td>3.0</td>\n",
       "      <td>3.0</td>\n",
       "      <td>200.0</td>\n",
       "      <td>0</td>\n",
       "      <td>0</td>\n",
       "      <td>2</td>\n",
       "      <td>New Cairo - El Tagamoa</td>\n",
       "      <td>14.260196</td>\n",
       "      <td>0</td>\n",
       "      <td>...</td>\n",
       "      <td>0</td>\n",
       "      <td>0</td>\n",
       "      <td>0</td>\n",
       "      <td>0</td>\n",
       "      <td>0</td>\n",
       "      <td>0</td>\n",
       "      <td>0</td>\n",
       "      <td>0</td>\n",
       "      <td>0</td>\n",
       "      <td>0</td>\n",
       "    </tr>\n",
       "  </tbody>\n",
       "</table>\n",
       "<p>5 rows × 77 columns</p>\n",
       "</div>"
      ],
      "text/plain": [
       "   Type  Bedrooms  Bathrooms   Area  Furnished  Level  Payment_Option  \\\n",
       "0     0       3.0        2.0  165.0          0      1               0   \n",
       "1     0       3.0        2.0  230.0          0     10               0   \n",
       "2     0       4.0        3.0  222.0          0      1               2   \n",
       "3     0       2.0        2.0  144.0          0      1               2   \n",
       "4     0       3.0        3.0  200.0          0      0               2   \n",
       "\n",
       "                     City  Log_Price  10th of Ramadan  ...  Shorouk City  \\\n",
       "0                   Smoha  14.626441                0  ...             0   \n",
       "1               Nasr City  14.457364                0  ...             0   \n",
       "2  New Cairo - El Tagamoa  14.427936                0  ...             0   \n",
       "3            Sheikh Zayed  14.316286                0  ...             0   \n",
       "4  New Cairo - El Tagamoa  14.260196                0  ...             0   \n",
       "\n",
       "   Shubra  Sidi Beshr  Smoha  Tanta  West Somid  Zagazig  Zahraa Al Maadi  \\\n",
       "0       0           0      1      0           0        0                0   \n",
       "1       0           0      0      0           0        0                0   \n",
       "2       0           0      0      0           0        0                0   \n",
       "3       0           0      0      0           0        0                0   \n",
       "4       0           0      0      0           0        0                0   \n",
       "\n",
       "   Zamalek  Zezenia  \n",
       "0        0        0  \n",
       "1        0        0  \n",
       "2        0        0  \n",
       "3        0        0  \n",
       "4        0        0  \n",
       "\n",
       "[5 rows x 77 columns]"
      ]
     },
     "execution_count": 128,
     "metadata": {},
     "output_type": "execute_result"
    }
   ],
   "source": [
    "df = pd.concat([df,dummies.drop('other',axis='columns')],axis='columns')\n",
    "df.head()"
   ]
  },
  {
   "cell_type": "markdown",
   "metadata": {},
   "source": [
    "now we can remove city column"
   ]
  },
  {
   "cell_type": "code",
   "execution_count": 129,
   "metadata": {},
   "outputs": [
    {
     "data": {
      "text/html": [
       "<div>\n",
       "<style scoped>\n",
       "    .dataframe tbody tr th:only-of-type {\n",
       "        vertical-align: middle;\n",
       "    }\n",
       "\n",
       "    .dataframe tbody tr th {\n",
       "        vertical-align: top;\n",
       "    }\n",
       "\n",
       "    .dataframe thead th {\n",
       "        text-align: right;\n",
       "    }\n",
       "</style>\n",
       "<table border=\"1\" class=\"dataframe\">\n",
       "  <thead>\n",
       "    <tr style=\"text-align: right;\">\n",
       "      <th></th>\n",
       "      <th>Type</th>\n",
       "      <th>Bedrooms</th>\n",
       "      <th>Bathrooms</th>\n",
       "      <th>Area</th>\n",
       "      <th>Furnished</th>\n",
       "      <th>Level</th>\n",
       "      <th>Payment_Option</th>\n",
       "      <th>Log_Price</th>\n",
       "      <th>10th of Ramadan</th>\n",
       "      <th>15 May City</th>\n",
       "      <th>...</th>\n",
       "      <th>Shorouk City</th>\n",
       "      <th>Shubra</th>\n",
       "      <th>Sidi Beshr</th>\n",
       "      <th>Smoha</th>\n",
       "      <th>Tanta</th>\n",
       "      <th>West Somid</th>\n",
       "      <th>Zagazig</th>\n",
       "      <th>Zahraa Al Maadi</th>\n",
       "      <th>Zamalek</th>\n",
       "      <th>Zezenia</th>\n",
       "    </tr>\n",
       "  </thead>\n",
       "  <tbody>\n",
       "    <tr>\n",
       "      <th>0</th>\n",
       "      <td>0</td>\n",
       "      <td>3.0</td>\n",
       "      <td>2.0</td>\n",
       "      <td>165.0</td>\n",
       "      <td>0</td>\n",
       "      <td>1</td>\n",
       "      <td>0</td>\n",
       "      <td>14.626441</td>\n",
       "      <td>0</td>\n",
       "      <td>0</td>\n",
       "      <td>...</td>\n",
       "      <td>0</td>\n",
       "      <td>0</td>\n",
       "      <td>0</td>\n",
       "      <td>1</td>\n",
       "      <td>0</td>\n",
       "      <td>0</td>\n",
       "      <td>0</td>\n",
       "      <td>0</td>\n",
       "      <td>0</td>\n",
       "      <td>0</td>\n",
       "    </tr>\n",
       "    <tr>\n",
       "      <th>1</th>\n",
       "      <td>0</td>\n",
       "      <td>3.0</td>\n",
       "      <td>2.0</td>\n",
       "      <td>230.0</td>\n",
       "      <td>0</td>\n",
       "      <td>10</td>\n",
       "      <td>0</td>\n",
       "      <td>14.457364</td>\n",
       "      <td>0</td>\n",
       "      <td>0</td>\n",
       "      <td>...</td>\n",
       "      <td>0</td>\n",
       "      <td>0</td>\n",
       "      <td>0</td>\n",
       "      <td>0</td>\n",
       "      <td>0</td>\n",
       "      <td>0</td>\n",
       "      <td>0</td>\n",
       "      <td>0</td>\n",
       "      <td>0</td>\n",
       "      <td>0</td>\n",
       "    </tr>\n",
       "    <tr>\n",
       "      <th>2</th>\n",
       "      <td>0</td>\n",
       "      <td>4.0</td>\n",
       "      <td>3.0</td>\n",
       "      <td>222.0</td>\n",
       "      <td>0</td>\n",
       "      <td>1</td>\n",
       "      <td>2</td>\n",
       "      <td>14.427936</td>\n",
       "      <td>0</td>\n",
       "      <td>0</td>\n",
       "      <td>...</td>\n",
       "      <td>0</td>\n",
       "      <td>0</td>\n",
       "      <td>0</td>\n",
       "      <td>0</td>\n",
       "      <td>0</td>\n",
       "      <td>0</td>\n",
       "      <td>0</td>\n",
       "      <td>0</td>\n",
       "      <td>0</td>\n",
       "      <td>0</td>\n",
       "    </tr>\n",
       "  </tbody>\n",
       "</table>\n",
       "<p>3 rows × 76 columns</p>\n",
       "</div>"
      ],
      "text/plain": [
       "   Type  Bedrooms  Bathrooms   Area  Furnished  Level  Payment_Option  \\\n",
       "0     0       3.0        2.0  165.0          0      1               0   \n",
       "1     0       3.0        2.0  230.0          0     10               0   \n",
       "2     0       4.0        3.0  222.0          0      1               2   \n",
       "\n",
       "   Log_Price  10th of Ramadan  15 May City  ...  Shorouk City  Shubra  \\\n",
       "0  14.626441                0            0  ...             0       0   \n",
       "1  14.457364                0            0  ...             0       0   \n",
       "2  14.427936                0            0  ...             0       0   \n",
       "\n",
       "   Sidi Beshr  Smoha  Tanta  West Somid  Zagazig  Zahraa Al Maadi  Zamalek  \\\n",
       "0           0      1      0           0        0                0        0   \n",
       "1           0      0      0           0        0                0        0   \n",
       "2           0      0      0           0        0                0        0   \n",
       "\n",
       "   Zezenia  \n",
       "0        0  \n",
       "1        0  \n",
       "2        0  \n",
       "\n",
       "[3 rows x 76 columns]"
      ]
     },
     "execution_count": 129,
     "metadata": {},
     "output_type": "execute_result"
    }
   ],
   "source": [
    "df.drop(['City'],axis='columns',inplace=True)\n",
    "df.head(3)"
   ]
  },
  {
   "cell_type": "markdown",
   "metadata": {},
   "source": [
    "# Model Building"
   ]
  },
  {
   "cell_type": "markdown",
   "metadata": {},
   "source": [
    "## Spliting the data into train,val,test"
   ]
  },
  {
   "cell_type": "code",
   "execution_count": 130,
   "metadata": {},
   "outputs": [],
   "source": [
    "x = df.drop(['Log_Price'],axis='columns')\n",
    "y = df['Log_Price']"
   ]
  },
  {
   "cell_type": "code",
   "execution_count": 131,
   "metadata": {},
   "outputs": [
    {
     "data": {
      "text/html": [
       "<div>\n",
       "<style scoped>\n",
       "    .dataframe tbody tr th:only-of-type {\n",
       "        vertical-align: middle;\n",
       "    }\n",
       "\n",
       "    .dataframe tbody tr th {\n",
       "        vertical-align: top;\n",
       "    }\n",
       "\n",
       "    .dataframe thead th {\n",
       "        text-align: right;\n",
       "    }\n",
       "</style>\n",
       "<table border=\"1\" class=\"dataframe\">\n",
       "  <thead>\n",
       "    <tr style=\"text-align: right;\">\n",
       "      <th></th>\n",
       "      <th>Type</th>\n",
       "      <th>Bedrooms</th>\n",
       "      <th>Bathrooms</th>\n",
       "      <th>Area</th>\n",
       "      <th>Furnished</th>\n",
       "      <th>Level</th>\n",
       "      <th>Payment_Option</th>\n",
       "      <th>10th of Ramadan</th>\n",
       "      <th>15 May City</th>\n",
       "      <th>6th of October</th>\n",
       "      <th>...</th>\n",
       "      <th>Shorouk City</th>\n",
       "      <th>Shubra</th>\n",
       "      <th>Sidi Beshr</th>\n",
       "      <th>Smoha</th>\n",
       "      <th>Tanta</th>\n",
       "      <th>West Somid</th>\n",
       "      <th>Zagazig</th>\n",
       "      <th>Zahraa Al Maadi</th>\n",
       "      <th>Zamalek</th>\n",
       "      <th>Zezenia</th>\n",
       "    </tr>\n",
       "  </thead>\n",
       "  <tbody>\n",
       "    <tr>\n",
       "      <th>0</th>\n",
       "      <td>0</td>\n",
       "      <td>3.0</td>\n",
       "      <td>2.0</td>\n",
       "      <td>165.0</td>\n",
       "      <td>0</td>\n",
       "      <td>1</td>\n",
       "      <td>0</td>\n",
       "      <td>0</td>\n",
       "      <td>0</td>\n",
       "      <td>0</td>\n",
       "      <td>...</td>\n",
       "      <td>0</td>\n",
       "      <td>0</td>\n",
       "      <td>0</td>\n",
       "      <td>1</td>\n",
       "      <td>0</td>\n",
       "      <td>0</td>\n",
       "      <td>0</td>\n",
       "      <td>0</td>\n",
       "      <td>0</td>\n",
       "      <td>0</td>\n",
       "    </tr>\n",
       "    <tr>\n",
       "      <th>1</th>\n",
       "      <td>0</td>\n",
       "      <td>3.0</td>\n",
       "      <td>2.0</td>\n",
       "      <td>230.0</td>\n",
       "      <td>0</td>\n",
       "      <td>10</td>\n",
       "      <td>0</td>\n",
       "      <td>0</td>\n",
       "      <td>0</td>\n",
       "      <td>0</td>\n",
       "      <td>...</td>\n",
       "      <td>0</td>\n",
       "      <td>0</td>\n",
       "      <td>0</td>\n",
       "      <td>0</td>\n",
       "      <td>0</td>\n",
       "      <td>0</td>\n",
       "      <td>0</td>\n",
       "      <td>0</td>\n",
       "      <td>0</td>\n",
       "      <td>0</td>\n",
       "    </tr>\n",
       "    <tr>\n",
       "      <th>2</th>\n",
       "      <td>0</td>\n",
       "      <td>4.0</td>\n",
       "      <td>3.0</td>\n",
       "      <td>222.0</td>\n",
       "      <td>0</td>\n",
       "      <td>1</td>\n",
       "      <td>2</td>\n",
       "      <td>0</td>\n",
       "      <td>0</td>\n",
       "      <td>0</td>\n",
       "      <td>...</td>\n",
       "      <td>0</td>\n",
       "      <td>0</td>\n",
       "      <td>0</td>\n",
       "      <td>0</td>\n",
       "      <td>0</td>\n",
       "      <td>0</td>\n",
       "      <td>0</td>\n",
       "      <td>0</td>\n",
       "      <td>0</td>\n",
       "      <td>0</td>\n",
       "    </tr>\n",
       "    <tr>\n",
       "      <th>3</th>\n",
       "      <td>0</td>\n",
       "      <td>2.0</td>\n",
       "      <td>2.0</td>\n",
       "      <td>144.0</td>\n",
       "      <td>0</td>\n",
       "      <td>1</td>\n",
       "      <td>2</td>\n",
       "      <td>0</td>\n",
       "      <td>0</td>\n",
       "      <td>0</td>\n",
       "      <td>...</td>\n",
       "      <td>0</td>\n",
       "      <td>0</td>\n",
       "      <td>0</td>\n",
       "      <td>0</td>\n",
       "      <td>0</td>\n",
       "      <td>0</td>\n",
       "      <td>0</td>\n",
       "      <td>0</td>\n",
       "      <td>0</td>\n",
       "      <td>0</td>\n",
       "    </tr>\n",
       "    <tr>\n",
       "      <th>4</th>\n",
       "      <td>0</td>\n",
       "      <td>3.0</td>\n",
       "      <td>3.0</td>\n",
       "      <td>200.0</td>\n",
       "      <td>0</td>\n",
       "      <td>0</td>\n",
       "      <td>2</td>\n",
       "      <td>0</td>\n",
       "      <td>0</td>\n",
       "      <td>0</td>\n",
       "      <td>...</td>\n",
       "      <td>0</td>\n",
       "      <td>0</td>\n",
       "      <td>0</td>\n",
       "      <td>0</td>\n",
       "      <td>0</td>\n",
       "      <td>0</td>\n",
       "      <td>0</td>\n",
       "      <td>0</td>\n",
       "      <td>0</td>\n",
       "      <td>0</td>\n",
       "    </tr>\n",
       "    <tr>\n",
       "      <th>...</th>\n",
       "      <td>...</td>\n",
       "      <td>...</td>\n",
       "      <td>...</td>\n",
       "      <td>...</td>\n",
       "      <td>...</td>\n",
       "      <td>...</td>\n",
       "      <td>...</td>\n",
       "      <td>...</td>\n",
       "      <td>...</td>\n",
       "      <td>...</td>\n",
       "      <td>...</td>\n",
       "      <td>...</td>\n",
       "      <td>...</td>\n",
       "      <td>...</td>\n",
       "      <td>...</td>\n",
       "      <td>...</td>\n",
       "      <td>...</td>\n",
       "      <td>...</td>\n",
       "      <td>...</td>\n",
       "      <td>...</td>\n",
       "      <td>...</td>\n",
       "    </tr>\n",
       "    <tr>\n",
       "      <th>16304</th>\n",
       "      <td>3</td>\n",
       "      <td>6.0</td>\n",
       "      <td>5.0</td>\n",
       "      <td>429.0</td>\n",
       "      <td>0</td>\n",
       "      <td>-1</td>\n",
       "      <td>1</td>\n",
       "      <td>0</td>\n",
       "      <td>0</td>\n",
       "      <td>0</td>\n",
       "      <td>...</td>\n",
       "      <td>0</td>\n",
       "      <td>0</td>\n",
       "      <td>0</td>\n",
       "      <td>0</td>\n",
       "      <td>0</td>\n",
       "      <td>0</td>\n",
       "      <td>0</td>\n",
       "      <td>0</td>\n",
       "      <td>0</td>\n",
       "      <td>0</td>\n",
       "    </tr>\n",
       "    <tr>\n",
       "      <th>16305</th>\n",
       "      <td>3</td>\n",
       "      <td>4.0</td>\n",
       "      <td>4.0</td>\n",
       "      <td>450.0</td>\n",
       "      <td>1</td>\n",
       "      <td>-1</td>\n",
       "      <td>2</td>\n",
       "      <td>0</td>\n",
       "      <td>0</td>\n",
       "      <td>0</td>\n",
       "      <td>...</td>\n",
       "      <td>0</td>\n",
       "      <td>0</td>\n",
       "      <td>0</td>\n",
       "      <td>0</td>\n",
       "      <td>0</td>\n",
       "      <td>0</td>\n",
       "      <td>0</td>\n",
       "      <td>0</td>\n",
       "      <td>0</td>\n",
       "      <td>0</td>\n",
       "    </tr>\n",
       "    <tr>\n",
       "      <th>16306</th>\n",
       "      <td>3</td>\n",
       "      <td>4.0</td>\n",
       "      <td>3.0</td>\n",
       "      <td>200.0</td>\n",
       "      <td>0</td>\n",
       "      <td>-1</td>\n",
       "      <td>2</td>\n",
       "      <td>0</td>\n",
       "      <td>0</td>\n",
       "      <td>0</td>\n",
       "      <td>...</td>\n",
       "      <td>0</td>\n",
       "      <td>0</td>\n",
       "      <td>0</td>\n",
       "      <td>0</td>\n",
       "      <td>0</td>\n",
       "      <td>0</td>\n",
       "      <td>0</td>\n",
       "      <td>0</td>\n",
       "      <td>0</td>\n",
       "      <td>0</td>\n",
       "    </tr>\n",
       "    <tr>\n",
       "      <th>16307</th>\n",
       "      <td>3</td>\n",
       "      <td>3.0</td>\n",
       "      <td>3.0</td>\n",
       "      <td>200.0</td>\n",
       "      <td>0</td>\n",
       "      <td>-1</td>\n",
       "      <td>1</td>\n",
       "      <td>0</td>\n",
       "      <td>0</td>\n",
       "      <td>1</td>\n",
       "      <td>...</td>\n",
       "      <td>0</td>\n",
       "      <td>0</td>\n",
       "      <td>0</td>\n",
       "      <td>0</td>\n",
       "      <td>0</td>\n",
       "      <td>0</td>\n",
       "      <td>0</td>\n",
       "      <td>0</td>\n",
       "      <td>0</td>\n",
       "      <td>0</td>\n",
       "    </tr>\n",
       "    <tr>\n",
       "      <th>16308</th>\n",
       "      <td>3</td>\n",
       "      <td>4.0</td>\n",
       "      <td>4.0</td>\n",
       "      <td>337.0</td>\n",
       "      <td>0</td>\n",
       "      <td>-1</td>\n",
       "      <td>2</td>\n",
       "      <td>0</td>\n",
       "      <td>0</td>\n",
       "      <td>0</td>\n",
       "      <td>...</td>\n",
       "      <td>0</td>\n",
       "      <td>0</td>\n",
       "      <td>0</td>\n",
       "      <td>0</td>\n",
       "      <td>0</td>\n",
       "      <td>0</td>\n",
       "      <td>0</td>\n",
       "      <td>0</td>\n",
       "      <td>0</td>\n",
       "      <td>0</td>\n",
       "    </tr>\n",
       "  </tbody>\n",
       "</table>\n",
       "<p>16309 rows × 75 columns</p>\n",
       "</div>"
      ],
      "text/plain": [
       "       Type  Bedrooms  Bathrooms   Area  Furnished  Level  Payment_Option  \\\n",
       "0         0       3.0        2.0  165.0          0      1               0   \n",
       "1         0       3.0        2.0  230.0          0     10               0   \n",
       "2         0       4.0        3.0  222.0          0      1               2   \n",
       "3         0       2.0        2.0  144.0          0      1               2   \n",
       "4         0       3.0        3.0  200.0          0      0               2   \n",
       "...     ...       ...        ...    ...        ...    ...             ...   \n",
       "16304     3       6.0        5.0  429.0          0     -1               1   \n",
       "16305     3       4.0        4.0  450.0          1     -1               2   \n",
       "16306     3       4.0        3.0  200.0          0     -1               2   \n",
       "16307     3       3.0        3.0  200.0          0     -1               1   \n",
       "16308     3       4.0        4.0  337.0          0     -1               2   \n",
       "\n",
       "       10th of Ramadan  15 May City  6th of October  ...  Shorouk City  \\\n",
       "0                    0            0               0  ...             0   \n",
       "1                    0            0               0  ...             0   \n",
       "2                    0            0               0  ...             0   \n",
       "3                    0            0               0  ...             0   \n",
       "4                    0            0               0  ...             0   \n",
       "...                ...          ...             ...  ...           ...   \n",
       "16304                0            0               0  ...             0   \n",
       "16305                0            0               0  ...             0   \n",
       "16306                0            0               0  ...             0   \n",
       "16307                0            0               1  ...             0   \n",
       "16308                0            0               0  ...             0   \n",
       "\n",
       "       Shubra  Sidi Beshr  Smoha  Tanta  West Somid  Zagazig  Zahraa Al Maadi  \\\n",
       "0           0           0      1      0           0        0                0   \n",
       "1           0           0      0      0           0        0                0   \n",
       "2           0           0      0      0           0        0                0   \n",
       "3           0           0      0      0           0        0                0   \n",
       "4           0           0      0      0           0        0                0   \n",
       "...       ...         ...    ...    ...         ...      ...              ...   \n",
       "16304       0           0      0      0           0        0                0   \n",
       "16305       0           0      0      0           0        0                0   \n",
       "16306       0           0      0      0           0        0                0   \n",
       "16307       0           0      0      0           0        0                0   \n",
       "16308       0           0      0      0           0        0                0   \n",
       "\n",
       "       Zamalek  Zezenia  \n",
       "0            0        0  \n",
       "1            0        0  \n",
       "2            0        0  \n",
       "3            0        0  \n",
       "4            0        0  \n",
       "...        ...      ...  \n",
       "16304        0        0  \n",
       "16305        0        0  \n",
       "16306        0        0  \n",
       "16307        0        0  \n",
       "16308        0        0  \n",
       "\n",
       "[16309 rows x 75 columns]"
      ]
     },
     "execution_count": 131,
     "metadata": {},
     "output_type": "execute_result"
    }
   ],
   "source": [
    "x"
   ]
  },
  {
   "cell_type": "code",
   "execution_count": 135,
   "metadata": {},
   "outputs": [
    {
     "data": {
      "text/plain": [
       "Index(['Type', 'Bedrooms', 'Bathrooms', 'Area', 'Furnished', 'Level',\n",
       "       'Payment_Option', '10th of Ramadan', '15 May City', '6th of October',\n",
       "       'Agami', 'Ain Sukhna', 'Alamein', 'Amreya', 'Asafra', 'Asyut City',\n",
       "       'Badr City', 'Borg al-Arab', 'Dabaa', 'Dokki', 'Faisal', 'Gesr Al Suez',\n",
       "       'Giza District', 'Glim', 'Gouna', 'Hadayek 6th of October',\n",
       "       'Hadayek al-Ahram', 'Hadayek al-Kobba', 'Haram', 'Heliopolis',\n",
       "       'Helmeyat El Zaytoun', 'Hurghada', 'Ismailia City', 'Kafr Abdo',\n",
       "       'Katameya', 'Laurent', 'Maadi', 'Madinaty', 'Mandara', 'Mansura',\n",
       "       'Marsa Matrouh', 'Miami', 'Mohandessin', 'Moharam Bik', 'Mokattam',\n",
       "       'Mostakbal City', 'Nasr City', 'New Cairo - El Tagamoa',\n",
       "       'New Capital City', 'New Damietta', 'New Heliopolis', 'New Mansoura',\n",
       "       'New Nozha', 'North Coast', 'Obour City', 'Ras Sedr', 'Ras al-Bar',\n",
       "       'Rehab City', 'Roushdy', 'Saba Pasha', 'Seyouf', 'Sharm al-Sheikh',\n",
       "       'Sharq District', 'Sheikh Zayed', 'Sheraton', 'Shorouk City', 'Shubra',\n",
       "       'Sidi Beshr', 'Smoha', 'Tanta', 'West Somid', 'Zagazig',\n",
       "       'Zahraa Al Maadi', 'Zamalek', 'Zezenia'],\n",
       "      dtype='object')"
      ]
     },
     "execution_count": 135,
     "metadata": {},
     "output_type": "execute_result"
    }
   ],
   "source": [
    "x.columns"
   ]
  },
  {
   "cell_type": "code",
   "execution_count": 132,
   "metadata": {},
   "outputs": [
    {
     "data": {
      "text/plain": [
       "0        14.626441\n",
       "1        14.457364\n",
       "2        14.427936\n",
       "3        14.316286\n",
       "4        14.260196\n",
       "           ...    \n",
       "16304    15.967273\n",
       "16305    15.732433\n",
       "16306    15.671809\n",
       "16307    15.652243\n",
       "16308    16.323808\n",
       "Name: Log_Price, Length: 16309, dtype: float64"
      ]
     },
     "execution_count": 132,
     "metadata": {},
     "output_type": "execute_result"
    }
   ],
   "source": [
    "y"
   ]
  },
  {
   "cell_type": "code",
   "execution_count": 133,
   "metadata": {},
   "outputs": [],
   "source": [
    "from sklearn.model_selection import train_test_split\n",
    "X, X_test, Y, y_test = train_test_split(x,y,test_size=0.2,random_state=10)"
   ]
  },
  {
   "cell_type": "code",
   "execution_count": 134,
   "metadata": {},
   "outputs": [],
   "source": [
    "X_train, X_val, y_train, y_val = train_test_split(X,Y,test_size=0.2,random_state=10)"
   ]
  },
  {
   "cell_type": "markdown",
   "metadata": {},
   "source": [
    "## Model (XGBRegressor)"
   ]
  },
  {
   "cell_type": "code",
   "execution_count": 1732,
   "metadata": {},
   "outputs": [
    {
     "data": {
      "text/html": [
       "<style>#sk-container-id-236 {color: black;}#sk-container-id-236 pre{padding: 0;}#sk-container-id-236 div.sk-toggleable {background-color: white;}#sk-container-id-236 label.sk-toggleable__label {cursor: pointer;display: block;width: 100%;margin-bottom: 0;padding: 0.3em;box-sizing: border-box;text-align: center;}#sk-container-id-236 label.sk-toggleable__label-arrow:before {content: \"▸\";float: left;margin-right: 0.25em;color: #696969;}#sk-container-id-236 label.sk-toggleable__label-arrow:hover:before {color: black;}#sk-container-id-236 div.sk-estimator:hover label.sk-toggleable__label-arrow:before {color: black;}#sk-container-id-236 div.sk-toggleable__content {max-height: 0;max-width: 0;overflow: hidden;text-align: left;background-color: #f0f8ff;}#sk-container-id-236 div.sk-toggleable__content pre {margin: 0.2em;color: black;border-radius: 0.25em;background-color: #f0f8ff;}#sk-container-id-236 input.sk-toggleable__control:checked~div.sk-toggleable__content {max-height: 200px;max-width: 100%;overflow: auto;}#sk-container-id-236 input.sk-toggleable__control:checked~label.sk-toggleable__label-arrow:before {content: \"▾\";}#sk-container-id-236 div.sk-estimator input.sk-toggleable__control:checked~label.sk-toggleable__label {background-color: #d4ebff;}#sk-container-id-236 div.sk-label input.sk-toggleable__control:checked~label.sk-toggleable__label {background-color: #d4ebff;}#sk-container-id-236 input.sk-hidden--visually {border: 0;clip: rect(1px 1px 1px 1px);clip: rect(1px, 1px, 1px, 1px);height: 1px;margin: -1px;overflow: hidden;padding: 0;position: absolute;width: 1px;}#sk-container-id-236 div.sk-estimator {font-family: monospace;background-color: #f0f8ff;border: 1px dotted black;border-radius: 0.25em;box-sizing: border-box;margin-bottom: 0.5em;}#sk-container-id-236 div.sk-estimator:hover {background-color: #d4ebff;}#sk-container-id-236 div.sk-parallel-item::after {content: \"\";width: 100%;border-bottom: 1px solid gray;flex-grow: 1;}#sk-container-id-236 div.sk-label:hover label.sk-toggleable__label {background-color: #d4ebff;}#sk-container-id-236 div.sk-serial::before {content: \"\";position: absolute;border-left: 1px solid gray;box-sizing: border-box;top: 0;bottom: 0;left: 50%;z-index: 0;}#sk-container-id-236 div.sk-serial {display: flex;flex-direction: column;align-items: center;background-color: white;padding-right: 0.2em;padding-left: 0.2em;position: relative;}#sk-container-id-236 div.sk-item {position: relative;z-index: 1;}#sk-container-id-236 div.sk-parallel {display: flex;align-items: stretch;justify-content: center;background-color: white;position: relative;}#sk-container-id-236 div.sk-item::before, #sk-container-id-236 div.sk-parallel-item::before {content: \"\";position: absolute;border-left: 1px solid gray;box-sizing: border-box;top: 0;bottom: 0;left: 50%;z-index: -1;}#sk-container-id-236 div.sk-parallel-item {display: flex;flex-direction: column;z-index: 1;position: relative;background-color: white;}#sk-container-id-236 div.sk-parallel-item:first-child::after {align-self: flex-end;width: 50%;}#sk-container-id-236 div.sk-parallel-item:last-child::after {align-self: flex-start;width: 50%;}#sk-container-id-236 div.sk-parallel-item:only-child::after {width: 0;}#sk-container-id-236 div.sk-dashed-wrapped {border: 1px dashed gray;margin: 0 0.4em 0.5em 0.4em;box-sizing: border-box;padding-bottom: 0.4em;background-color: white;}#sk-container-id-236 div.sk-label label {font-family: monospace;font-weight: bold;display: inline-block;line-height: 1.2em;}#sk-container-id-236 div.sk-label-container {text-align: center;}#sk-container-id-236 div.sk-container {/* jupyter's `normalize.less` sets `[hidden] { display: none; }` but bootstrap.min.css set `[hidden] { display: none !important; }` so we also need the `!important` here to be able to override the default hidden behavior on the sphinx rendered scikit-learn.org. See: https://github.com/scikit-learn/scikit-learn/issues/21755 */display: inline-block !important;position: relative;}#sk-container-id-236 div.sk-text-repr-fallback {display: none;}</style><div id=\"sk-container-id-236\" class=\"sk-top-container\"><div class=\"sk-text-repr-fallback\"><pre>XGBRegressor(base_score=None, booster=None, callbacks=None,\n",
       "             colsample_bylevel=None, colsample_bynode=None,\n",
       "             colsample_bytree=None, device=None, early_stopping_rounds=None,\n",
       "             enable_categorical=False, eval_metric=None, feature_types=None,\n",
       "             gamma=None, grow_policy=None, importance_type=None,\n",
       "             interaction_constraints=None, learning_rate=None, max_bin=None,\n",
       "             max_cat_threshold=None, max_cat_to_onehot=None,\n",
       "             max_delta_step=None, max_depth=None, max_leaves=None,\n",
       "             min_child_weight=None, missing=nan, monotone_constraints=None,\n",
       "             multi_strategy=None, n_estimators=None, n_jobs=None,\n",
       "             num_parallel_tree=None, random_state=None, ...)</pre><b>In a Jupyter environment, please rerun this cell to show the HTML representation or trust the notebook. <br />On GitHub, the HTML representation is unable to render, please try loading this page with nbviewer.org.</b></div><div class=\"sk-container\" hidden><div class=\"sk-item\"><div class=\"sk-estimator sk-toggleable\"><input class=\"sk-toggleable__control sk-hidden--visually\" id=\"sk-estimator-id-236\" type=\"checkbox\" checked><label for=\"sk-estimator-id-236\" class=\"sk-toggleable__label sk-toggleable__label-arrow\">XGBRegressor</label><div class=\"sk-toggleable__content\"><pre>XGBRegressor(base_score=None, booster=None, callbacks=None,\n",
       "             colsample_bylevel=None, colsample_bynode=None,\n",
       "             colsample_bytree=None, device=None, early_stopping_rounds=None,\n",
       "             enable_categorical=False, eval_metric=None, feature_types=None,\n",
       "             gamma=None, grow_policy=None, importance_type=None,\n",
       "             interaction_constraints=None, learning_rate=None, max_bin=None,\n",
       "             max_cat_threshold=None, max_cat_to_onehot=None,\n",
       "             max_delta_step=None, max_depth=None, max_leaves=None,\n",
       "             min_child_weight=None, missing=nan, monotone_constraints=None,\n",
       "             multi_strategy=None, n_estimators=None, n_jobs=None,\n",
       "             num_parallel_tree=None, random_state=None, ...)</pre></div></div></div></div></div>"
      ],
      "text/plain": [
       "XGBRegressor(base_score=None, booster=None, callbacks=None,\n",
       "             colsample_bylevel=None, colsample_bynode=None,\n",
       "             colsample_bytree=None, device=None, early_stopping_rounds=None,\n",
       "             enable_categorical=False, eval_metric=None, feature_types=None,\n",
       "             gamma=None, grow_policy=None, importance_type=None,\n",
       "             interaction_constraints=None, learning_rate=None, max_bin=None,\n",
       "             max_cat_threshold=None, max_cat_to_onehot=None,\n",
       "             max_delta_step=None, max_depth=None, max_leaves=None,\n",
       "             min_child_weight=None, missing=nan, monotone_constraints=None,\n",
       "             multi_strategy=None, n_estimators=None, n_jobs=None,\n",
       "             num_parallel_tree=None, random_state=None, ...)"
      ]
     },
     "execution_count": 1732,
     "metadata": {},
     "output_type": "execute_result"
    }
   ],
   "source": [
    "from xgboost import XGBRegressor\n",
    "xgb_regressor = XGBRegressor()\n",
    "\n",
    "xgb_regressor.fit(X_train, y_train)"
   ]
  },
  {
   "cell_type": "code",
   "execution_count": 1733,
   "metadata": {},
   "outputs": [
    {
     "data": {
      "text/plain": [
       "0.8942180432888496"
      ]
     },
     "execution_count": 1733,
     "metadata": {},
     "output_type": "execute_result"
    }
   ],
   "source": [
    "xgb_regressor.score(X_train,y_train)"
   ]
  },
  {
   "cell_type": "code",
   "execution_count": 1734,
   "metadata": {},
   "outputs": [
    {
     "data": {
      "text/plain": [
       "0.85327442166328"
      ]
     },
     "execution_count": 1734,
     "metadata": {},
     "output_type": "execute_result"
    }
   ],
   "source": [
    "xgb_regressor.score(X_val,y_val)"
   ]
  },
  {
   "cell_type": "markdown",
   "metadata": {},
   "source": [
    "There is an overfit let's try to make the model less complex"
   ]
  },
  {
   "cell_type": "code",
   "execution_count": 1735,
   "metadata": {},
   "outputs": [
    {
     "data": {
      "text/html": [
       "<style>#sk-container-id-237 {color: black;}#sk-container-id-237 pre{padding: 0;}#sk-container-id-237 div.sk-toggleable {background-color: white;}#sk-container-id-237 label.sk-toggleable__label {cursor: pointer;display: block;width: 100%;margin-bottom: 0;padding: 0.3em;box-sizing: border-box;text-align: center;}#sk-container-id-237 label.sk-toggleable__label-arrow:before {content: \"▸\";float: left;margin-right: 0.25em;color: #696969;}#sk-container-id-237 label.sk-toggleable__label-arrow:hover:before {color: black;}#sk-container-id-237 div.sk-estimator:hover label.sk-toggleable__label-arrow:before {color: black;}#sk-container-id-237 div.sk-toggleable__content {max-height: 0;max-width: 0;overflow: hidden;text-align: left;background-color: #f0f8ff;}#sk-container-id-237 div.sk-toggleable__content pre {margin: 0.2em;color: black;border-radius: 0.25em;background-color: #f0f8ff;}#sk-container-id-237 input.sk-toggleable__control:checked~div.sk-toggleable__content {max-height: 200px;max-width: 100%;overflow: auto;}#sk-container-id-237 input.sk-toggleable__control:checked~label.sk-toggleable__label-arrow:before {content: \"▾\";}#sk-container-id-237 div.sk-estimator input.sk-toggleable__control:checked~label.sk-toggleable__label {background-color: #d4ebff;}#sk-container-id-237 div.sk-label input.sk-toggleable__control:checked~label.sk-toggleable__label {background-color: #d4ebff;}#sk-container-id-237 input.sk-hidden--visually {border: 0;clip: rect(1px 1px 1px 1px);clip: rect(1px, 1px, 1px, 1px);height: 1px;margin: -1px;overflow: hidden;padding: 0;position: absolute;width: 1px;}#sk-container-id-237 div.sk-estimator {font-family: monospace;background-color: #f0f8ff;border: 1px dotted black;border-radius: 0.25em;box-sizing: border-box;margin-bottom: 0.5em;}#sk-container-id-237 div.sk-estimator:hover {background-color: #d4ebff;}#sk-container-id-237 div.sk-parallel-item::after {content: \"\";width: 100%;border-bottom: 1px solid gray;flex-grow: 1;}#sk-container-id-237 div.sk-label:hover label.sk-toggleable__label {background-color: #d4ebff;}#sk-container-id-237 div.sk-serial::before {content: \"\";position: absolute;border-left: 1px solid gray;box-sizing: border-box;top: 0;bottom: 0;left: 50%;z-index: 0;}#sk-container-id-237 div.sk-serial {display: flex;flex-direction: column;align-items: center;background-color: white;padding-right: 0.2em;padding-left: 0.2em;position: relative;}#sk-container-id-237 div.sk-item {position: relative;z-index: 1;}#sk-container-id-237 div.sk-parallel {display: flex;align-items: stretch;justify-content: center;background-color: white;position: relative;}#sk-container-id-237 div.sk-item::before, #sk-container-id-237 div.sk-parallel-item::before {content: \"\";position: absolute;border-left: 1px solid gray;box-sizing: border-box;top: 0;bottom: 0;left: 50%;z-index: -1;}#sk-container-id-237 div.sk-parallel-item {display: flex;flex-direction: column;z-index: 1;position: relative;background-color: white;}#sk-container-id-237 div.sk-parallel-item:first-child::after {align-self: flex-end;width: 50%;}#sk-container-id-237 div.sk-parallel-item:last-child::after {align-self: flex-start;width: 50%;}#sk-container-id-237 div.sk-parallel-item:only-child::after {width: 0;}#sk-container-id-237 div.sk-dashed-wrapped {border: 1px dashed gray;margin: 0 0.4em 0.5em 0.4em;box-sizing: border-box;padding-bottom: 0.4em;background-color: white;}#sk-container-id-237 div.sk-label label {font-family: monospace;font-weight: bold;display: inline-block;line-height: 1.2em;}#sk-container-id-237 div.sk-label-container {text-align: center;}#sk-container-id-237 div.sk-container {/* jupyter's `normalize.less` sets `[hidden] { display: none; }` but bootstrap.min.css set `[hidden] { display: none !important; }` so we also need the `!important` here to be able to override the default hidden behavior on the sphinx rendered scikit-learn.org. See: https://github.com/scikit-learn/scikit-learn/issues/21755 */display: inline-block !important;position: relative;}#sk-container-id-237 div.sk-text-repr-fallback {display: none;}</style><div id=\"sk-container-id-237\" class=\"sk-top-container\"><div class=\"sk-text-repr-fallback\"><pre>XGBRegressor(base_score=None, booster=None, callbacks=None,\n",
       "             colsample_bylevel=None, colsample_bynode=None,\n",
       "             colsample_bytree=None, device=None, early_stopping_rounds=None,\n",
       "             enable_categorical=False, eval_metric=None, feature_types=None,\n",
       "             gamma=None, grow_policy=None, importance_type=None,\n",
       "             interaction_constraints=None, learning_rate=None, max_bin=None,\n",
       "             max_cat_threshold=None, max_cat_to_onehot=None,\n",
       "             max_delta_step=None, max_depth=16, max_leaves=16,\n",
       "             min_child_weight=None, missing=nan, monotone_constraints=None,\n",
       "             multi_strategy=None, n_estimators=None, n_jobs=None,\n",
       "             num_parallel_tree=None, random_state=None, ...)</pre><b>In a Jupyter environment, please rerun this cell to show the HTML representation or trust the notebook. <br />On GitHub, the HTML representation is unable to render, please try loading this page with nbviewer.org.</b></div><div class=\"sk-container\" hidden><div class=\"sk-item\"><div class=\"sk-estimator sk-toggleable\"><input class=\"sk-toggleable__control sk-hidden--visually\" id=\"sk-estimator-id-237\" type=\"checkbox\" checked><label for=\"sk-estimator-id-237\" class=\"sk-toggleable__label sk-toggleable__label-arrow\">XGBRegressor</label><div class=\"sk-toggleable__content\"><pre>XGBRegressor(base_score=None, booster=None, callbacks=None,\n",
       "             colsample_bylevel=None, colsample_bynode=None,\n",
       "             colsample_bytree=None, device=None, early_stopping_rounds=None,\n",
       "             enable_categorical=False, eval_metric=None, feature_types=None,\n",
       "             gamma=None, grow_policy=None, importance_type=None,\n",
       "             interaction_constraints=None, learning_rate=None, max_bin=None,\n",
       "             max_cat_threshold=None, max_cat_to_onehot=None,\n",
       "             max_delta_step=None, max_depth=16, max_leaves=16,\n",
       "             min_child_weight=None, missing=nan, monotone_constraints=None,\n",
       "             multi_strategy=None, n_estimators=None, n_jobs=None,\n",
       "             num_parallel_tree=None, random_state=None, ...)</pre></div></div></div></div></div>"
      ],
      "text/plain": [
       "XGBRegressor(base_score=None, booster=None, callbacks=None,\n",
       "             colsample_bylevel=None, colsample_bynode=None,\n",
       "             colsample_bytree=None, device=None, early_stopping_rounds=None,\n",
       "             enable_categorical=False, eval_metric=None, feature_types=None,\n",
       "             gamma=None, grow_policy=None, importance_type=None,\n",
       "             interaction_constraints=None, learning_rate=None, max_bin=None,\n",
       "             max_cat_threshold=None, max_cat_to_onehot=None,\n",
       "             max_delta_step=None, max_depth=16, max_leaves=16,\n",
       "             min_child_weight=None, missing=nan, monotone_constraints=None,\n",
       "             multi_strategy=None, n_estimators=None, n_jobs=None,\n",
       "             num_parallel_tree=None, random_state=None, ...)"
      ]
     },
     "execution_count": 1735,
     "metadata": {},
     "output_type": "execute_result"
    }
   ],
   "source": [
    "xgb_regressor = XGBRegressor(max_depth = 16 , max_leaves= 16)\n",
    "\n",
    "xgb_regressor.fit(X_train, y_train)"
   ]
  },
  {
   "cell_type": "code",
   "execution_count": 1736,
   "metadata": {},
   "outputs": [
    {
     "data": {
      "text/plain": [
       "0.8697777011706754"
      ]
     },
     "execution_count": 1736,
     "metadata": {},
     "output_type": "execute_result"
    }
   ],
   "source": [
    "xgb_regressor.score(X_train,y_train)"
   ]
  },
  {
   "cell_type": "code",
   "execution_count": 1737,
   "metadata": {},
   "outputs": [
    {
     "data": {
      "text/plain": [
       "0.8496268837933676"
      ]
     },
     "execution_count": 1737,
     "metadata": {},
     "output_type": "execute_result"
    }
   ],
   "source": [
    "xgb_regressor.score(X_val,y_val)"
   ]
  },
  {
   "cell_type": "markdown",
   "metadata": {},
   "source": [
    "perfect now the difference is about 2% and it is quite well lets evaluate the model on the test data"
   ]
  },
  {
   "cell_type": "code",
   "execution_count": 1738,
   "metadata": {},
   "outputs": [
    {
     "data": {
      "text/plain": [
       "0.8472715634283059"
      ]
     },
     "execution_count": 1738,
     "metadata": {},
     "output_type": "execute_result"
    }
   ],
   "source": [
    "xgb_regressor.score(X_test,y_test)"
   ]
  },
  {
   "cell_type": "markdown",
   "metadata": {},
   "source": [
    "85% accuracy is quite well accuracy for this data"
   ]
  }
 ],
 "metadata": {
  "kernelspec": {
   "display_name": "Python 3",
   "language": "python",
   "name": "python3"
  },
  "language_info": {
   "codemirror_mode": {
    "name": "ipython",
    "version": 3
   },
   "file_extension": ".py",
   "mimetype": "text/x-python",
   "name": "python",
   "nbconvert_exporter": "python",
   "pygments_lexer": "ipython3",
   "version": "3.11.0"
  }
 },
 "nbformat": 4,
 "nbformat_minor": 2
}
